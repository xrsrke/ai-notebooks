{
 "cells": [
  {
   "cell_type": "code",
   "execution_count": 1,
   "id": "27ab2080-4e2c-47b8-a642-4058f4fc3ef9",
   "metadata": {},
   "outputs": [],
   "source": [
    "import os\n",
    "\n",
    "import torch\n",
    "from torch.utils.data import Dataset\n",
    "import pandas as pd"
   ]
  },
  {
   "cell_type": "code",
   "execution_count": 2,
   "id": "de775be5-ffa7-4bfc-b4b1-183e1167a039",
   "metadata": {},
   "outputs": [],
   "source": [
    "data = {'Title': ['Homo Sapiens', \n",
    "                 'Homo Deus', \n",
    "                 'Octopus']}\n",
    "\n",
    "# Create a Pandas DataFrame with the data\n",
    "df = pd.DataFrame(data)"
   ]
  },
  {
   "cell_type": "code",
   "execution_count": 3,
   "id": "670a7788-d6c7-45b5-b296-6f098f3278a7",
   "metadata": {},
   "outputs": [
    {
     "data": {
      "text/html": [
       "<div>\n",
       "<style scoped>\n",
       "    .dataframe tbody tr th:only-of-type {\n",
       "        vertical-align: middle;\n",
       "    }\n",
       "\n",
       "    .dataframe tbody tr th {\n",
       "        vertical-align: top;\n",
       "    }\n",
       "\n",
       "    .dataframe thead th {\n",
       "        text-align: right;\n",
       "    }\n",
       "</style>\n",
       "<table border=\"1\" class=\"dataframe\">\n",
       "  <thead>\n",
       "    <tr style=\"text-align: right;\">\n",
       "      <th></th>\n",
       "      <th>Title</th>\n",
       "    </tr>\n",
       "  </thead>\n",
       "  <tbody>\n",
       "    <tr>\n",
       "      <th>0</th>\n",
       "      <td>Homo Sapiens</td>\n",
       "    </tr>\n",
       "    <tr>\n",
       "      <th>1</th>\n",
       "      <td>Homo Deus</td>\n",
       "    </tr>\n",
       "    <tr>\n",
       "      <th>2</th>\n",
       "      <td>Octopus</td>\n",
       "    </tr>\n",
       "  </tbody>\n",
       "</table>\n",
       "</div>"
      ],
      "text/plain": [
       "          Title\n",
       "0  Homo Sapiens\n",
       "1     Homo Deus\n",
       "2       Octopus"
      ]
     },
     "execution_count": 3,
     "metadata": {},
     "output_type": "execute_result"
    }
   ],
   "source": [
    "df"
   ]
  },
  {
   "cell_type": "code",
   "execution_count": 14,
   "id": "36360d6b-5145-485e-bc00-3b60dd7ec249",
   "metadata": {},
   "outputs": [
    {
     "data": {
      "text/plain": [
       "Title    Homo Sapiens\n",
       "Name: 0, dtype: object"
      ]
     },
     "execution_count": 14,
     "metadata": {},
     "output_type": "execute_result"
    }
   ],
   "source": [
    "df.iloc[0]"
   ]
  },
  {
   "cell_type": "code",
   "execution_count": 4,
   "id": "0b6055cd-06d5-4373-a0ec-9225021cdd84",
   "metadata": {},
   "outputs": [
    {
     "ename": "IndentationError",
     "evalue": "expected an indented block (1363826637.py, line 10)",
     "output_type": "error",
     "traceback": [
      "\u001b[0;36m  Input \u001b[0;32mIn [4]\u001b[0;36m\u001b[0m\n\u001b[0;31m    \u001b[0m\n\u001b[0m    ^\u001b[0m\n\u001b[0;31mIndentationError\u001b[0m\u001b[0;31m:\u001b[0m expected an indented block\n"
     ]
    }
   ],
   "source": [
    "class PetDataset(Dataset):\n",
    "    def __init__(self, dataframe):\n",
    "        self.dataframe = self.dataframe\n",
    "    \n",
    "    def __len__(self):\n",
    "        return len(self.dataframe)\n",
    "    \n",
    "    def __getitem__(self, index):\n",
    "        title = self.dataframe.iloc[index]"
   ]
  },
  {
   "cell_type": "markdown",
   "id": "122d57e9-fc48-4337-a0ed-252a7d478fcb",
   "metadata": {},
   "source": [
    "##### Example"
   ]
  },
  {
   "cell_type": "code",
   "execution_count": 30,
   "id": "df784f05-5b78-4ba1-abe2-4fc1f89f828b",
   "metadata": {},
   "outputs": [],
   "source": [
    "books = {\n",
    "    0: {\n",
    "        'title': 'Sapiens',\n",
    "        'year_published': 2011,\n",
    "    },\n",
    "    1: {\n",
    "        'title': 'Homo Deus',\n",
    "        'year_published': 2015,\n",
    "    },\n",
    "    2: {\n",
    "        'title': '21 Lessons for the 21st Century',\n",
    "        'year_published': 2018,\n",
    "    }\n",
    "}\n"
   ]
  },
  {
   "cell_type": "code",
   "execution_count": 44,
   "id": "27ef7f5f-2949-488c-b510-8565f7b3e842",
   "metadata": {},
   "outputs": [],
   "source": [
    "from torch.utils.data import Dataset"
   ]
  },
  {
   "cell_type": "code",
   "execution_count": 45,
   "id": "225450ff-ff96-4f88-9031-e14ade233e82",
   "metadata": {},
   "outputs": [
    {
     "data": {
      "text/plain": [
       "{0: {'title': 'Sapiens', 'year_published': 2011},\n",
       " 1: {'title': 'Homo Deus', 'year_published': 2015},\n",
       " 2: {'title': '21 Lessons for the 21st Century', 'year_published': 2018}}"
      ]
     },
     "execution_count": 45,
     "metadata": {},
     "output_type": "execute_result"
    }
   ],
   "source": [
    "books"
   ]
  },
  {
   "cell_type": "markdown",
   "id": "8f643ee6-8ce2-4d34-959c-072e72ed7079",
   "metadata": {},
   "source": [
    "Create `PetDataset` using PyTorch's `Dataset`"
   ]
  },
  {
   "cell_type": "code",
   "execution_count": 46,
   "id": "79317cf3-5112-4b30-83f6-9b850eb82005",
   "metadata": {},
   "outputs": [],
   "source": [
    "class PetDataset(Dataset):\n",
    "    def __init__(self, data):\n",
    "        self.data = data\n",
    "    \n",
    "    def __len__(self):\n",
    "        return len(self.data)\n",
    "    \n",
    "    def __getitem__(self, index):\n",
    "        title = self.data[index]['title']\n",
    "        year_published = self.data[index]['year_published']\n",
    "        \n",
    "        return (title, year_published)"
   ]
  },
  {
   "cell_type": "code",
   "execution_count": 47,
   "id": "04f76ef3-45b6-41f3-908d-820181b574b5",
   "metadata": {},
   "outputs": [],
   "source": [
    "dataset = PetDataset(data=books)"
   ]
  },
  {
   "cell_type": "code",
   "execution_count": 48,
   "id": "6db253eb-8fec-467e-b93a-d5a5aab5a52c",
   "metadata": {},
   "outputs": [
    {
     "data": {
      "text/plain": [
       "3"
      ]
     },
     "execution_count": 48,
     "metadata": {},
     "output_type": "execute_result"
    }
   ],
   "source": [
    "len(dataset)"
   ]
  },
  {
   "cell_type": "code",
   "execution_count": 49,
   "id": "f6c9a68d-b94a-4c2c-bbc0-6d77dd2eb69a",
   "metadata": {},
   "outputs": [
    {
     "data": {
      "text/plain": [
       "('Sapiens', 2011)"
      ]
     },
     "execution_count": 49,
     "metadata": {},
     "output_type": "execute_result"
    }
   ],
   "source": [
    "dataset[0]"
   ]
  },
  {
   "cell_type": "code",
   "execution_count": 50,
   "id": "fb2e09ac-0a11-48c2-943f-3b55653118e8",
   "metadata": {},
   "outputs": [
    {
     "data": {
      "text/plain": [
       "('21 Lessons for the 21st Century', 2018)"
      ]
     },
     "execution_count": 50,
     "metadata": {},
     "output_type": "execute_result"
    }
   ],
   "source": [
    "dataset[2]"
   ]
  },
  {
   "cell_type": "markdown",
   "id": "d15055b1-8d9f-412e-9531-57a8693fa3c4",
   "metadata": {},
   "source": [
    "### DataLoader"
   ]
  },
  {
   "cell_type": "markdown",
   "id": "4003041f-48b8-4f3c-aa71-c7509d7d56ef",
   "metadata": {},
   "source": [
    "##### Example 1"
   ]
  },
  {
   "cell_type": "code",
   "execution_count": 73,
   "id": "c71c861b-03f0-47aa-89b9-9b897bd55505",
   "metadata": {},
   "outputs": [],
   "source": [
    "books = {\n",
    "    0: {\n",
    "        'title': 'Sapiens',\n",
    "        'year_published': 2011,\n",
    "    },\n",
    "    1: {\n",
    "        'title': 'Homo Deus',\n",
    "        'year_published': 2015,\n",
    "    },\n",
    "    2: {\n",
    "        'title': 'Homo Deus',\n",
    "        'year_published': 2015,\n",
    "    },\n",
    "    3: {\n",
    "        'title': '21 Lessons for the 21st Century',\n",
    "        'year_published': 2018,\n",
    "    },\n",
    "    4: {\n",
    "        'title': 'Homo Deus',\n",
    "        'year_published': 2015,\n",
    "    },\n",
    "    5: {\n",
    "        'title': '21 Lessons for the 21st Century',\n",
    "        'year_published': 2018,\n",
    "    },\n",
    "    6: {\n",
    "        'title': 'Homo Deus',\n",
    "        'year_published': 2015,\n",
    "    },\n",
    "    7: {\n",
    "        'title': '21 Lessons for the 21st Century',\n",
    "        'year_published': 2018,\n",
    "    },\n",
    "    8: {\n",
    "        'title': 'Homo Deus',\n",
    "        'year_published': 2015,\n",
    "    },\n",
    "    9: {\n",
    "        'title': '21 Lessons for the 21st Century',\n",
    "        'year_published': 2018,\n",
    "    }\n",
    "}\n"
   ]
  },
  {
   "cell_type": "code",
   "execution_count": 97,
   "id": "d9fd1dcd-b16e-48f7-a4f8-770d4bca8c6c",
   "metadata": {},
   "outputs": [],
   "source": [
    "dataset = PetDataset(data=books)"
   ]
  },
  {
   "cell_type": "code",
   "execution_count": 112,
   "id": "09e2f275-9f63-4ddf-9ef1-1363354005e3",
   "metadata": {},
   "outputs": [],
   "source": [
    "from torch.utils.data import DataLoader, random_split"
   ]
  },
  {
   "cell_type": "code",
   "execution_count": 113,
   "id": "795b628e-a666-4fb3-bfe1-786ffa62f41b",
   "metadata": {},
   "outputs": [
    {
     "data": {
      "text/plain": [
       "10"
      ]
     },
     "execution_count": 113,
     "metadata": {},
     "output_type": "execute_result"
    }
   ],
   "source": [
    "len(dataset)"
   ]
  },
  {
   "cell_type": "markdown",
   "id": "924a21c7-7361-4cda-927e-ddaf630817eb",
   "metadata": {},
   "source": [
    "Given `dataset`, create dataloaders for training set and validation set\n",
    "- Randomly select `6` items in `dataset` for training set and `4` items for validation set\n",
    "- Batch size of both dataloaders is `2`"
   ]
  },
  {
   "cell_type": "code",
   "execution_count": 114,
   "id": "17cd3cc3-12f3-40bf-be92-16809ac49e98",
   "metadata": {},
   "outputs": [],
   "source": [
    "train_set, test_set = random_split(dataset, lengths=[6, 4])"
   ]
  },
  {
   "cell_type": "code",
   "execution_count": 115,
   "id": "00337ad0-9be9-44da-a6fa-fcc11bb36540",
   "metadata": {},
   "outputs": [],
   "source": [
    "train_loader = DataLoader(dataset=train_set, batch_size=2)"
   ]
  },
  {
   "cell_type": "code",
   "execution_count": 116,
   "id": "f28ef15a-2a4b-4b20-9f66-e3281a18a54d",
   "metadata": {},
   "outputs": [],
   "source": [
    "valid_loader = DataLoader(dataset=test_set, batch_size=2)"
   ]
  },
  {
   "cell_type": "code",
   "execution_count": 117,
   "id": "9f8ca6f5-1611-4e74-b779-1ccfc39e8f03",
   "metadata": {},
   "outputs": [
    {
     "data": {
      "text/plain": [
       "(<torch.utils.data.dataloader.DataLoader at 0x7ffb2f23ea90>,\n",
       " <torch.utils.data.dataloader.DataLoader at 0x7ffb2f0bae80>)"
      ]
     },
     "execution_count": 117,
     "metadata": {},
     "output_type": "execute_result"
    }
   ],
   "source": [
    "train_loader, valid_loader"
   ]
  },
  {
   "cell_type": "code",
   "execution_count": null,
   "id": "a550a5ee-11f7-4f88-bfc4-bb1bd6d5ca05",
   "metadata": {},
   "outputs": [],
   "source": []
  }
 ],
 "metadata": {
  "kernelspec": {
   "display_name": "Python 3 (ipykernel)",
   "language": "python",
   "name": "python3"
  },
  "language_info": {
   "codemirror_mode": {
    "name": "ipython",
    "version": 3
   },
   "file_extension": ".py",
   "mimetype": "text/x-python",
   "name": "python",
   "nbconvert_exporter": "python",
   "pygments_lexer": "ipython3",
   "version": "3.9.13"
  }
 },
 "nbformat": 4,
 "nbformat_minor": 5
}
