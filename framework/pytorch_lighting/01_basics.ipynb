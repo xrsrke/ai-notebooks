{
 "cells": [
  {
   "cell_type": "code",
   "execution_count": 1,
   "id": "be9366ec-ed01-48ec-b5ff-f1f9b259d19a",
   "metadata": {},
   "outputs": [],
   "source": [
    "import torch\n",
    "import torch.nn as nn\n",
    "import torch.nn.functional as F\n",
    "from torch.utils.data import DataLoader, random_split\n",
    "from torchvision import datasets\n",
    "from torchvision import transforms\n",
    "\n",
    "\n",
    "import torch.optim as optim"
   ]
  },
  {
   "cell_type": "code",
   "execution_count": 2,
   "id": "11497f48-3291-4e65-83ba-81863f0e9099",
   "metadata": {},
   "outputs": [],
   "source": [
    "import pytorch_lightning as pl"
   ]
  },
  {
   "cell_type": "markdown",
   "id": "369cfe9d-a82e-4b1f-ac6a-24101509d170",
   "metadata": {
    "jp-MarkdownHeadingCollapsed": true,
    "tags": []
   },
   "source": [
    "##### base"
   ]
  },
  {
   "cell_type": "code",
   "execution_count": 13,
   "id": "f311f0a1-bcd7-4abf-b71b-219996037223",
   "metadata": {},
   "outputs": [],
   "source": [
    "train_data = datasets.MNIST('data', train=True, download=True, transform=transforms.ToTensor())"
   ]
  },
  {
   "cell_type": "code",
   "execution_count": 14,
   "id": "36c5d480-8f48-495b-82b2-16b18f03160a",
   "metadata": {},
   "outputs": [],
   "source": [
    "train_loader = DataLoader(train_data, batch_size=32)"
   ]
  },
  {
   "cell_type": "code",
   "execution_count": 15,
   "id": "4bd82b86-0edf-41e0-b8ba-4b541fda6dec",
   "metadata": {},
   "outputs": [],
   "source": [
    "class ResNet(nn.Module):\n",
    "    def __init__(self):\n",
    "        super().__init__()\n",
    "        self.l1 = nn.Linear(28*28, 64)\n",
    "        self.l2 = nn.Linear(64, 64)\n",
    "        self.l3 = nn.Linear(64, 10)\n",
    "        self.dropout = nn.Dropout(0.1)\n",
    "    \n",
    "    def forward(self, x):\n",
    "        h1 = F.relu(self.l1(x))\n",
    "        h2 = F.relu(self.l2(h1))\n",
    "        dropout = self.dropout(h2 + h1)\n",
    "        logits = self.l3(dropout)\n",
    "        return logits"
   ]
  },
  {
   "cell_type": "markdown",
   "id": "14f834da-6e36-482e-a2e8-0c82fe642b84",
   "metadata": {
    "jp-MarkdownHeadingCollapsed": true,
    "tags": []
   },
   "source": [
    "##### Example 2: configure_optimiziers"
   ]
  },
  {
   "cell_type": "code",
   "execution_count": 138,
   "id": "ad57e786-fb2e-46a4-ad52-25a30d9ed437",
   "metadata": {},
   "outputs": [],
   "source": [
    "_model1 = ResNet()"
   ]
  },
  {
   "cell_type": "code",
   "execution_count": 157,
   "id": "ad673368-0f14-49f8-a425-bbd1a7b2ad87",
   "metadata": {},
   "outputs": [],
   "source": [
    "import pytorch_lightning as pl"
   ]
  },
  {
   "cell_type": "code",
   "execution_count": 158,
   "id": "f9920a04-21c0-4111-97f6-363b5be54c0e",
   "metadata": {},
   "outputs": [
    {
     "data": {
      "text/plain": [
       "ResNet(\n",
       "  (l1): Linear(in_features=784, out_features=64, bias=True)\n",
       "  (l2): Linear(in_features=64, out_features=64, bias=True)\n",
       "  (l3): Linear(in_features=64, out_features=10, bias=True)\n",
       "  (dropout): Dropout(p=0.1, inplace=False)\n",
       ")"
      ]
     },
     "execution_count": 158,
     "metadata": {},
     "output_type": "execute_result"
    }
   ],
   "source": [
    "_model1"
   ]
  },
  {
   "cell_type": "code",
   "execution_count": 159,
   "id": "8c80061c-c9b0-4964-abdf-02085632b062",
   "metadata": {},
   "outputs": [],
   "source": [
    "optimizier = optim.SGD(_model1.parameters(), lr=1e-2)"
   ]
  },
  {
   "cell_type": "markdown",
   "id": "7cd0d4b4-7085-4eed-962f-d4dd699d4eb3",
   "metadata": {},
   "source": [
    "Write the `configure_optimizers` method for `LightingModule` from `_model1` and `optimizier`"
   ]
  },
  {
   "cell_type": "code",
   "execution_count": 160,
   "id": "98d98ce5-9f68-4a49-a46e-792cd75a51d8",
   "metadata": {},
   "outputs": [],
   "source": [
    "class LitResNet(pl.LightningModule):\n",
    "    def __init__(self):\n",
    "        super().__init__()\n",
    "        self.model = _model1\n",
    "    \n",
    "    def configure_optimizers(self):\n",
    "        optimizier = optim.SGD(self.model.parameters(), lr=1e-2)\n",
    "        return optimizier"
   ]
  },
  {
   "cell_type": "code",
   "execution_count": 161,
   "id": "71e34c8b-129d-40e8-b0be-9992cd0a2577",
   "metadata": {},
   "outputs": [],
   "source": [
    "lit_model = LitResNet()"
   ]
  },
  {
   "cell_type": "code",
   "execution_count": 162,
   "id": "1bfc20d7-f130-4a8f-a5f0-6367f4b92aa4",
   "metadata": {},
   "outputs": [
    {
     "data": {
      "text/plain": [
       "LitResNet(\n",
       "  (model): ResNet(\n",
       "    (l1): Linear(in_features=784, out_features=64, bias=True)\n",
       "    (l2): Linear(in_features=64, out_features=64, bias=True)\n",
       "    (l3): Linear(in_features=64, out_features=10, bias=True)\n",
       "    (dropout): Dropout(p=0.1, inplace=False)\n",
       "  )\n",
       ")"
      ]
     },
     "execution_count": 162,
     "metadata": {},
     "output_type": "execute_result"
    }
   ],
   "source": [
    "lit_model"
   ]
  },
  {
   "cell_type": "markdown",
   "id": "b2523766-d1af-4c10-8416-b2143d7c6074",
   "metadata": {
    "jp-MarkdownHeadingCollapsed": true,
    "tags": []
   },
   "source": [
    "##### Example 3: `training_step`"
   ]
  },
  {
   "cell_type": "code",
   "execution_count": 146,
   "id": "b2d09c50-62a0-4cdf-b322-f4022dce0b1e",
   "metadata": {},
   "outputs": [],
   "source": [
    "import pytorch_lightning as pl"
   ]
  },
  {
   "cell_type": "code",
   "execution_count": 147,
   "id": "892587cf-5d2b-4ec9-80e4-32d8d3b9045e",
   "metadata": {},
   "outputs": [
    {
     "data": {
      "text/plain": [
       "ResNet(\n",
       "  (l1): Linear(in_features=784, out_features=64, bias=True)\n",
       "  (l2): Linear(in_features=64, out_features=64, bias=True)\n",
       "  (l3): Linear(in_features=64, out_features=10, bias=True)\n",
       "  (dropout): Dropout(p=0.1, inplace=False)\n",
       ")"
      ]
     },
     "execution_count": 147,
     "metadata": {},
     "output_type": "execute_result"
    }
   ],
   "source": [
    "_model1"
   ]
  },
  {
   "cell_type": "code",
   "execution_count": 11,
   "id": "f897763d-1509-497b-8930-b72304d21c32",
   "metadata": {},
   "outputs": [],
   "source": [
    "loss = nn.CrossEntropyLoss()"
   ]
  },
  {
   "cell_type": "markdown",
   "id": "e5428530-07a5-444d-906a-ba888f62c094",
   "metadata": {},
   "source": [
    "Write the `training_step` method for `LightingModule` from `_model1`, `loss`"
   ]
  },
  {
   "cell_type": "code",
   "execution_count": 149,
   "id": "3fbc9a20-fbe4-44e8-8a99-ccfdd68f76ee",
   "metadata": {},
   "outputs": [],
   "source": [
    "class LitResNet(pl.LightningModule):\n",
    "    def __init__(self):\n",
    "        super().__init__()\n",
    "        self.model = _model1\n",
    "        self.loss = nn.CrossEntropyLoss()\n",
    "\n",
    "    def training_step(self, batch, batch_idx):\n",
    "        x, y = batch\n",
    "        x = x.view(x.size(0), -1) # can be ignore\n",
    "        pred = self.model(x)\n",
    "        loss = self.loss(pred, y)\n",
    "        \n",
    "        return loss"
   ]
  },
  {
   "cell_type": "code",
   "execution_count": 150,
   "id": "4b284ecd-9320-4d6b-a74f-bc0408d6af68",
   "metadata": {},
   "outputs": [],
   "source": [
    "lit_model = LitResNet()"
   ]
  },
  {
   "cell_type": "code",
   "execution_count": 151,
   "id": "6993b815-7d36-42af-9aed-c97dc1e8cfa7",
   "metadata": {},
   "outputs": [
    {
     "data": {
      "text/plain": [
       "LitResNet(\n",
       "  (model): ResNet(\n",
       "    (l1): Linear(in_features=784, out_features=64, bias=True)\n",
       "    (l2): Linear(in_features=64, out_features=64, bias=True)\n",
       "    (l3): Linear(in_features=64, out_features=10, bias=True)\n",
       "    (dropout): Dropout(p=0.1, inplace=False)\n",
       "  )\n",
       "  (loss): CrossEntropyLoss()\n",
       ")"
      ]
     },
     "execution_count": 151,
     "metadata": {},
     "output_type": "execute_result"
    }
   ],
   "source": [
    "lit_model"
   ]
  },
  {
   "cell_type": "markdown",
   "id": "28bbb4ae-37a6-42f4-9d7b-b13ba25d0639",
   "metadata": {
    "jp-MarkdownHeadingCollapsed": true,
    "tags": []
   },
   "source": [
    "##### Example 4: do the train"
   ]
  },
  {
   "cell_type": "code",
   "execution_count": 27,
   "id": "fc47f9e6-6e6a-4900-841f-c39c8b894c1c",
   "metadata": {},
   "outputs": [],
   "source": [
    "loss = nn.CrossEntropyLoss()"
   ]
  },
  {
   "cell_type": "code",
   "execution_count": 28,
   "id": "a89d6411-4590-4740-9c2e-3e071e388ddb",
   "metadata": {},
   "outputs": [],
   "source": [
    "_model1 = ResNet()"
   ]
  },
  {
   "cell_type": "markdown",
   "id": "5b943b24-0870-47f3-9fcd-bda23ca070d8",
   "metadata": {},
   "source": [
    "Turn `ResNet` to `LightingModule`"
   ]
  },
  {
   "cell_type": "code",
   "execution_count": 24,
   "id": "6caa745e-125d-4cab-86ce-9ba0e11d9209",
   "metadata": {},
   "outputs": [],
   "source": [
    "optimizier = optim.SGD(_model1.parameters(), lr=1e-2)"
   ]
  },
  {
   "cell_type": "code",
   "execution_count": 119,
   "id": "429712c7-fa7f-4397-bbf0-25eb3c5e8516",
   "metadata": {},
   "outputs": [],
   "source": [
    "class LitResNet(pl.LightningModule):\n",
    "    def __init__(self):\n",
    "        super().__init__()\n",
    "        self.model = _model1\n",
    "        self.loss = nn.CrossEntropyLoss()\n",
    "    \n",
    "    def configure_optimizers(self):\n",
    "        optimiziers = optim.SGD(self.model.parameters(), lr=1e-2)\n",
    "        return optimiziers\n",
    "\n",
    "    def training_step(self, batch, batch_idx):\n",
    "        x, y = batch\n",
    "        x = x.view(x.size(0), -1) # can be ignore\n",
    "        pred = self.model(x)\n",
    "        loss = self.loss(pred, y)\n",
    "        \n",
    "        return loss"
   ]
  },
  {
   "cell_type": "code",
   "execution_count": 120,
   "id": "84363f3d-24c7-4b20-b6d3-a47db5be9863",
   "metadata": {},
   "outputs": [],
   "source": [
    "lit_model = LitResNet()"
   ]
  },
  {
   "cell_type": "code",
   "execution_count": 125,
   "id": "75e06863-3b0f-4fc5-9844-1c74e5b66374",
   "metadata": {},
   "outputs": [],
   "source": [
    "import pytorch_lightning as pl"
   ]
  },
  {
   "cell_type": "code",
   "execution_count": 126,
   "id": "a80f14b8-3df9-41d5-b391-a7914d1f68fb",
   "metadata": {},
   "outputs": [
    {
     "data": {
      "text/plain": [
       "<torch.utils.data.dataloader.DataLoader at 0x7f1e25fbd4f0>"
      ]
     },
     "execution_count": 126,
     "metadata": {},
     "output_type": "execute_result"
    }
   ],
   "source": [
    "train_loader"
   ]
  },
  {
   "cell_type": "code",
   "execution_count": 124,
   "id": "92be0a8c-3b65-499e-85f7-8afa34e3f557",
   "metadata": {},
   "outputs": [
    {
     "data": {
      "text/plain": [
       "LitResNet(\n",
       "  (model): ResNet(\n",
       "    (l1): Linear(in_features=784, out_features=64, bias=True)\n",
       "    (l2): Linear(in_features=64, out_features=64, bias=True)\n",
       "    (l3): Linear(in_features=64, out_features=10, bias=True)\n",
       "    (dropout): Dropout(p=0.1, inplace=False)\n",
       "  )\n",
       "  (loss): CrossEntropyLoss()\n",
       ")"
      ]
     },
     "execution_count": 124,
     "metadata": {},
     "output_type": "execute_result"
    }
   ],
   "source": [
    "lit_model"
   ]
  },
  {
   "cell_type": "markdown",
   "id": "723656a3-d3c1-4cf5-8995-80995af81d97",
   "metadata": {},
   "source": [
    "`lit_model` is a lighting module and `train_loader` is the train dataloader. Do training"
   ]
  },
  {
   "cell_type": "code",
   "execution_count": 129,
   "id": "758efb9e-0182-4de9-8cdb-87a12aa76118",
   "metadata": {},
   "outputs": [
    {
     "name": "stderr",
     "output_type": "stream",
     "text": [
      "GPU available: True (cuda), used: True\n",
      "TPU available: False, using: 0 TPU cores\n",
      "IPU available: False, using: 0 IPUs\n",
      "HPU available: False, using: 0 HPUs\n"
     ]
    }
   ],
   "source": [
    "trainer = pl.Trainer(accelerator='gpu', devices=1)"
   ]
  },
  {
   "cell_type": "code",
   "execution_count": 131,
   "id": "9592f428-45b9-4f29-b0e4-5d29b0263e1a",
   "metadata": {},
   "outputs": [
    {
     "name": "stderr",
     "output_type": "stream",
     "text": [
      "/usr/local/lib/python3.9/dist-packages/pytorch_lightning/callbacks/model_checkpoint.py:616: UserWarning: Checkpoint directory /notebooks/pytorch_lighting/lightning_logs/version_3/checkpoints exists and is not empty.\n",
      "  rank_zero_warn(f\"Checkpoint directory {dirpath} exists and is not empty.\")\n",
      "LOCAL_RANK: 0 - CUDA_VISIBLE_DEVICES: [0]\n",
      "\n",
      "  | Name  | Type             | Params\n",
      "-------------------------------------------\n",
      "0 | model | ResNet           | 55.1 K\n",
      "1 | loss  | CrossEntropyLoss | 0     \n",
      "-------------------------------------------\n",
      "55.1 K    Trainable params\n",
      "0         Non-trainable params\n",
      "55.1 K    Total params\n",
      "0.220     Total estimated model params size (MB)\n"
     ]
    },
    {
     "data": {
      "application/vnd.jupyter.widget-view+json": {
       "model_id": "3f26fbc5c5d842dab9cd4a73f6761bf8",
       "version_major": 2,
       "version_minor": 0
      },
      "text/plain": [
       "Training: 915it [00:00, ?it/s]"
      ]
     },
     "metadata": {},
     "output_type": "display_data"
    }
   ],
   "source": [
    "trainer.fit(lit_model, train_loader)"
   ]
  },
  {
   "cell_type": "markdown",
   "id": "b42335b8-1e0c-436f-9af2-554294ac5149",
   "metadata": {
    "jp-MarkdownHeadingCollapsed": true,
    "tags": []
   },
   "source": [
    "##### back to lesson"
   ]
  },
  {
   "cell_type": "code",
   "execution_count": 163,
   "id": "f3db31bc-a81f-4a88-aef3-93da12fe9bcc",
   "metadata": {},
   "outputs": [
    {
     "name": "stdout",
     "output_type": "stream",
     "text": [
      "version_0  version_1  version_2  version_3\n"
     ]
    }
   ],
   "source": [
    "!ls lightning_logs/"
   ]
  },
  {
   "cell_type": "code",
   "execution_count": 164,
   "id": "802e0db9-bff1-4a99-9116-7a3a27ee2b5c",
   "metadata": {},
   "outputs": [
    {
     "name": "stdout",
     "output_type": "stream",
     "text": [
      "01_basics.ipynb  Untitled.ipynb  data  lightning_logs\n"
     ]
    }
   ],
   "source": [
    "!ls"
   ]
  },
  {
   "cell_type": "markdown",
   "id": "4e08bd31-5408-4601-953e-38d04f6323f5",
   "metadata": {},
   "source": [
    "##### Example 5"
   ]
  },
  {
   "cell_type": "code",
   "execution_count": 6,
   "id": "fa272626-6e2c-43a8-bc20-dd77aaba5efb",
   "metadata": {},
   "outputs": [
    {
     "ename": "ModuleNotFoundError",
     "evalue": "No module named 'pytorch_lightning.metrics'",
     "output_type": "error",
     "traceback": [
      "\u001b[0;31m---------------------------------------------------------------------------\u001b[0m",
      "\u001b[0;31mModuleNotFoundError\u001b[0m                       Traceback (most recent call last)",
      "Input \u001b[0;32mIn [6]\u001b[0m, in \u001b[0;36m<cell line: 1>\u001b[0;34m()\u001b[0m\n\u001b[0;32m----> 1\u001b[0m \u001b[38;5;28;01mfrom\u001b[39;00m \u001b[38;5;21;01mpytorch_lightning\u001b[39;00m\u001b[38;5;21;01m.\u001b[39;00m\u001b[38;5;21;01mmetrics\u001b[39;00m\u001b[38;5;21;01m.\u001b[39;00m\u001b[38;5;21;01mfunctional\u001b[39;00m \u001b[38;5;28;01mimport\u001b[39;00m accuracy\n",
      "\u001b[0;31mModuleNotFoundError\u001b[0m: No module named 'pytorch_lightning.metrics'"
     ]
    }
   ],
   "source": [
    "from pytorch_lightning.metrics.functional import accuracy"
   ]
  },
  {
   "cell_type": "code",
   "execution_count": 16,
   "id": "472fea7b-0909-4324-8e64-5dcc0e54e765",
   "metadata": {},
   "outputs": [],
   "source": [
    "class Linear: pass"
   ]
  },
  {
   "cell_type": "code",
   "execution_count": null,
   "id": "b6065246-9f03-45a1-a00a-de097000b7e9",
   "metadata": {},
   "outputs": [],
   "source": []
  }
 ],
 "metadata": {
  "kernelspec": {
   "display_name": "Python 3 (ipykernel)",
   "language": "python",
   "name": "python3"
  },
  "language_info": {
   "codemirror_mode": {
    "name": "ipython",
    "version": 3
   },
   "file_extension": ".py",
   "mimetype": "text/x-python",
   "name": "python",
   "nbconvert_exporter": "python",
   "pygments_lexer": "ipython3",
   "version": "3.9.13"
  }
 },
 "nbformat": 4,
 "nbformat_minor": 5
}
