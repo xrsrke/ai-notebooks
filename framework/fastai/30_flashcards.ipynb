{
 "cells": [
  {
   "cell_type": "code",
   "execution_count": 1,
   "id": "daa66907-c2bb-47bd-b2de-fee28a50716f",
   "metadata": {},
   "outputs": [],
   "source": [
    "from transformers import GPT2LMHeadModel, GPT2TokenizerFast"
   ]
  },
  {
   "cell_type": "code",
   "execution_count": 2,
   "id": "983094f8-2081-4708-a557-e6a20acd5759",
   "metadata": {},
   "outputs": [],
   "source": [
    "pretrained_weights = \"gpt2\""
   ]
  },
  {
   "cell_type": "code",
   "execution_count": 3,
   "id": "8ca401b9-16d4-4d92-91cc-d14e229485cf",
   "metadata": {},
   "outputs": [],
   "source": [
    "tokenizer = GPT2TokenizerFast.from_pretrained(pretrained_weights)\n",
    "model = GPT2LMHeadModel.from_pretrained(pretrained_weights)"
   ]
  },
  {
   "cell_type": "markdown",
   "id": "30183aef-b2be-4abb-ad6f-97757f0eaebc",
   "metadata": {},
   "source": [
    "##### Example 1"
   ]
  },
  {
   "cell_type": "code",
   "execution_count": 124,
   "id": "10e1f0b6-6d3a-4917-bd28-9bf1a4bc938f",
   "metadata": {},
   "outputs": [],
   "source": [
    "import torch"
   ]
  },
  {
   "cell_type": "markdown",
   "id": "c25e6200-be69-4acd-83a7-02fac311c013",
   "metadata": {},
   "source": [
    "`tokenizer` is a GPT2 Tokenizier and `model` is a pre-trained GPT2 from `transformer` library"
   ]
  },
  {
   "cell_type": "code",
   "execution_count": 31,
   "id": "49576ddf-f4de-40f9-99ad-08728405a277",
   "metadata": {},
   "outputs": [],
   "source": [
    "sentence = \"persistent is all you need\""
   ]
  },
  {
   "cell_type": "markdown",
   "id": "b0bc5e75-430c-4ae7-92b4-26fb42fe76ce",
   "metadata": {},
   "source": [
    "Use `model` to make prediction of `sentence` in raw tokens"
   ]
  },
  {
   "cell_type": "code",
   "execution_count": 32,
   "id": "d874ec43-6823-432b-8dea-fc371296ff1f",
   "metadata": {},
   "outputs": [],
   "source": [
    "ids = tokenizer.encode(sentence)"
   ]
  },
  {
   "cell_type": "code",
   "execution_count": 33,
   "id": "dcdc88e8-8072-4adc-8160-f63b211a4cb3",
   "metadata": {},
   "outputs": [
    {
     "data": {
      "text/plain": [
       "[19276, 7609, 318, 477, 345, 761]"
      ]
     },
     "execution_count": 33,
     "metadata": {},
     "output_type": "execute_result"
    }
   ],
   "source": [
    "ids"
   ]
  },
  {
   "cell_type": "markdown",
   "id": "63f06c78-aae6-4f50-96ef-7d2efb1e2581",
   "metadata": {},
   "source": [
    "Add a extra dim for batch_size equals to one"
   ]
  },
  {
   "cell_type": "code",
   "execution_count": 34,
   "id": "a9d35e22-718e-4c89-9010-4116212cdf2b",
   "metadata": {},
   "outputs": [],
   "source": [
    "data = torch.tensor(ids).unsqueeze(0)"
   ]
  },
  {
   "cell_type": "code",
   "execution_count": 35,
   "id": "52869e39-7b42-4f25-b285-c271fe0d7924",
   "metadata": {},
   "outputs": [
    {
     "name": "stderr",
     "output_type": "stream",
     "text": [
      "The attention mask and the pad token id were not set. As a consequence, you may observe unexpected behavior. Please pass your input's `attention_mask` to obtain reliable results.\n",
      "Setting `pad_token_id` to `eos_token_id`:50256 for open-end generation.\n"
     ]
    }
   ],
   "source": [
    "preds = model.generate(data)"
   ]
  },
  {
   "cell_type": "code",
   "execution_count": 36,
   "id": "1a61ec77-37ff-46f7-80b5-abd805f0c4a0",
   "metadata": {},
   "outputs": [
    {
     "data": {
      "text/plain": [
       "tensor([[19276,  7609,   318,   477,   345,   761,   284,   760,   546,   262,\n",
       "           649,  2196,   286,   262,   983,    13,   198,   198,   464,   983]])"
      ]
     },
     "execution_count": 36,
     "metadata": {},
     "output_type": "execute_result"
    }
   ],
   "source": [
    "preds"
   ]
  },
  {
   "cell_type": "markdown",
   "id": "007b8782-c61f-46f5-8e9d-27f0237600dd",
   "metadata": {},
   "source": [
    "##### Example 2"
   ]
  },
  {
   "cell_type": "code",
   "execution_count": 45,
   "id": "f613e767-2896-4ec9-b651-84a1dda5ccca",
   "metadata": {},
   "outputs": [],
   "source": [
    "sentence = \"neuralink is here\""
   ]
  },
  {
   "cell_type": "markdown",
   "id": "58092916-1f62-4290-8863-7dd83e291854",
   "metadata": {},
   "source": [
    "`tokenizer` is a GPT2 Tokenizier from `transformer` library"
   ]
  },
  {
   "cell_type": "code",
   "execution_count": 46,
   "id": "2dc4677d-e446-42ec-8993-7cb25f3aa835",
   "metadata": {},
   "outputs": [],
   "source": [
    "output = tokenizer.encode(sentence)"
   ]
  },
  {
   "cell_type": "code",
   "execution_count": 47,
   "id": "f4dc083f-b8ff-46a5-a206-7005f1cb259a",
   "metadata": {},
   "outputs": [
    {
     "data": {
      "text/plain": [
       "[710, 1523, 676, 318, 994]"
      ]
     },
     "execution_count": 47,
     "metadata": {},
     "output_type": "execute_result"
    }
   ],
   "source": [
    "output"
   ]
  },
  {
   "cell_type": "code",
   "execution_count": 48,
   "id": "88e41120-3f5b-46e4-a1f0-1295f8cbdca3",
   "metadata": {},
   "outputs": [],
   "source": [
    "output = tokenizer.tokenize(sentence)"
   ]
  },
  {
   "cell_type": "code",
   "execution_count": 49,
   "id": "1ca918dc-0c02-497d-8a98-0e68e2fbce75",
   "metadata": {},
   "outputs": [
    {
     "data": {
      "text/plain": [
       "['ne', 'ural', 'ink', 'Ġis', 'Ġhere']"
      ]
     },
     "execution_count": 49,
     "metadata": {},
     "output_type": "execute_result"
    }
   ],
   "source": [
    "output"
   ]
  },
  {
   "cell_type": "code",
   "execution_count": 50,
   "id": "3ecea774-2861-4152-8b65-4cfcbab40fce",
   "metadata": {},
   "outputs": [
    {
     "data": {
      "text/plain": [
       "[710, 1523, 676, 318, 994]"
      ]
     },
     "execution_count": 50,
     "metadata": {},
     "output_type": "execute_result"
    }
   ],
   "source": [
    "tokenizer.convert_tokens_to_ids(output)"
   ]
  },
  {
   "cell_type": "markdown",
   "id": "75caa30a-d151-4924-81a3-7cc76e0f6c8e",
   "metadata": {},
   "source": [
    "### Preparing the data"
   ]
  },
  {
   "cell_type": "markdown",
   "id": "eb3506b5-0f1c-4232-aba9-7710ccb2d1d9",
   "metadata": {},
   "source": [
    "##### Example 1"
   ]
  },
  {
   "cell_type": "code",
   "execution_count": 139,
   "id": "7deca64a-9d11-480b-aa4f-c66bb8073850",
   "metadata": {},
   "outputs": [],
   "source": [
    "def encode_text(x):\n",
    "    toks = tokenizer.tokenize(x)\n",
    "    return tensor(tokenizer.convert_tokens_to_ids(toks))"
   ]
  },
  {
   "cell_type": "code",
   "execution_count": 140,
   "id": "29b94af5-d021-49b8-bb5c-1306054a8895",
   "metadata": {},
   "outputs": [],
   "source": [
    "def decode_text(x):\n",
    "    return TitledStr(tokenizer.decode(x.cpu().numpy()))"
   ]
  },
  {
   "cell_type": "code",
   "execution_count": 141,
   "id": "ce0f7c1c-accc-49aa-b025-0e4b868f6042",
   "metadata": {},
   "outputs": [],
   "source": [
    "sentence = \"persistent is all you need\""
   ]
  },
  {
   "cell_type": "code",
   "execution_count": 142,
   "id": "8cd525ba-6cf8-406b-85ea-6efb9628c2b2",
   "metadata": {},
   "outputs": [],
   "source": [
    "from fastai.text.all import *"
   ]
  },
  {
   "cell_type": "markdown",
   "id": "a997cc60-c346-435b-bcbf-ab0614f42693",
   "metadata": {},
   "source": [
    "Write a `TransformersTokenizier` using fastai's `Transform`\n",
    "- Function `encode_text` use for encode data\n",
    "- Function `decode_text` use for decode data"
   ]
  },
  {
   "cell_type": "code",
   "execution_count": 147,
   "id": "ea196801-a3ae-4402-b5bd-b9165ad2ab50",
   "metadata": {},
   "outputs": [],
   "source": [
    "class TransformersTokenizier(Transform):\n",
    "    def encodes(self, x):\n",
    "        return encode_text(x)\n",
    "    \n",
    "    def decodes(self, x):\n",
    "        return decode_text(x)"
   ]
  },
  {
   "cell_type": "code",
   "execution_count": 144,
   "id": "1ffe6e50-6d03-4a50-af2a-56e3a81e744a",
   "metadata": {},
   "outputs": [],
   "source": [
    "transform = TransformersTokenizier()"
   ]
  },
  {
   "cell_type": "code",
   "execution_count": 145,
   "id": "b8810d3a-1ceb-4f17-8950-2f9226d14d91",
   "metadata": {},
   "outputs": [
    {
     "data": {
      "text/plain": [
       "'persistent is all you need'"
      ]
     },
     "execution_count": 145,
     "metadata": {},
     "output_type": "execute_result"
    }
   ],
   "source": [
    "sentence"
   ]
  },
  {
   "cell_type": "code",
   "execution_count": 146,
   "id": "a61f9c1e-97b6-4f81-a9e7-5f8a31e288aa",
   "metadata": {},
   "outputs": [
    {
     "data": {
      "text/plain": [
       "tensor([19276,  7609,   318,   477,   345,   761])"
      ]
     },
     "execution_count": 146,
     "metadata": {},
     "output_type": "execute_result"
    }
   ],
   "source": [
    "transform.encodes(sentence)"
   ]
  },
  {
   "cell_type": "markdown",
   "id": "f4f4a75b-02e9-4b1e-acda-2efeee0c8b67",
   "metadata": {},
   "source": [
    "##### Example 2"
   ]
  },
  {
   "cell_type": "code",
   "execution_count": 167,
   "id": "5758d3a9-542b-43cf-a0d6-af828e954996",
   "metadata": {},
   "outputs": [],
   "source": [
    "class _IntFloatTfm(Transform):\n",
    "    def encodes(self, o):  return TitledInt(o)\n",
    "    def decodes(self, o):  return TitledFloat(o)"
   ]
  },
  {
   "cell_type": "code",
   "execution_count": 168,
   "id": "769f7c45-9392-40fe-8efe-87d2a805951f",
   "metadata": {},
   "outputs": [],
   "source": [
    "int2f_tfm=_IntFloatTfm()"
   ]
  },
  {
   "cell_type": "code",
   "execution_count": 177,
   "id": "9628f4eb-4598-45fe-854a-b6b35fa46934",
   "metadata": {},
   "outputs": [],
   "source": [
    "class _PlusOneTfm(Transform):\n",
    "    def encodes(self, o):  return o + 1\n",
    "    def decodes(self, o):  return o - 1"
   ]
  },
  {
   "cell_type": "code",
   "execution_count": 178,
   "id": "0f170cd0-069f-49b9-961e-abd0eaf748db",
   "metadata": {},
   "outputs": [],
   "source": [
    "plus_one_tfm = _PlusOneTfm()"
   ]
  },
  {
   "cell_type": "code",
   "execution_count": 169,
   "id": "8fd833cd-3169-4559-bed0-f5de21869db3",
   "metadata": {},
   "outputs": [],
   "source": [
    "def _neg(o): return -o\n",
    "neg_tfm = Transform(_neg, _neg)"
   ]
  },
  {
   "cell_type": "code",
   "execution_count": 170,
   "id": "64344b60-79d7-466d-ae4d-7d171601a533",
   "metadata": {},
   "outputs": [],
   "source": [
    "items = L([1.,2.,3.])"
   ]
  },
  {
   "cell_type": "code",
   "execution_count": 204,
   "id": "00013266-0035-4b78-8527-04502e03f92d",
   "metadata": {},
   "outputs": [],
   "source": [
    "from fastai.text.all import *"
   ]
  },
  {
   "cell_type": "code",
   "execution_count": 205,
   "id": "e7065640-8509-441a-b8d2-5d3bdd582ae3",
   "metadata": {},
   "outputs": [
    {
     "data": {
      "text/plain": [
       "(#3) [1.0,2.0,3.0]"
      ]
     },
     "execution_count": 205,
     "metadata": {},
     "output_type": "execute_result"
    }
   ],
   "source": [
    "items"
   ]
  },
  {
   "cell_type": "code",
   "execution_count": 206,
   "id": "839da57b-5129-4ded-9c0a-99722456878e",
   "metadata": {},
   "outputs": [
    {
     "data": {
      "text/plain": [
       "(fastcore.transform.Transform, __main__._IntFloatTfm)"
      ]
     },
     "execution_count": 206,
     "metadata": {},
     "output_type": "execute_result"
    }
   ],
   "source": [
    "type(neg_tfm), type(int2f_tfm)"
   ]
  },
  {
   "cell_type": "markdown",
   "id": "804a67e2-fc33-440b-a9f9-a2cc2e92a4e7",
   "metadata": {},
   "source": [
    "`neg_tfm` and `int2f_tfm` are two `Transform`. Apply these transforms to `items`\n",
    "- `neg_tfm`: negative an interger\n",
    "- `int2f_tfm`: turn integer to float"
   ]
  },
  {
   "cell_type": "code",
   "execution_count": 207,
   "id": "d191546f-cd87-4c2b-9a5d-b2a5996dda98",
   "metadata": {},
   "outputs": [],
   "source": [
    "tfms = [neg_tfm, int2f_tfm]"
   ]
  },
  {
   "cell_type": "code",
   "execution_count": 208,
   "id": "52716842-72b9-4937-87c1-979c75a47830",
   "metadata": {},
   "outputs": [],
   "source": [
    "tl = TfmdLists(items, tfms=tfms)"
   ]
  },
  {
   "cell_type": "code",
   "execution_count": 209,
   "id": "09b8fc37-b65a-4d6b-92d2-4996f7dee59c",
   "metadata": {},
   "outputs": [
    {
     "data": {
      "text/plain": [
       "TfmdLists: [1.0, 2.0, 3.0]\n",
       "tfms - [_neg:\n",
       "encodes: (object,object) -> _negdecodes: (object,object) -> _neg, _IntFloatTfm:\n",
       "encodes: (object,object) -> encodes\n",
       "decodes: (object,object) -> decodes\n",
       "]"
      ]
     },
     "execution_count": 209,
     "metadata": {},
     "output_type": "execute_result"
    }
   ],
   "source": [
    "tl"
   ]
  },
  {
   "cell_type": "code",
   "execution_count": 210,
   "id": "405f7272-a796-42ff-8e70-9ac48344eb44",
   "metadata": {},
   "outputs": [
    {
     "data": {
      "text/plain": [
       "(-1, -3)"
      ]
     },
     "execution_count": 210,
     "metadata": {},
     "output_type": "execute_result"
    }
   ],
   "source": [
    "tl[0], tl[2]"
   ]
  },
  {
   "cell_type": "code",
   "execution_count": null,
   "id": "3d32c758-2767-4e15-a571-91a6a54969fc",
   "metadata": {},
   "outputs": [],
   "source": []
  },
  {
   "cell_type": "code",
   "execution_count": null,
   "id": "47f757e7-f69a-4151-9fa5-12c149de7887",
   "metadata": {},
   "outputs": [],
   "source": []
  }
 ],
 "metadata": {
  "kernelspec": {
   "display_name": "Python 3 (ipykernel)",
   "language": "python",
   "name": "python3"
  },
  "language_info": {
   "codemirror_mode": {
    "name": "ipython",
    "version": 3
   },
   "file_extension": ".py",
   "mimetype": "text/x-python",
   "name": "python",
   "nbconvert_exporter": "python",
   "pygments_lexer": "ipython3",
   "version": "3.9.13"
  }
 },
 "nbformat": 4,
 "nbformat_minor": 5
}
