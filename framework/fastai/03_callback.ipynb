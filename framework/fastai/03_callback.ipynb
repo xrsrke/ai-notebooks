{
 "cells": [
  {
   "cell_type": "code",
   "execution_count": 1,
   "id": "292bf41c-ea22-4379-87a2-08d572873315",
   "metadata": {},
   "outputs": [],
   "source": [
    "#!pip install fastai"
   ]
  },
  {
   "cell_type": "code",
   "execution_count": 2,
   "id": "6f806d3b-7f18-45e5-9fb0-62a09a322425",
   "metadata": {},
   "outputs": [],
   "source": [
    "#!pip install wwf"
   ]
  },
  {
   "cell_type": "code",
   "execution_count": 3,
   "id": "fdc8a226-a8c7-4381-92f6-5d7f159e03ac",
   "metadata": {},
   "outputs": [],
   "source": [
    "#! pip install nbdev"
   ]
  },
  {
   "cell_type": "code",
   "execution_count": 4,
   "id": "9eb105d7-8ff8-48ad-a3c2-f3824d532f2c",
   "metadata": {},
   "outputs": [],
   "source": [
    "from fastai.vision.all import *"
   ]
  },
  {
   "cell_type": "code",
   "execution_count": 5,
   "id": "706b5819-9f8d-4fd0-a80a-0cea50646cc2",
   "metadata": {},
   "outputs": [],
   "source": [
    "set_seed(99, True)\n",
    "path = untar_data(URLs.PETS)/'images'\n",
    "dls = ImageDataLoaders.from_name_func(\n",
    "    path, get_image_files(path), valid_pct=0.2,\n",
    "    label_func=lambda x: x[0].isupper(), item_tfms=Resize(224))"
   ]
  },
  {
   "cell_type": "markdown",
   "id": "e1756aae-69f3-4ce8-9504-ddbeba0baf8e",
   "metadata": {},
   "source": [
    "### ShortEpochCallback"
   ]
  },
  {
   "cell_type": "code",
   "execution_count": 21,
   "id": "6a282a69-4aa9-423c-b838-6faa1c4901cb",
   "metadata": {},
   "outputs": [],
   "source": [
    "class ShortEpochCallback(Callback):\n",
    "    def __init__(self, pct=0.01, short_valid=True):\n",
    "        self.pct, self.short_valid = pct, short_valid\n",
    "    \n",
    "    def after_batch(self):\n",
    "        if self.iter / self.n_iter < self.pct: return\n",
    "        if self.training: raise CancelTrainException\n",
    "        if self.short_valid: raise CancelValidException"
   ]
  },
  {
   "cell_type": "code",
   "execution_count": 20,
   "id": "4370fd94-59d4-4494-977e-17a03a67638b",
   "metadata": {},
   "outputs": [
    {
     "data": {
      "text/plain": [
       "{'pct': 0.01, 'short_valid': True}"
      ]
     },
     "execution_count": 20,
     "metadata": {},
     "output_type": "execute_result"
    }
   ],
   "source": [
    "ShortEpochCallback().__dict__"
   ]
  },
  {
   "cell_type": "code",
   "execution_count": 7,
   "id": "508c7839-0d78-4deb-864a-c2844568e9ef",
   "metadata": {},
   "outputs": [
    {
     "name": "stderr",
     "output_type": "stream",
     "text": [
      "/usr/local/lib/python3.9/dist-packages/torchvision/models/_utils.py:208: UserWarning: The parameter 'pretrained' is deprecated since 0.13 and will be removed in 0.15, please use 'weights' instead.\n",
      "  warnings.warn(\n",
      "/usr/local/lib/python3.9/dist-packages/torchvision/models/_utils.py:223: UserWarning: Arguments other than a weight enum or `None` for 'weights' are deprecated since 0.13 and will be removed in 0.15. The current behavior is equivalent to passing `weights=ResNet18_Weights.IMAGENET1K_V1`. You can also use `weights=ResNet18_Weights.DEFAULT` to get the most up-to-date weights.\n",
      "  warnings.warn(msg)\n",
      "Downloading: \"https://download.pytorch.org/models/resnet18-f37072fd.pth\" to /root/.cache/torch/hub/checkpoints/resnet18-f37072fd.pth\n"
     ]
    },
    {
     "data": {
      "application/vnd.jupyter.widget-view+json": {
       "model_id": "6febcc7154c14806868e8c6b4977bff2",
       "version_major": 2,
       "version_minor": 0
      },
      "text/plain": [
       "  0%|          | 0.00/44.7M [00:00<?, ?B/s]"
      ]
     },
     "metadata": {},
     "output_type": "display_data"
    }
   ],
   "source": [
    "learn = vision_learner(dls, resnet18, metrics=accuracy,\n",
    "                       cbs=[ShortEpochCallback()])"
   ]
  },
  {
   "cell_type": "code",
   "execution_count": 8,
   "id": "4b68821f-fd02-4746-861f-197817c3d31c",
   "metadata": {},
   "outputs": [
    {
     "data": {
      "text/plain": [
       "(#5) [TrainEvalCallback,Recorder,CastToTensor,ProgressCallback,ShortEpochCallback]"
      ]
     },
     "execution_count": 8,
     "metadata": {},
     "output_type": "execute_result"
    }
   ],
   "source": [
    "learn.cbs"
   ]
  },
  {
   "cell_type": "code",
   "execution_count": 17,
   "id": "e27e037b-60d2-46f8-951f-9ed362f7d5b9",
   "metadata": {},
   "outputs": [
    {
     "data": {
      "text/plain": [
       "TrainEvalCallback"
      ]
     },
     "execution_count": 17,
     "metadata": {},
     "output_type": "execute_result"
    }
   ],
   "source": [
    "learn.cbs[0]"
   ]
  },
  {
   "cell_type": "code",
   "execution_count": 16,
   "id": "f88c49d2-d942-44e8-b74f-2823e56519b8",
   "metadata": {},
   "outputs": [
    {
     "data": {
      "text/html": [
       "\n",
       "<style>\n",
       "    /* Turns off some styling */\n",
       "    progress {\n",
       "        /* gets rid of default border in Firefox and Opera. */\n",
       "        border: none;\n",
       "        /* Needs to be in here for Safari polyfill so background images work as expected. */\n",
       "        background-size: auto;\n",
       "    }\n",
       "    progress:not([value]), progress:not([value])::-webkit-progress-bar {\n",
       "        background: repeating-linear-gradient(45deg, #7e7e7e, #7e7e7e 10px, #5c5c5c 10px, #5c5c5c 20px);\n",
       "    }\n",
       "    .progress-bar-interrupted, .progress-bar-interrupted::-webkit-progress-bar {\n",
       "        background: #F44336;\n",
       "    }\n",
       "</style>\n"
      ],
      "text/plain": [
       "<IPython.core.display.HTML object>"
      ]
     },
     "metadata": {},
     "output_type": "display_data"
    },
    {
     "data": {
      "text/html": [
       "<table border=\"1\" class=\"dataframe\">\n",
       "  <thead>\n",
       "    <tr style=\"text-align: left;\">\n",
       "      <th>epoch</th>\n",
       "      <th>train_loss</th>\n",
       "      <th>valid_loss</th>\n",
       "      <th>accuracy</th>\n",
       "      <th>time</th>\n",
       "    </tr>\n",
       "  </thead>\n",
       "  <tbody>\n",
       "    <tr>\n",
       "      <td>0</td>\n",
       "      <td>00:07</td>\n",
       "    </tr>\n",
       "    <tr>\n",
       "      <td>1</td>\n",
       "      <td>00:02</td>\n",
       "    </tr>\n",
       "  </tbody>\n",
       "</table>"
      ],
      "text/plain": [
       "<IPython.core.display.HTML object>"
      ]
     },
     "metadata": {},
     "output_type": "display_data"
    }
   ],
   "source": [
    "learn.fit(2)"
   ]
  },
  {
   "cell_type": "code",
   "execution_count": 17,
   "id": "0ba59d4b-504d-4cdf-8122-4273040a977a",
   "metadata": {},
   "outputs": [
    {
     "data": {
      "text/html": [
       "\n",
       "<style>\n",
       "    /* Turns off some styling */\n",
       "    progress {\n",
       "        /* gets rid of default border in Firefox and Opera. */\n",
       "        border: none;\n",
       "        /* Needs to be in here for Safari polyfill so background images work as expected. */\n",
       "        background-size: auto;\n",
       "    }\n",
       "    progress:not([value]), progress:not([value])::-webkit-progress-bar {\n",
       "        background: repeating-linear-gradient(45deg, #7e7e7e, #7e7e7e 10px, #5c5c5c 10px, #5c5c5c 20px);\n",
       "    }\n",
       "    .progress-bar-interrupted, .progress-bar-interrupted::-webkit-progress-bar {\n",
       "        background: #F44336;\n",
       "    }\n",
       "</style>\n"
      ],
      "text/plain": [
       "<IPython.core.display.HTML object>"
      ]
     },
     "metadata": {},
     "output_type": "display_data"
    },
    {
     "data": {
      "text/html": [
       "<table border=\"1\" class=\"dataframe\">\n",
       "  <thead>\n",
       "    <tr style=\"text-align: left;\">\n",
       "      <th>epoch</th>\n",
       "      <th>train_loss</th>\n",
       "      <th>valid_loss</th>\n",
       "      <th>accuracy</th>\n",
       "      <th>time</th>\n",
       "    </tr>\n",
       "  </thead>\n",
       "  <tbody>\n",
       "    <tr>\n",
       "      <td>0</td>\n",
       "      <td>00:02</td>\n",
       "    </tr>\n",
       "  </tbody>\n",
       "</table>"
      ],
      "text/plain": [
       "<IPython.core.display.HTML object>"
      ]
     },
     "metadata": {},
     "output_type": "display_data"
    }
   ],
   "source": [
    "learn.fit_one_cycle(1)"
   ]
  },
  {
   "cell_type": "markdown",
   "id": "6c44d94e-58ed-4b99-a024-71d97e836f06",
   "metadata": {},
   "source": [
    "### SaveModelCallback"
   ]
  },
  {
   "cell_type": "code",
   "execution_count": 24,
   "id": "4e4a86a8-60fc-44e5-8ead-6fd473410ca9",
   "metadata": {},
   "outputs": [
    {
     "data": {
      "text/html": [
       "<hr/>\n",
       "<h3>GradientAccumulation</h3>\n",
       "<blockquote><pre><code>GradientAccumulation(n_acc=32)</code></pre></blockquote><p>Accumulate gradients before updating weights</p>"
      ],
      "text/plain": [
       "<IPython.core.display.HTML object>"
      ]
     },
     "metadata": {},
     "output_type": "display_data"
    }
   ],
   "source": [
    "doc(GradientAccumulation)"
   ]
  },
  {
   "cell_type": "code",
   "execution_count": 26,
   "id": "5256d2e3-b8db-45f1-b9de-40f019830f65",
   "metadata": {},
   "outputs": [],
   "source": [
    "class SaveModelCallback(TrackerCallback):\n",
    "    pass"
   ]
  },
  {
   "cell_type": "code",
   "execution_count": null,
   "id": "87b969e7-da81-42b2-8700-fd69fc342e9a",
   "metadata": {},
   "outputs": [],
   "source": [
    "class TrackerCallback(Callback):\n",
    "    _only_train_loop = True\n",
    "    \n",
    "    def __init__()"
   ]
  },
  {
   "cell_type": "markdown",
   "id": "fbd0bf12-3979-49d1-be3c-e5db32e8ce7d",
   "metadata": {},
   "source": [
    "https://youtu.be/DIYWATB4B0I?t=2480"
   ]
  },
  {
   "cell_type": "code",
   "execution_count": null,
   "id": "a4a758ff-7740-4ac7-9d96-aca625a5c8cc",
   "metadata": {},
   "outputs": [],
   "source": []
  }
 ],
 "metadata": {
  "kernelspec": {
   "display_name": "Python 3 (ipykernel)",
   "language": "python",
   "name": "python3"
  },
  "language_info": {
   "codemirror_mode": {
    "name": "ipython",
    "version": 3
   },
   "file_extension": ".py",
   "mimetype": "text/x-python",
   "name": "python",
   "nbconvert_exporter": "python",
   "pygments_lexer": "ipython3",
   "version": "3.9.13"
  }
 },
 "nbformat": 4,
 "nbformat_minor": 5
}
