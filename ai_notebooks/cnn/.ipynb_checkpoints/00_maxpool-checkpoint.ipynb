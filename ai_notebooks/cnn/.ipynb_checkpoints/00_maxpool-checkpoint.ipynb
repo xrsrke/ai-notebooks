{
 "cells": [
  {
   "cell_type": "code",
   "execution_count": 72,
   "id": "02b22b96-abb6-480b-ba6a-2338acd83cf9",
   "metadata": {},
   "outputs": [],
   "source": [
    "import torch"
   ]
  },
  {
   "cell_type": "markdown",
   "id": "72ef7d50-604c-4a4f-ae69-7aff5695eb86",
   "metadata": {},
   "source": [
    "##### Example 1"
   ]
  },
  {
   "cell_type": "code",
   "execution_count": 74,
   "id": "ade397ad-4abd-4c7e-85d2-e2fdbec31579",
   "metadata": {},
   "outputs": [],
   "source": [
    "x = torch.arange(48).reshape(3, 4, 4).float()"
   ]
  },
  {
   "cell_type": "code",
   "execution_count": 86,
   "id": "2734926a-bba7-47aa-9e6b-6484efae88e1",
   "metadata": {},
   "outputs": [],
   "source": [
    "import torch.nn as nn"
   ]
  },
  {
   "cell_type": "code",
   "execution_count": 107,
   "id": "623b3b88-d54c-46b2-a7ba-9263b351020b",
   "metadata": {},
   "outputs": [],
   "source": [
    "max_pool = nn.MaxPool2d(kernel_size=2, stride=2)"
   ]
  },
  {
   "cell_type": "code",
   "execution_count": 103,
   "id": "c2765b69-89c9-4059-b81f-89baf5550559",
   "metadata": {},
   "outputs": [
    {
     "data": {
      "text/plain": [
       "torch.Size([3, 4, 4])"
      ]
     },
     "execution_count": 103,
     "metadata": {},
     "output_type": "execute_result"
    }
   ],
   "source": [
    "x.shape"
   ]
  },
  {
   "cell_type": "code",
   "execution_count": 104,
   "id": "5f0b6751-fcc5-48b9-b371-2b29fe445153",
   "metadata": {},
   "outputs": [
    {
     "data": {
      "text/plain": [
       "(tensor([[ 0.,  1.,  2.,  3.],\n",
       "         [ 4.,  5.,  6.,  7.],\n",
       "         [ 8.,  9., 10., 11.],\n",
       "         [12., 13., 14., 15.]]),\n",
       " tensor([[16., 17., 18., 19.],\n",
       "         [20., 21., 22., 23.],\n",
       "         [24., 25., 26., 27.],\n",
       "         [28., 29., 30., 31.]]))"
      ]
     },
     "execution_count": 104,
     "metadata": {},
     "output_type": "execute_result"
    }
   ],
   "source": [
    "x[0], x[1]"
   ]
  },
  {
   "cell_type": "code",
   "execution_count": 105,
   "id": "974d7acb-9187-4430-bd97-131eef42bcd5",
   "metadata": {},
   "outputs": [
    {
     "data": {
      "text/plain": [
       "torch.Size([3, 4, 4])"
      ]
     },
     "execution_count": 105,
     "metadata": {},
     "output_type": "execute_result"
    }
   ],
   "source": [
    "x.shape"
   ]
  },
  {
   "cell_type": "markdown",
   "id": "bb7e172b-f9a6-4540-a027-2a68b9986e91",
   "metadata": {},
   "source": [
    "What is the output of first two matrices after `max_pool` layer? Explain"
   ]
  },
  {
   "cell_type": "code",
   "execution_count": 106,
   "id": "692e059d-60e7-4497-9fc9-c73a4c50bdc2",
   "metadata": {},
   "outputs": [
    {
     "data": {
      "text/plain": [
       "tensor([[[ 5.,  7.],\n",
       "         [13., 15.]],\n",
       "\n",
       "        [[21., 23.],\n",
       "         [29., 31.]],\n",
       "\n",
       "        [[37., 39.],\n",
       "         [45., 47.]]])"
      ]
     },
     "execution_count": 106,
     "metadata": {},
     "output_type": "execute_result"
    }
   ],
   "source": [
    "max_pool(x)"
   ]
  },
  {
   "cell_type": "markdown",
   "id": "d7467fbd-73a5-4580-b734-22975d4a5bd5",
   "metadata": {},
   "source": [
    "##### Example 2"
   ]
  },
  {
   "cell_type": "code",
   "execution_count": 115,
   "id": "9e0bdcce-57cd-4f55-9c58-d582395cc9ea",
   "metadata": {},
   "outputs": [],
   "source": [
    "import torch.nn as nn"
   ]
  },
  {
   "cell_type": "code",
   "execution_count": 116,
   "id": "b5a1bf01-2f6e-44b7-82a1-413cecf6c163",
   "metadata": {},
   "outputs": [],
   "source": [
    "max_pool = nn.MaxPool2d(kernel_size=3)"
   ]
  },
  {
   "cell_type": "markdown",
   "id": "b1b1798e-1c94-4273-b6ce-e7eecf5085d2",
   "metadata": {},
   "source": [
    "What is the `stride` of this `max_pool`? Explain"
   ]
  },
  {
   "cell_type": "markdown",
   "id": "d0201875-aeed-4c18-a08b-b3dd9472f4b2",
   "metadata": {},
   "source": [
    "`stride=3` because by default `stride = kernel_size`"
   ]
  },
  {
   "cell_type": "code",
   "execution_count": null,
   "id": "be3257e7-0a31-40e4-9004-c1ba5943998a",
   "metadata": {},
   "outputs": [],
   "source": []
  }
 ],
 "metadata": {
  "kernelspec": {
   "display_name": "Python 3 (ipykernel)",
   "language": "python",
   "name": "python3"
  },
  "language_info": {
   "codemirror_mode": {
    "name": "ipython",
    "version": 3
   },
   "file_extension": ".py",
   "mimetype": "text/x-python",
   "name": "python",
   "nbconvert_exporter": "python",
   "pygments_lexer": "ipython3",
   "version": "3.9.13"
  }
 },
 "nbformat": 4,
 "nbformat_minor": 5
}
