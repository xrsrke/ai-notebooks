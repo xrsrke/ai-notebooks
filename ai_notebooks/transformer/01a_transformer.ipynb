{
 "cells": [
  {
   "cell_type": "markdown",
   "id": "0b5a80c8-5dd3-4ffc-8d2e-9750863ea6e3",
   "metadata": {},
   "source": [
    "### Transformer"
   ]
  },
  {
   "cell_type": "markdown",
   "id": "f7619236-9d90-45be-a2ad-6dc19a9d6edc",
   "metadata": {},
   "source": [
    "Building Blocks\n",
    "- Text Embedding => turn individual word to an matrix\n",
    "- Position Embedding => turn the index of the word in a sentence to a matrix"
   ]
  },
  {
   "cell_type": "code",
   "execution_count": null,
   "id": "5a24778e-5ea1-41c6-a609-8ef6c304f500",
   "metadata": {},
   "outputs": [],
   "source": []
  }
 ],
 "metadata": {
  "kernelspec": {
   "display_name": "Python 3 (ipykernel)",
   "language": "python",
   "name": "python3"
  },
  "language_info": {
   "codemirror_mode": {
    "name": "ipython",
    "version": 3
   },
   "file_extension": ".py",
   "mimetype": "text/x-python",
   "name": "python",
   "nbconvert_exporter": "python",
   "pygments_lexer": "ipython3",
   "version": "3.9.13"
  }
 },
 "nbformat": 4,
 "nbformat_minor": 5
}
