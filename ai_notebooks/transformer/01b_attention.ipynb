{
 "cells": [
  {
   "cell_type": "markdown",
   "id": "ffcf4ece-40d8-49b1-9921-fcf1c3c6b8b0",
   "metadata": {},
   "source": [
    "Source: http://nlp.seas.harvard.edu/annotated-transformer/"
   ]
  },
  {
   "cell_type": "code",
   "execution_count": 5,
   "id": "2d52d79c-9d2a-4cbe-b025-218270b23133",
   "metadata": {},
   "outputs": [],
   "source": [
    "import torch\n",
    "from torch import nn"
   ]
  },
  {
   "cell_type": "code",
   "execution_count": 3,
   "id": "ad2efc2c-bfdb-4d2f-b75c-155b324ce849",
   "metadata": {},
   "outputs": [],
   "source": [
    "def attention(query, key, value, mask=None, dropout=None):\n",
    "    d_k = query.size(-1)\n",
    "    scores = torch.matmul(query, key.transpose(-2, -1)) \\\n",
    "             / math.sqrt(d_k)\n",
    "\n",
    "    if mask is not None:\n",
    "        scores = scores.masked_fill(mask == 0, -1e9)\n",
    "    \n",
    "    p_attention = scores.softmax(dim=-1)\n",
    "    \n",
    "    if dropout is not None:\n",
    "        p_attention = dropout(p_attention)\n",
    "    \n",
    "    return torch.matmul(p_attention, value), p_attention"
   ]
  },
  {
   "cell_type": "code",
   "execution_count": null,
   "id": "42c68943-9859-4ad1-ab81-efb16fb24cf1",
   "metadata": {},
   "outputs": [],
   "source": [
    "class MultiHeadedAttention(nn.Module):\n",
    "    def __init__(self, h, d_model, dropout=0.1):\n",
    "        \"Take in model size and number of heads.\"\n",
    "        super().__init__()\n",
    "        \n",
    "        assert d_model % h == 0\n",
    "        \n",
    "        "
   ]
  }
 ],
 "metadata": {
  "kernelspec": {
   "display_name": "Python 3 (ipykernel)",
   "language": "python",
   "name": "python3"
  },
  "language_info": {
   "codemirror_mode": {
    "name": "ipython",
    "version": 3
   },
   "file_extension": ".py",
   "mimetype": "text/x-python",
   "name": "python",
   "nbconvert_exporter": "python",
   "pygments_lexer": "ipython3",
   "version": "3.9.13"
  }
 },
 "nbformat": 4,
 "nbformat_minor": 5
}
