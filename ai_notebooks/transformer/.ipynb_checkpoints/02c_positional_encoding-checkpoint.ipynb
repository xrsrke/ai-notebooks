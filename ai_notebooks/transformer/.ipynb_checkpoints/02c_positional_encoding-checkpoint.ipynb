{
 "cells": [
  {
   "cell_type": "code",
   "execution_count": 184,
   "id": "0d0d2b86-b4b6-4a68-b7d1-7a4b8e793d71",
   "metadata": {},
   "outputs": [],
   "source": [
    "%matplotlib inline "
   ]
  },
  {
   "cell_type": "code",
   "execution_count": 185,
   "id": "f5c5bf97-8035-41cc-9e24-299dade5e6b6",
   "metadata": {},
   "outputs": [],
   "source": [
    "import numpy as np\n",
    "import matplotlib.pyplot as plt"
   ]
  },
  {
   "cell_type": "markdown",
   "id": "dbf1fc64-9da3-4c6c-8ad9-e571392ea213",
   "metadata": {},
   "source": [
    "### Positional Encoding"
   ]
  },
  {
   "cell_type": "code",
   "execution_count": 186,
   "id": "d5fed8eb-555e-4015-a7d4-d6e3af6d8eb6",
   "metadata": {},
   "outputs": [],
   "source": [
    "x = np.arange(0,4*np.pi,0.1)"
   ]
  },
  {
   "cell_type": "code",
   "execution_count": 187,
   "id": "e8233069-cc5e-4642-b18b-3b522fd5a51a",
   "metadata": {},
   "outputs": [],
   "source": [
    "y = np.sin(x)"
   ]
  },
  {
   "cell_type": "code",
   "execution_count": 188,
   "id": "109a1da3-d16c-4c86-99a2-011120b03366",
   "metadata": {},
   "outputs": [
    {
     "data": {
      "image/png": "[encoded data removed]",
      "text/plain": [
       "<Figure size 432x288 with 1 Axes>"
      ]
     },
     "metadata": {
      "needs_background": "light"
     },
     "output_type": "display_data"
    }
   ],
   "source": [
    "plt.plot(x,y)\n",
    "plt.show()"
   ]
  },
  {
   "cell_type": "markdown",
   "id": "af593160-3134-47bf-abbf-fb9f672a850d",
   "metadata": {
    "tags": []
   },
   "source": [
    "### Limitation of transformer"
   ]
  },
  {
   "cell_type": "markdown",
   "id": "5ebf7522-e549-47b1-b88e-b16a5887682d",
   "metadata": {
    "tags": []
   },
   "source": [
    "### What is positional embeding?"
   ]
  },
  {
   "cell_type": "markdown",
   "id": "e43e68d1-d36e-4e66-a980-35dd8c91effa",
   "metadata": {},
   "source": [
    "Positional embedding is a just a list of numbers (aka: matrix) that represents a word. When you start to train the model, these numbers will be initialize randomly and will update iteratively during training."
   ]
  },
  {
   "cell_type": "markdown",
   "id": "9f9c49e7-b3ad-4b75-afa6-87cd7a4189ec",
   "metadata": {},
   "source": [
    "##### How these number will be update?"
   ]
  },
  {
   "cell_type": "markdown",
   "id": "5263c8b6-da7b-4724-87b2-228c6a3b31e7",
   "metadata": {},
   "source": [
    "The goal is update these numbers somehome make the loss function's value decrease by using gradient descent"
   ]
  },
  {
   "cell_type": "markdown",
   "id": "e284b4f3-46ed-479a-bd02-c5d2dc5f7018",
   "metadata": {
    "tags": []
   },
   "source": [
    "### Jargons"
   ]
  },
  {
   "cell_type": "markdown",
   "id": "1a22e456-e606-48b0-8d5c-08198085b705",
   "metadata": {},
   "source": [
    "For each word\n",
    "- Text Embedding: a list of numbers that somehow represent the meaning of the word\n",
    "- Positional Embedding: a list of numbers that somehow represent the meaning of the word's position"
   ]
  },
  {
   "cell_type": "markdown",
   "id": "4bcc71a6-b6db-4b48-af00-543c3fc46a82",
   "metadata": {},
   "source": [
    "### Why positional encoding the way it was?"
   ]
  },
  {
   "cell_type": "markdown",
   "id": "e08c94af-f077-4538-bb9a-efdcd4ebe0f2",
   "metadata": {},
   "source": [
    "So conditions that a positional encoding should satisfy"
   ]
  },
  {
   "cell_type": "markdown",
   "id": "589eb7be-548a-449d-bef9-b022b11fc679",
   "metadata": {},
   "source": [
    "Unlike the RNN, which takes input as sequence. For example, to feed the sentence: \"Persistent is all you need\" to an RNN"
   ]
  },
  {
   "cell_type": "markdown",
   "id": "b9db64c9-af04-4a4f-83b2-72f19e608a4e",
   "metadata": {},
   "source": [
    "The order of words you feed to RNN will yield difference results"
   ]
  },
  {
   "cell_type": "markdown",
   "id": "d41958cf-7156-4d65-971a-d935879fe37e",
   "metadata": {},
   "source": [
    "to feed the word `Persistence`, then `is`,... `need`"
   ]
  },
  {
   "cell_type": "markdown",
   "id": "10fccdb6-f6c0-47b5-a7af-853d044cd844",
   "metadata": {},
   "source": [
    "Calculate the positional embedding of the word `you`"
   ]
  },
  {
   "cell_type": "markdown",
   "id": "69d95625-899d-4662-ab35-fb017ea499d2",
   "metadata": {
    "tags": []
   },
   "source": [
    "### Build it from scratch"
   ]
  },
  {
   "cell_type": "markdown",
   "id": "78f3942b-77a8-4c9a-8712-af7daa874eac",
   "metadata": {},
   "source": [
    "##### Text to Index"
   ]
  },
  {
   "cell_type": "code",
   "execution_count": 256,
   "id": "f6b0a6ff-5d52-461a-9d1d-5b73883c5aae",
   "metadata": {},
   "outputs": [],
   "source": [
    "text = \"Persistent is all you need\""
   ]
  },
  {
   "cell_type": "code",
   "execution_count": 257,
   "id": "3d59b146-b346-4c02-aae6-9bbdd44ae82a",
   "metadata": {},
   "outputs": [
    {
     "data": {
      "text/plain": [
       "'Persistent is all you need'"
      ]
     },
     "execution_count": 257,
     "metadata": {},
     "output_type": "execute_result"
    }
   ],
   "source": [
    "text"
   ]
  },
  {
   "cell_type": "markdown",
   "id": "735abe16-51a6-44cc-b8a7-5e899f78adee",
   "metadata": {},
   "source": [
    "Now we create a function the return the correspond index of each word in an sentence"
   ]
  },
  {
   "cell_type": "code",
   "execution_count": 258,
   "id": "5319639a-45d6-483a-b989-c87abb4494f2",
   "metadata": {},
   "outputs": [],
   "source": [
    "def text2idx(x):\n",
    "    words = x.split(' ')\n",
    "    return [i for i, w in enumerate(words)]"
   ]
  },
  {
   "cell_type": "code",
   "execution_count": 259,
   "id": "75b11842-4c08-4952-885b-512508887356",
   "metadata": {},
   "outputs": [],
   "source": [
    "idxs = text2idx(text)"
   ]
  },
  {
   "cell_type": "code",
   "execution_count": 255,
   "id": "7b5641ef-f02e-439e-b990-bbf44d13a46f",
   "metadata": {},
   "outputs": [
    {
     "data": {
      "text/plain": [
       "[0, 1, 2, 3, 4]"
      ]
     },
     "execution_count": 255,
     "metadata": {},
     "output_type": "execute_result"
    }
   ],
   "source": [
    "idxs"
   ]
  },
  {
   "cell_type": "markdown",
   "id": "714a0a47-57b6-4062-9999-a9f7aefa61f4",
   "metadata": {
    "tags": []
   },
   "source": [
    "##### Positional Encoding"
   ]
  },
  {
   "cell_type": "markdown",
   "id": "77e52191-7077-43e8-bed1-1c18256f9a2b",
   "metadata": {},
   "source": [
    "For each word, it maps to a vector that have 5 numbers (aka: dimension)"
   ]
  },
  {
   "cell_type": "markdown",
   "id": "ba19483b-1f29-4388-a489-952f3b79a7e2",
   "metadata": {},
   "source": [
    "$\\text{Positional Vector}(p, i_{odd})=\\sin \\left(\\frac{\\mathrm{p}}{\\mathrm{n}^{2 \\mathrm{i} / \\mathrm{d}}}\\right)$"
   ]
  },
  {
   "cell_type": "markdown",
   "id": "eb154ffb-2eec-4c5d-8398-bd600e66e447",
   "metadata": {},
   "source": [
    "$\\text{Positional Vector}(p, i_{even})=\\cos \\left(\\frac{\\mathrm{p}}{\\mathrm{n}^{2 \\mathrm{i} / \\mathrm{d}}}\\right)$"
   ]
  },
  {
   "cell_type": "markdown",
   "id": "6de8c35c-dcac-424c-a958-4eb58b9d1142",
   "metadata": {},
   "source": [
    "For each word,\n",
    "- `p` is the position of the word in the sequence\n",
    "- `i` is the index of the number of the position embedding\n",
    "- `d` is the number of numbers in the text embedding (aka: dimension), it must be the same as text embedding\n",
    "- `n` is a user-fined number, set by 10,000 by the author of the original paper"
   ]
  },
  {
   "cell_type": "markdown",
   "id": "a2e36431-1a55-4f76-8d2e-2677485504cc",
   "metadata": {},
   "source": [
    "The sin function use for odd position. The cosin function use for even position"
   ]
  },
  {
   "cell_type": "code",
   "execution_count": 269,
   "id": "5356f46f-dca1-46a3-ac26-9f53cd66bf2f",
   "metadata": {},
   "outputs": [],
   "source": [
    "class PostionalEncoding:\n",
    "    def __init__(self, n, d):\n",
    "        self.d = d\n",
    "        self.n = n\n",
    "        self.embeddings = None\n",
    "    \n",
    "    def encode(self, idxs):\n",
    "        n_words = len(idxs)\n",
    "        self.embeddings = np.zeros((n_words, self.d))\n",
    "        \n",
    "        for p in range(n_words):\n",
    "            for i in range(self.d):\n",
    "                self.embeddings[p][i] = self.by_sin(p, i, self.d) if i % 2 == 0 else self.by_cosin(p, i, self.d)\n",
    "        \n",
    "        return self.embeddings\n",
    "    \n",
    "    def by_sin(self, p, i, d):\n",
    "        denomiator = np.power(self.n, (2*i/d))\n",
    "        return np.sin(p / denomiator)\n",
    "    \n",
    "    def by_cosin(self, p, i, d):\n",
    "        denomiator = np.power(self.n, (2*i/d))\n",
    "        return np.cos(p / denomiator)"
   ]
  },
  {
   "cell_type": "markdown",
   "id": "afbde69f-de31-4607-b6af-2f1dcdee4a81",
   "metadata": {},
   "source": [
    "Suppose we specify `n` equals to 200, and `d` equals to `5`"
   ]
  },
  {
   "cell_type": "code",
   "execution_count": 270,
   "id": "34668d28-f4d4-45ff-8591-02808dc19472",
   "metadata": {},
   "outputs": [],
   "source": [
    "encoder = PostionalEncoding(n=200, d=5)"
   ]
  },
  {
   "cell_type": "markdown",
   "id": "fa09c054-e073-4708-84f1-a5a9e269d0b8",
   "metadata": {},
   "source": [
    "Let's start simple first by only calculate the positional embedding of the word `all`, which have `i` equals to 2 "
   ]
  },
  {
   "cell_type": "code",
   "execution_count": 275,
   "id": "c2d9c7f8-2325-43fb-b67b-6bef71d66846",
   "metadata": {},
   "outputs": [
    {
     "data": {
      "text/plain": [
       "0.23792106149977424"
      ]
     },
     "execution_count": 275,
     "metadata": {},
     "output_type": "execute_result"
    }
   ],
   "source": [
    "encoder.by_sin(p=2, i=1, d=len(idxs))"
   ]
  },
  {
   "cell_type": "markdown",
   "id": "0c2c1cce-a6a3-4eb3-81d2-106525ff0646",
   "metadata": {},
   "source": [
    "Now start to calculate the positional embedding for `text`"
   ]
  },
  {
   "cell_type": "code",
   "execution_count": 277,
   "id": "8311a95c-e15c-432c-87b2-b153d38febd9",
   "metadata": {},
   "outputs": [],
   "source": [
    "embeddings = encoder.encode([0, 1, 2, 3])"
   ]
  },
  {
   "cell_type": "code",
   "execution_count": 279,
   "id": "40958623-2223-46ae-bbb6-155197c04764",
   "metadata": {},
   "outputs": [
    {
     "data": {
      "text/plain": [
       "array([[0.00000000e+00, 1.00000000e+00, 0.00000000e+00, 1.00000000e+00,\n",
       "        0.00000000e+00],\n",
       "       [8.41470985e-01, 9.92795169e-01, 1.44264986e-02, 9.99998499e-01,\n",
       "        2.08138300e-04],\n",
       "       [9.09297427e-01, 9.71284494e-01, 2.88499945e-02, 9.99993994e-01,\n",
       "        4.16276592e-04],\n",
       "       [1.41120008e-01, 9.35777938e-01, 4.32674858e-02, 9.99986487e-01,\n",
       "        6.24414865e-04]])"
      ]
     },
     "execution_count": 279,
     "metadata": {},
     "output_type": "execute_result"
    }
   ],
   "source": [
    "embeddings"
   ]
  },
  {
   "cell_type": "markdown",
   "id": "5ea0e495-7461-4568-8ec8-2276d4c4a4d7",
   "metadata": {},
   "source": [
    "So for the word `all`"
   ]
  },
  {
   "cell_type": "code",
   "execution_count": 281,
   "id": "124c85df-3f55-401c-9236-06401ad495df",
   "metadata": {},
   "outputs": [
    {
     "data": {
      "text/plain": [
       "array([9.09297427e-01, 9.71284494e-01, 2.88499945e-02, 9.99993994e-01,\n",
       "       4.16276592e-04])"
      ]
     },
     "execution_count": 281,
     "metadata": {},
     "output_type": "execute_result"
    }
   ],
   "source": [
    "embeddings[2]"
   ]
  },
  {
   "cell_type": "markdown",
   "id": "0de82a9d-3695-4433-a8b3-3c7f4fa678c7",
   "metadata": {},
   "source": [
    "### Compare different `n` and `d`"
   ]
  },
  {
   "cell_type": "code",
   "execution_count": 243,
   "id": "66853aec-a889-4ab1-92a9-78e98c5986c2",
   "metadata": {},
   "outputs": [],
   "source": [
    "ns = np.arange(0, 500, 100)"
   ]
  },
  {
   "cell_type": "code",
   "execution_count": 244,
   "id": "a28fdac1-8697-428e-a3fa-952eebdb9e65",
   "metadata": {},
   "outputs": [
    {
     "data": {
      "text/plain": [
       "array([  0, 100, 200, 300, 400])"
      ]
     },
     "execution_count": 244,
     "metadata": {},
     "output_type": "execute_result"
    }
   ],
   "source": [
    "ns"
   ]
  },
  {
   "cell_type": "code",
   "execution_count": 245,
   "id": "5476a063-5ba0-4cfe-ad26-9e6d0c439f81",
   "metadata": {},
   "outputs": [
    {
     "data": {
      "text/plain": [
       "[0, 1, 2, 3, 4]"
      ]
     },
     "execution_count": 245,
     "metadata": {},
     "output_type": "execute_result"
    }
   ],
   "source": [
    "idxs"
   ]
  },
  {
   "cell_type": "code",
   "execution_count": 246,
   "id": "54d3f75d-06b2-45ea-8301-4cc1e1d58f12",
   "metadata": {},
   "outputs": [
    {
     "name": "stderr",
     "output_type": "stream",
     "text": [
      "/tmp/ipykernel_68/2089767210.py:23: RuntimeWarning: invalid value encountered in double_scalars\n",
      "  return np.cos(p / denomiator)\n",
      "/tmp/ipykernel_68/2089767210.py:19: RuntimeWarning: invalid value encountered in double_scalars\n",
      "  return np.sin(p / denomiator)\n",
      "/tmp/ipykernel_68/2089767210.py:23: RuntimeWarning: divide by zero encountered in double_scalars\n",
      "  return np.cos(p / denomiator)\n",
      "/tmp/ipykernel_68/2089767210.py:23: RuntimeWarning: invalid value encountered in cos\n",
      "  return np.cos(p / denomiator)\n",
      "/tmp/ipykernel_68/2089767210.py:19: RuntimeWarning: divide by zero encountered in double_scalars\n",
      "  return np.sin(p / denomiator)\n",
      "/tmp/ipykernel_68/2089767210.py:19: RuntimeWarning: invalid value encountered in sin\n",
      "  return np.sin(p / denomiator)\n"
     ]
    }
   ],
   "source": [
    "embeddings = [PostionalEncoding(n=n, d=5).encode(idxs) for n in ns]"
   ]
  },
  {
   "cell_type": "code",
   "execution_count": 247,
   "id": "357a0b9f-c3ff-494d-98e7-bc84e94d914a",
   "metadata": {},
   "outputs": [
    {
     "data": {
      "text/plain": [
       "[array([[ 0.        ,         nan,         nan,         nan,         nan],\n",
       "        [ 0.84147098,         nan,         nan,         nan,         nan],\n",
       "        [ 0.90929743,         nan,         nan,         nan,         nan],\n",
       "        [ 0.14112001,         nan,         nan,         nan,         nan],\n",
       "        [-0.7568025 ,         nan,         nan,         nan,         nan]]),\n",
       " array([[ 0.00000000e+00,  1.00000000e+00,  0.00000000e+00,\n",
       "          1.00000000e+00,  0.00000000e+00],\n",
       "        [ 8.41470985e-01,  9.87466836e-01,  2.51162229e-02,\n",
       "          9.99992076e-01,  6.30957303e-04],\n",
       "        [ 9.09297427e-01,  9.50181503e-01,  5.02165994e-02,\n",
       "          9.99968302e-01,  1.26191435e-03],\n",
       "        [ 1.41120008e-01,  8.89078609e-01,  7.52852930e-02,\n",
       "          9.99928681e-01,  1.89287090e-03],\n",
       "        [-7.56802495e-01,  8.05689779e-01,  1.00306487e-01,\n",
       "          9.99873211e-01,  2.52382670e-03]]),\n",
       " array([[ 0.00000000e+00,  1.00000000e+00,  0.00000000e+00,\n",
       "          1.00000000e+00,  0.00000000e+00],\n",
       "        [ 8.41470985e-01,  9.92795169e-01,  1.44264986e-02,\n",
       "          9.99998499e-01,  2.08138300e-04],\n",
       "        [ 9.09297427e-01,  9.71284494e-01,  2.88499945e-02,\n",
       "          9.99993994e-01,  4.16276592e-04],\n",
       "        [ 1.41120008e-01,  9.35777938e-01,  4.32674858e-02,\n",
       "          9.99986487e-01,  6.24414865e-04],\n",
       "        [-7.56802495e-01,  8.86787137e-01,  5.76759716e-02,\n",
       "          9.99975978e-01,  8.32553111e-04]]),\n",
       " array([[ 0.00000000e+00,  1.00000000e+00,  0.00000000e+00,\n",
       "          1.00000000e+00,  0.00000000e+00],\n",
       "        [ 8.41470985e-01,  9.94789307e-01,  1.04302597e-02,\n",
       "          9.99999433e-01,  1.08794262e-04],\n",
       "        [ 9.09297427e-01,  9.79211531e-01,  2.08593846e-02,\n",
       "          9.99997730e-01,  2.17588523e-04],\n",
       "        [ 1.41120008e-01,  9.53429014e-01,  3.12862402e-02,\n",
       "          9.99994894e-01,  3.26382782e-04],\n",
       "        [-7.56802495e-01,  9.17710445e-01,  4.17096921e-02,\n",
       "          9.99990922e-01,  4.35177036e-04]]),\n",
       " array([[ 0.00000000e+00,  1.00000000e+00,  0.00000000e+00,\n",
       "          1.00000000e+00,  0.00000000e+00],\n",
       "        [ 8.41470985e-01,  9.95859793e-01,  8.28604022e-03,\n",
       "          9.99999716e-01,  6.86600339e-05],\n",
       "        [ 9.09297427e-01,  9.83473453e-01,  1.65715115e-02,\n",
       "          9.99998862e-01,  1.37320067e-04],\n",
       "        [ 1.41120008e-01,  9.62943545e-01,  2.48558450e-02,\n",
       "          9.99997440e-01,  2.05980100e-04],\n",
       "        [-7.56802495e-01,  9.34440064e-01,  3.31384720e-02,\n",
       "          9.99995449e-01,  2.74640132e-04]])]"
      ]
     },
     "execution_count": 247,
     "metadata": {},
     "output_type": "execute_result"
    }
   ],
   "source": [
    "embeddings"
   ]
  },
  {
   "cell_type": "code",
   "execution_count": null,
   "id": "9600aca8-50c8-473f-8160-54ec30e77d43",
   "metadata": {},
   "outputs": [],
   "source": []
  }
 ],
 "metadata": {
  "kernelspec": {
   "display_name": "Python 3 (ipykernel)",
   "language": "python",
   "name": "python3"
  },
  "language_info": {
   "codemirror_mode": {
    "name": "ipython",
    "version": 3
   },
   "file_extension": ".py",
   "mimetype": "text/x-python",
   "name": "python",
   "nbconvert_exporter": "python",
   "pygments_lexer": "ipython3",
   "version": "3.9.13"
  }
 },
 "nbformat": 4,
 "nbformat_minor": 5
}
