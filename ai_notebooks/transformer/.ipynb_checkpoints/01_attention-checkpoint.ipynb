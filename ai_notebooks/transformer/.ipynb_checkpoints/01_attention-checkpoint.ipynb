{
 "cells": [
  {
   "cell_type": "markdown",
   "id": "a19c0325-a195-4632-8417-16a2193a2f61",
   "metadata": {},
   "source": [
    "### Attention"
   ]
  },
  {
   "cell_type": "markdown",
   "id": "4ecc3282-0f72-463e-8d6b-3324e96658ba",
   "metadata": {},
   "source": [
    "##### Example 1"
   ]
  },
  {
   "cell_type": "code",
   "execution_count": 1,
   "id": "f70bb1d6-2bbe-4344-b789-fdd297f7ef63",
   "metadata": {},
   "outputs": [],
   "source": [
    "import torch"
   ]
  },
  {
   "cell_type": "code",
   "execution_count": 7,
   "id": "0ca84546-938e-489b-9fce-7626b7c59a10",
   "metadata": {},
   "outputs": [],
   "source": [
    "import torch.nn.functional as F"
   ]
  },
  {
   "cell_type": "code",
   "execution_count": 3,
   "id": "1005cbbd-cb07-48f3-8720-bd9e5df45b45",
   "metadata": {},
   "outputs": [],
   "source": [
    "encoder_hidden_states = torch.tensor([\n",
    "                            [0.21, 0.51, 1.25],\n",
    "                            [4.13, -41.3, 0.31],\n",
    "                            [3.2, 0.02, 9.44]])"
   ]
  },
  {
   "cell_type": "code",
   "execution_count": 4,
   "id": "6e75b495-38fd-459d-8519-d7a8358c153e",
   "metadata": {},
   "outputs": [
    {
     "data": {
      "text/plain": [
       "tensor([[ 2.1000e-01,  5.1000e-01,  1.2500e+00],\n",
       "        [ 4.1300e+00, -4.1300e+01,  3.1000e-01],\n",
       "        [ 3.2000e+00,  2.0000e-02,  9.4400e+00]])"
      ]
     },
     "execution_count": 4,
     "metadata": {},
     "output_type": "execute_result"
    }
   ],
   "source": [
    "encoder_hidden_states"
   ]
  },
  {
   "cell_type": "code",
   "execution_count": 9,
   "id": "95230bc1-dc19-4689-8fc4-91658094ec34",
   "metadata": {},
   "outputs": [],
   "source": [
    "scores = torch.tensor([13, 9, 9], dtype=torch.float)"
   ]
  },
  {
   "cell_type": "code",
   "execution_count": 11,
   "id": "a14dbd3d-6ab1-425f-9cc2-2309d2a4275e",
   "metadata": {},
   "outputs": [],
   "source": [
    "softmax_scores = F.softmax(scores, dim=0)"
   ]
  },
  {
   "cell_type": "code",
   "execution_count": 14,
   "id": "0af86782-b9c3-4385-84a2-f54d9ae31097",
   "metadata": {},
   "outputs": [],
   "source": [
    "output = softmax_scores * encoder_hidden_states"
   ]
  },
  {
   "cell_type": "code",
   "execution_count": 15,
   "id": "ffe18d7e-dc33-4ab7-a9f7-2864aa7a66bc",
   "metadata": {},
   "outputs": [
    {
     "data": {
      "text/plain": [
       "tensor([[ 2.0258e-01,  9.0109e-03,  2.2086e-02],\n",
       "        [ 3.9841e+00, -7.2971e-01,  5.4772e-03],\n",
       "        [ 3.0869e+00,  3.5337e-04,  1.6679e-01]])"
      ]
     },
     "execution_count": 15,
     "metadata": {},
     "output_type": "execute_result"
    }
   ],
   "source": [
    "output"
   ]
  },
  {
   "cell_type": "code",
   "execution_count": 16,
   "id": "27904bfe-f15b-4025-8f67-2276a3d294c3",
   "metadata": {},
   "outputs": [
    {
     "data": {
      "text/plain": [
       "tensor([0.2337, 3.2598, 3.2541])"
      ]
     },
     "execution_count": 16,
     "metadata": {},
     "output_type": "execute_result"
    }
   ],
   "source": [
    "output.sum(dim=-1)"
   ]
  },
  {
   "cell_type": "markdown",
   "id": "e25526e8-81ee-424d-aa0f-3807ee1532a9",
   "metadata": {
    "tags": []
   },
   "source": [
    "##### Example 2: Compute keys"
   ]
  },
  {
   "cell_type": "code",
   "execution_count": 54,
   "id": "ac67e057-309a-459f-b574-702411ae61b5",
   "metadata": {},
   "outputs": [],
   "source": [
    "v_1 = torch.tensor([1, 0, 1, 0])"
   ]
  },
  {
   "cell_type": "code",
   "execution_count": 55,
   "id": "cd6ed04e-f3d5-4975-9668-0e7b70ffa50c",
   "metadata": {},
   "outputs": [],
   "source": [
    "v_2 = torch.tensor([0, 2, 0, 2])"
   ]
  },
  {
   "cell_type": "code",
   "execution_count": 56,
   "id": "8578dc6b-1efa-4312-a47a-15618ce1abd6",
   "metadata": {},
   "outputs": [],
   "source": [
    "v_3 = torch.tensor([1, 1, 1, 1])"
   ]
  },
  {
   "cell_type": "code",
   "execution_count": 60,
   "id": "9c017eae-5a68-49f0-ba94-73f91785e3cc",
   "metadata": {},
   "outputs": [],
   "source": [
    "W_k1 = torch.tensor([0, 1, 0, 1])"
   ]
  },
  {
   "cell_type": "code",
   "execution_count": 61,
   "id": "0601ec7b-ebfe-45a9-ad31-d41558758840",
   "metadata": {},
   "outputs": [],
   "source": [
    "W_k2 = torch.tensor([0, 1, 1, 1])"
   ]
  },
  {
   "cell_type": "code",
   "execution_count": 62,
   "id": "6cdd1bd8-c756-451f-b129-93b1d12c8ea9",
   "metadata": {},
   "outputs": [],
   "source": [
    "W_k3 = torch.tensor([1, 0, 0, 0])"
   ]
  },
  {
   "cell_type": "code",
   "execution_count": 59,
   "id": "eb9b1470-9d59-41e1-9ce8-2eb0a9f179e0",
   "metadata": {
    "tags": []
   },
   "outputs": [
    {
     "data": {
      "text/plain": [
       "tensor([[0, 0, 1],\n",
       "        [1, 1, 0],\n",
       "        [0, 1, 0],\n",
       "        [1, 1, 0]])"
      ]
     },
     "execution_count": 59,
     "metadata": {},
     "output_type": "execute_result"
    }
   ],
   "source": [
    "W_k"
   ]
  },
  {
   "cell_type": "markdown",
   "id": "de0fb007-f550-4713-8923-625f45f8e156",
   "metadata": {},
   "source": [
    "`v_1`, `v_2`, `v_3` are embedding vectors of three words"
   ]
  },
  {
   "cell_type": "code",
   "execution_count": 95,
   "id": "20ff9229-d043-4be4-92a9-7db3f4484278",
   "metadata": {},
   "outputs": [
    {
     "data": {
      "text/plain": [
       "(tensor([1, 0, 1, 0]), tensor([0, 2, 0, 2]), tensor([1, 1, 1, 1]))"
      ]
     },
     "execution_count": 95,
     "metadata": {},
     "output_type": "execute_result"
    }
   ],
   "source": [
    "v_1, v_2, v_3"
   ]
  },
  {
   "cell_type": "markdown",
   "id": "2684c554-5b6f-43a7-8056-5cace7ba8252",
   "metadata": {},
   "source": [
    "`W_k1`, `W_k2`, `W_k3` are weights vectors for keys"
   ]
  },
  {
   "cell_type": "code",
   "execution_count": 96,
   "id": "19a05a2b-d022-43e4-89ab-88c0be9a5f76",
   "metadata": {},
   "outputs": [
    {
     "data": {
      "text/plain": [
       "(tensor([0, 1, 0, 1]), tensor([0, 1, 1, 1]), tensor([1, 0, 0, 0]))"
      ]
     },
     "execution_count": 96,
     "metadata": {},
     "output_type": "execute_result"
    }
   ],
   "source": [
    "W_k1, W_k2, W_k3"
   ]
  },
  {
   "cell_type": "markdown",
   "id": "0359ed51-f23e-4e09-91a5-c02fa44d7bc0",
   "metadata": {},
   "source": [
    "**Self-Attention**: Write a function that computes the key for each vector as bellow from scratch"
   ]
  },
  {
   "cell_type": "code",
   "execution_count": 97,
   "id": "5b43f335-8bf5-4131-9550-8a15d9b9699c",
   "metadata": {},
   "outputs": [],
   "source": [
    "def compute_keys(vs, ws):\n",
    "    v = torch.stack([*vs])\n",
    "    w = torch.stack([*ws], dim=1)\n",
    "    \n",
    "    return v@w"
   ]
  },
  {
   "cell_type": "code",
   "execution_count": 98,
   "id": "cab85700-a13b-402b-b7cd-b02baa1a95d9",
   "metadata": {},
   "outputs": [],
   "source": [
    "keys = compute_keys([v_1, v_2, v_3], [W_k1, W_k2, W_k3])"
   ]
  },
  {
   "cell_type": "code",
   "execution_count": 99,
   "id": "5a73c683-0f58-4c47-80dd-52123508162c",
   "metadata": {},
   "outputs": [
    {
     "data": {
      "text/plain": [
       "tensor([[0, 1, 1],\n",
       "        [4, 4, 0],\n",
       "        [2, 3, 1]])"
      ]
     },
     "execution_count": 99,
     "metadata": {},
     "output_type": "execute_result"
    }
   ],
   "source": [
    "keys"
   ]
  },
  {
   "cell_type": "markdown",
   "id": "d1e72657-d194-40ea-8e03-5e2bfd41ee20",
   "metadata": {},
   "source": [
    "`keys[0]` is the key for `v_1`"
   ]
  },
  {
   "cell_type": "code",
   "execution_count": 100,
   "id": "8cc7fac1-caf9-4d6d-966c-daa37d19664e",
   "metadata": {},
   "outputs": [
    {
     "data": {
      "text/plain": [
       "tensor([0, 1, 1])"
      ]
     },
     "execution_count": 100,
     "metadata": {},
     "output_type": "execute_result"
    }
   ],
   "source": [
    "keys[0]"
   ]
  },
  {
   "cell_type": "markdown",
   "id": "4670c356-9aaf-4454-82a6-4e3e5f80bf09",
   "metadata": {},
   "source": [
    "##### Example 3"
   ]
  },
  {
   "cell_type": "code",
   "execution_count": 101,
   "id": "8daef5d7-70a5-40df-8919-5f52b0e2fc35",
   "metadata": {},
   "outputs": [],
   "source": [
    "keys = compute_keys([v_1, v_2, v_3], [W_k1, W_k2, W_k3])"
   ]
  },
  {
   "cell_type": "markdown",
   "id": "420b5f7c-4544-4205-b26c-a29e1a4ac839",
   "metadata": {},
   "source": [
    "`W_k` is a matrix that contains the weight keys for `v1`, `v2`, `v3` respectively"
   ]
  },
  {
   "cell_type": "code",
   "execution_count": 108,
   "id": "b5a64c91-c291-4b25-ad9e-0c552797626a",
   "metadata": {},
   "outputs": [],
   "source": [
    "v = torch.stack([v_1, v_2, v_3])"
   ]
  },
  {
   "cell_type": "code",
   "execution_count": 110,
   "id": "1da8c79c-7538-41c7-bcb6-3a9fe46791a6",
   "metadata": {},
   "outputs": [],
   "source": [
    "W_k = torch.tensor([[0, 0, 1],\n",
    "                    [1, 1, 0],\n",
    "                    [0, 1, 0],\n",
    "                    [1, 1, 0]])"
   ]
  },
  {
   "cell_type": "code",
   "execution_count": 111,
   "id": "62c38144-5db4-4d41-ac2d-1c73f4ba127e",
   "metadata": {},
   "outputs": [],
   "source": [
    "W_q = torch.tensor([[1, 0, 1],\n",
    "                    [1, 0, 0],\n",
    "                    [0, 0, 1],\n",
    "                    [0, 1, 1]])"
   ]
  },
  {
   "cell_type": "code",
   "execution_count": 112,
   "id": "ed525166-ca9b-4acf-bee0-3591d43e4f4b",
   "metadata": {},
   "outputs": [],
   "source": [
    "W_v = torch.tensor([[0, 2, 0],\n",
    "                    [0, 3, 0],\n",
    "                    [1, 0, 3],\n",
    "                    [1, 1, 0]])"
   ]
  },
  {
   "cell_type": "code",
   "execution_count": 113,
   "id": "92d4fbe6-c5c9-4f68-9b3a-9d44d709099c",
   "metadata": {},
   "outputs": [],
   "source": [
    "keys = v @ W_k"
   ]
  },
  {
   "cell_type": "code",
   "execution_count": 114,
   "id": "92d5b9de-e03c-4d2c-99bb-32331c069968",
   "metadata": {},
   "outputs": [
    {
     "data": {
      "text/plain": [
       "tensor([[0, 1, 1],\n",
       "        [4, 4, 0],\n",
       "        [2, 3, 1]])"
      ]
     },
     "execution_count": 114,
     "metadata": {},
     "output_type": "execute_result"
    }
   ],
   "source": [
    "keys"
   ]
  },
  {
   "cell_type": "code",
   "execution_count": 115,
   "id": "039958fb-e2b9-4b48-8143-e1d0f3e8a44c",
   "metadata": {},
   "outputs": [],
   "source": [
    "queries = v @ W_q"
   ]
  },
  {
   "cell_type": "code",
   "execution_count": 119,
   "id": "2b0fc0b4-8a05-465b-b9ad-3904f88d337e",
   "metadata": {},
   "outputs": [
    {
     "data": {
      "text/plain": [
       "tensor([[1, 0, 2],\n",
       "        [2, 2, 2],\n",
       "        [2, 1, 3]])"
      ]
     },
     "execution_count": 119,
     "metadata": {},
     "output_type": "execute_result"
    }
   ],
   "source": [
    "queries"
   ]
  },
  {
   "cell_type": "code",
   "execution_count": 116,
   "id": "4c45d14c-879a-45d1-9667-2fa4e2d38682",
   "metadata": {},
   "outputs": [],
   "source": [
    "values = v @ W_v"
   ]
  },
  {
   "cell_type": "code",
   "execution_count": 118,
   "id": "ccaa6f5c-7740-4fdb-8520-72628ce13e50",
   "metadata": {},
   "outputs": [
    {
     "data": {
      "text/plain": [
       "tensor([[1, 2, 3],\n",
       "        [2, 8, 0],\n",
       "        [2, 6, 3]])"
      ]
     },
     "execution_count": 118,
     "metadata": {},
     "output_type": "execute_result"
    }
   ],
   "source": [
    "values"
   ]
  },
  {
   "cell_type": "code",
   "execution_count": 123,
   "id": "ea95f267-a3c5-4588-835c-137342af2302",
   "metadata": {},
   "outputs": [
    {
     "data": {
      "text/plain": [
       "tensor([[0, 0, 4],\n",
       "        [1, 0, 6],\n",
       "        [1, 0, 2]])"
      ]
     },
     "execution_count": 123,
     "metadata": {},
     "output_type": "execute_result"
    }
   ],
   "source": [
    "queries[0] * keys.t()"
   ]
  },
  {
   "cell_type": "code",
   "execution_count": 158,
   "id": "863cd779-6126-410f-be60-8a02e8865d77",
   "metadata": {},
   "outputs": [
    {
     "data": {
      "text/plain": [
       "tensor([[1, 0, 2],\n",
       "        [2, 2, 2],\n",
       "        [2, 1, 3]])"
      ]
     },
     "execution_count": 158,
     "metadata": {},
     "output_type": "execute_result"
    }
   ],
   "source": [
    "queries"
   ]
  },
  {
   "cell_type": "code",
   "execution_count": 147,
   "id": "17d99b72-4f6f-47b5-9155-342b58e2ba6e",
   "metadata": {},
   "outputs": [
    {
     "data": {
      "text/plain": [
       "tensor([[0, 4, 2],\n",
       "        [1, 4, 3],\n",
       "        [1, 0, 1]])"
      ]
     },
     "execution_count": 147,
     "metadata": {},
     "output_type": "execute_result"
    }
   ],
   "source": [
    "keys.t()"
   ]
  },
  {
   "cell_type": "code",
   "execution_count": 143,
   "id": "b0754c86-4a6d-4e99-8ed8-67bffb31312d",
   "metadata": {},
   "outputs": [
    {
     "data": {
      "text/plain": [
       "tensor([0, 0, 0])"
      ]
     },
     "execution_count": 143,
     "metadata": {},
     "output_type": "execute_result"
    }
   ],
   "source": [
    "queries[0][1] * keys[0]"
   ]
  },
  {
   "cell_type": "code",
   "execution_count": 153,
   "id": "0eed4724-8d3a-4123-8433-7a2e7c236c56",
   "metadata": {},
   "outputs": [],
   "source": [
    "attention_score = queries[0] @ keys.t()"
   ]
  },
  {
   "cell_type": "code",
   "execution_count": 154,
   "id": "85eb5dc0-1961-43b4-ba30-c3abe4b3177a",
   "metadata": {},
   "outputs": [
    {
     "data": {
      "text/plain": [
       "tensor([2, 4, 4])"
      ]
     },
     "execution_count": 154,
     "metadata": {},
     "output_type": "execute_result"
    }
   ],
   "source": [
    "attention_score"
   ]
  },
  {
   "cell_type": "code",
   "execution_count": 156,
   "id": "e3de7d9f-56e2-448b-8931-969ed0b5faf9",
   "metadata": {},
   "outputs": [
    {
     "data": {
      "text/plain": [
       "tensor([2, 4, 4])"
      ]
     },
     "execution_count": 156,
     "metadata": {},
     "output_type": "execute_result"
    }
   ],
   "source": [
    "queries[0] @ keys.t()"
   ]
  },
  {
   "cell_type": "code",
   "execution_count": 157,
   "id": "575aa1a8-6d58-4d30-8026-8b0ae4828b1d",
   "metadata": {},
   "outputs": [
    {
     "data": {
      "text/plain": [
       "tensor([0.0634, 0.4683, 0.4683])"
      ]
     },
     "execution_count": 157,
     "metadata": {},
     "output_type": "execute_result"
    }
   ],
   "source": [
    "F.softmax(attention_score.float(), dim=0)"
   ]
  },
  {
   "cell_type": "markdown",
   "id": "3cb2d2cd-53d6-44a5-a0ac-ae63f230c4fc",
   "metadata": {},
   "source": [
    "##### Example 2"
   ]
  },
  {
   "cell_type": "code",
   "execution_count": 161,
   "id": "f4e86f46-2899-4b15-bb22-9aea9ab0524f",
   "metadata": {},
   "outputs": [],
   "source": [
    "v = torch.tensor([[1, 0, 1, 0],\n",
    "                  [0, 2, 0, 2],\n",
    "                  [1, 1, 1, 1]], dtype=torch.float)"
   ]
  },
  {
   "cell_type": "code",
   "execution_count": 163,
   "id": "1e373745-c151-4d7a-b435-e573c7b92a55",
   "metadata": {},
   "outputs": [
    {
     "data": {
      "text/plain": [
       "tensor([[1., 0., 1., 0.],\n",
       "        [0., 2., 0., 2.],\n",
       "        [1., 1., 1., 1.]])"
      ]
     },
     "execution_count": 163,
     "metadata": {},
     "output_type": "execute_result"
    }
   ],
   "source": [
    "v"
   ]
  },
  {
   "cell_type": "code",
   "execution_count": 176,
   "id": "6021226e-3d84-4386-8bcb-efc0efe9115b",
   "metadata": {},
   "outputs": [
    {
     "data": {
      "text/plain": [
       "tensor([1., 0., 1., 0.])"
      ]
     },
     "execution_count": 176,
     "metadata": {},
     "output_type": "execute_result"
    }
   ],
   "source": [
    "v[0]"
   ]
  },
  {
   "cell_type": "markdown",
   "id": "ca19f44a-4e1b-4809-8433-dc2c4fa162bb",
   "metadata": {},
   "source": [
    "They the weights of keys of `v[0]` is `w_key[:, 0]`"
   ]
  },
  {
   "cell_type": "code",
   "execution_count": 174,
   "id": "ee65df05-32aa-47f0-828a-228c6a224d21",
   "metadata": {},
   "outputs": [],
   "source": [
    "w_key = torch.tensor([[0, 0, 1],\n",
    "                      [1, 1, 0],\n",
    "                      [0, 1, 0],\n",
    "                      [1, 1, 0]], dtype=torch.float)"
   ]
  },
  {
   "cell_type": "code",
   "execution_count": 175,
   "id": "8dfaae8c-63de-46c7-ac9e-e2b8300b43ca",
   "metadata": {},
   "outputs": [],
   "source": [
    "w_query = torch.tensor([[1, 0, 1],\n",
    "                        [1, 0, 0],\n",
    "                        [0, 0, 1],\n",
    "                        [0, 1, 1]], dtype=torch.float)"
   ]
  },
  {
   "cell_type": "code",
   "execution_count": 170,
   "id": "6009b3c8-66b8-4ac1-803b-751d7ed93376",
   "metadata": {},
   "outputs": [],
   "source": [
    "w_value = torch.tensor([[0, 2, 0],\n",
    "                        [0, 3, 0],\n",
    "                        [1, 0, 3],\n",
    "                        [1, 1, 0]], dtype=torch.float)"
   ]
  },
  {
   "cell_type": "code",
   "execution_count": 178,
   "id": "d5fc4879-3f09-4eef-8b7b-a2baf863df42",
   "metadata": {},
   "outputs": [],
   "source": [
    "keys = v @ w_key"
   ]
  },
  {
   "cell_type": "code",
   "execution_count": 179,
   "id": "cf2bb771-9b57-42b6-b3a9-d92cdab04dee",
   "metadata": {},
   "outputs": [],
   "source": [
    "queries = v @ w_query"
   ]
  },
  {
   "cell_type": "code",
   "execution_count": 180,
   "id": "1f892ace-f53d-42ca-b0a4-0503deb71d2c",
   "metadata": {},
   "outputs": [],
   "source": [
    "values = v @ w_value"
   ]
  },
  {
   "cell_type": "code",
   "execution_count": 181,
   "id": "b880a4b7-b6f8-4b7a-96d8-3235ce201610",
   "metadata": {},
   "outputs": [
    {
     "data": {
      "text/plain": [
       "tensor([[1., 0., 2.],\n",
       "        [2., 2., 2.],\n",
       "        [2., 1., 3.]])"
      ]
     },
     "execution_count": 181,
     "metadata": {},
     "output_type": "execute_result"
    }
   ],
   "source": [
    "queries"
   ]
  },
  {
   "cell_type": "code",
   "execution_count": 182,
   "id": "1c2aeb20-7b84-4aad-ab31-8c6559084e5d",
   "metadata": {},
   "outputs": [
    {
     "data": {
      "text/plain": [
       "tensor([[0., 1., 1.],\n",
       "        [4., 4., 0.],\n",
       "        [2., 3., 1.]])"
      ]
     },
     "execution_count": 182,
     "metadata": {},
     "output_type": "execute_result"
    }
   ],
   "source": [
    "keys"
   ]
  },
  {
   "cell_type": "code",
   "execution_count": 183,
   "id": "0bcc90ec-30dc-41d4-a3a7-f07414dc358d",
   "metadata": {},
   "outputs": [
    {
     "data": {
      "text/plain": [
       "tensor([[ 4.,  7.,  3.],\n",
       "        [12., 16.,  4.],\n",
       "        [10., 15.,  5.]])"
      ]
     },
     "execution_count": 183,
     "metadata": {},
     "output_type": "execute_result"
    }
   ],
   "source": [
    "queries @ keys"
   ]
  },
  {
   "cell_type": "code",
   "execution_count": null,
   "id": "a5a971e9-d0db-4b6c-b6ab-985448176aa5",
   "metadata": {},
   "outputs": [],
   "source": []
  }
 ],
 "metadata": {
  "kernelspec": {
   "display_name": "Python 3 (ipykernel)",
   "language": "python",
   "name": "python3"
  },
  "language_info": {
   "codemirror_mode": {
    "name": "ipython",
    "version": 3
   },
   "file_extension": ".py",
   "mimetype": "text/x-python",
   "name": "python",
   "nbconvert_exporter": "python",
   "pygments_lexer": "ipython3",
   "version": "3.9.13"
  }
 },
 "nbformat": 4,
 "nbformat_minor": 5
}
