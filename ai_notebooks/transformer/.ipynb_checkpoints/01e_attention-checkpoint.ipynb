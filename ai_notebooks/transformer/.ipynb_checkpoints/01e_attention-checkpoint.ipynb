{
 "cells": [
  {
   "cell_type": "code",
   "execution_count": 7,
   "id": "095d3dc7-f7d7-4728-8bac-c28347a72889",
   "metadata": {},
   "outputs": [],
   "source": [
    "import torch\n",
    "from torch import nn"
   ]
  },
  {
   "cell_type": "markdown",
   "id": "dad1b398-36e8-43e7-b699-ca8fd16342ff",
   "metadata": {},
   "source": [
    "- `d_model`: the number of features in `query`, `key`, and `value` vectors\n",
    "- `heads`: number of heads in multi-head attention\n",
    "- `d_k`: the number dimension in vectors in each head"
   ]
  },
  {
   "cell_type": "code",
   "execution_count": 11,
   "id": "9404f85e-94c1-4a65-a4cb-f2ec58198a01",
   "metadata": {},
   "outputs": [],
   "source": [
    "class PrepareForMultiHeadAttention(nn.Module):\n",
    "    \"Adds two numbers together\"\n",
    "    def __init__(self, d_model, heads, d_k, bias):\n",
    "        super().__init__()\n",
    "        self.linear = nn.Linear(d_model, heads * d_k, bias=bias)\n",
    "        self.heads = heads\n",
    "        self.d_k = d_k\n",
    "    \n",
    "    def forward(self, x):\n",
    "        head_shape = x.shape[:-1]\n",
    "        \n",
    "        x = self.linear(x)\n",
    "        x = x.view(*head_shape, self.heads, self.d_k)\n",
    "        \n",
    "        return x"
   ]
  },
  {
   "cell_type": "code",
   "execution_count": null,
   "id": "96197e0a-cd97-471d-bc55-43b32ce4e19f",
   "metadata": {},
   "outputs": [],
   "source": [
    "class MultiHeadAttention(nn.Module):\n",
    "    def __init__(self, heads, d_model, dropout_prop, bias):\n",
    "        super().__init__()\n",
    "        self.d_k = d_model // heads\n",
    "        self.heads = heads\n",
    "        self.query = PrepareForMultiHeadAttention(\n",
    "            d_model=d_model, heads=heads,\n",
    "            d_k=self.d_k, bias=bias\n",
    "        )\n",
    "        self.query = PrepareForMultiHeadAttention(\n",
    "            d_model=d_model, heads=heads,\n",
    "            d_k=self.d_k, bias=bias\n",
    "        )"
   ]
  },
  {
   "cell_type": "code",
   "execution_count": null,
   "id": "67cbf143-f83f-4626-9daa-fae2d0be5033",
   "metadata": {},
   "outputs": [],
   "source": []
  },
  {
   "cell_type": "code",
   "execution_count": null,
   "id": "fc091935-463c-4760-934d-1b9ef6fbaccc",
   "metadata": {},
   "outputs": [],
   "source": []
  }
 ],
 "metadata": {
  "kernelspec": {
   "display_name": "Python 3 (ipykernel)",
   "language": "python",
   "name": "python3"
  },
  "language_info": {
   "codemirror_mode": {
    "name": "ipython",
    "version": 3
   },
   "file_extension": ".py",
   "mimetype": "text/x-python",
   "name": "python",
   "nbconvert_exporter": "python",
   "pygments_lexer": "ipython3",
   "version": "3.9.13"
  }
 },
 "nbformat": 4,
 "nbformat_minor": 5
}
