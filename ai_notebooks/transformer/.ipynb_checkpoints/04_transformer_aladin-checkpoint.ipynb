{
 "cells": [
  {
   "cell_type": "code",
   "execution_count": 1,
   "id": "60440963-fbae-4b10-9dfb-a01eb3aa61ba",
   "metadata": {},
   "outputs": [],
   "source": [
    "import torch\n",
    "from torch import nn"
   ]
  },
  {
   "cell_type": "markdown",
   "id": "9cd4b809-46a9-4288-9c36-19fad78f114c",
   "metadata": {},
   "source": [
    "- `heads`: split an embedding to how many parts\n",
    "    + eg: `embed_size` is 256, `heads` is 8 => split to 32 parts"
   ]
  },
  {
   "cell_type": "code",
   "execution_count": null,
   "id": "e5bc13d4-aeb5-430a-bcee-bc869cba8920",
   "metadata": {},
   "outputs": [],
   "source": [
    "class SelfAttention(nn.Module):\n",
    "    def __init__(self, embed_size, heads):\n",
    "        super().__init__()\n",
    "        \n",
    "        self.embed_size = embed_size\n",
    "        self.heads = heads\n",
    "        self.head_dim = embed_size // heads\n",
    "        \n",
    "        # make sure, can split\n",
    "        assert self.head_dim * heads == embed_size, \"Embed size needs to be div by heads\"\n",
    "        \n",
    "        self.values = nn.Linear(self.head_dim, self.head_dim, bias=False)\n",
    "        self.keys = nn.Linear(self.head_dim, self.head_dim, bias=False)\n",
    "        self.queries = nn.Linear(self.head_dim, self.head_dim, bias=False)\n",
    "        \n",
    "        self.fc_out = nn.Linear(self.head_dim * heads, embed_size)\n",
    "    \n",
    "    def forward(self, values, keys, query, mask):\n",
    "        N = query.shape[0]\n",
    "        value_len, key_len, query_len = values.shape[1], keys.shape[1], query.shape[1]\n",
    "        "
   ]
  },
  {
   "cell_type": "code",
   "execution_count": 2,
   "id": "43aeed7d-8a1b-410b-a4b8-4eb38ee25879",
   "metadata": {},
   "outputs": [],
   "source": [
    "class Transformer(nn.Module):\n",
    "    def __init__(\n",
    "        self,\n",
    "        hidden_dim,\n",
    "        ff_dim,\n",
    "        num_heads,\n",
    "        num_layers,\n",
    "        max_decoding_length,\n",
    "        vocab_sze\n",
    "    ):\n",
    "        pass"
   ]
  },
  {
   "cell_type": "code",
   "execution_count": null,
   "id": "6cd7b402-139f-49ed-8727-2f899b5320dc",
   "metadata": {},
   "outputs": [],
   "source": []
  }
 ],
 "metadata": {
  "kernelspec": {
   "display_name": "Python 3 (ipykernel)",
   "language": "python",
   "name": "python3"
  },
  "language_info": {
   "codemirror_mode": {
    "name": "ipython",
    "version": 3
   },
   "file_extension": ".py",
   "mimetype": "text/x-python",
   "name": "python",
   "nbconvert_exporter": "python",
   "pygments_lexer": "ipython3",
   "version": "3.9.13"
  }
 },
 "nbformat": 4,
 "nbformat_minor": 5
}
