{
 "cells": [
  {
   "cell_type": "code",
   "execution_count": 8,
   "id": "f79b2d78-5ae1-4279-8111-9b46fe245b47",
   "metadata": {
    "tags": []
   },
   "outputs": [],
   "source": [
    "import torch\n",
    "import torch.nn as nn\n",
    "import torch.optim as optim\n",
    "import torchvision\n",
    "import torchvision.datasets as datasets\n",
    "from torch.utils.data import DataLoader\n",
    "import torchvision.transforms as tfms"
   ]
  },
  {
   "cell_type": "code",
   "execution_count": 9,
   "id": "39dad261-a7ce-4bb4-8698-56d889a3a435",
   "metadata": {},
   "outputs": [],
   "source": [
    "from fastai.vision.all import *"
   ]
  },
  {
   "cell_type": "code",
   "execution_count": 10,
   "id": "2fe8539d-86b6-410f-9b2b-803fe5c64e7c",
   "metadata": {},
   "outputs": [],
   "source": [
    "dataset = datasets.MNIST(root=\"dataset/\", download=True)"
   ]
  },
  {
   "cell_type": "code",
   "execution_count": 11,
   "id": "a3b16c2e-2f38-4df0-baed-b45ff4fb511c",
   "metadata": {},
   "outputs": [],
   "source": [
    "path = untar_data(URLs.MNIST)"
   ]
  },
  {
   "cell_type": "code",
   "execution_count": 12,
   "id": "6ddafcd9-cfc2-497d-8839-eacfa7a51b65",
   "metadata": {},
   "outputs": [
    {
     "data": {
      "text/plain": [
       "Path('/root/.fastai/data/mnist_png')"
      ]
     },
     "execution_count": 12,
     "metadata": {},
     "output_type": "execute_result"
    }
   ],
   "source": [
    "path"
   ]
  },
  {
   "cell_type": "code",
   "execution_count": 13,
   "id": "d017a189-c07c-4c58-a59d-a9129dcc8c72",
   "metadata": {},
   "outputs": [],
   "source": [
    "fnames = get_image_files(path)"
   ]
  },
  {
   "cell_type": "code",
   "execution_count": 66,
   "id": "da469951-40a7-4f79-b2ed-29bc3be1c84d",
   "metadata": {},
   "outputs": [
    {
     "data": {
      "text/plain": [
       "(#70000) [Path('/root/.fastai/data/mnist_png/training/7/9444.png'),Path('/root/.fastai/data/mnist_png/training/7/14605.png'),Path('/root/.fastai/data/mnist_png/training/7/13540.png'),Path('/root/.fastai/data/mnist_png/training/7/41244.png'),Path('/root/.fastai/data/mnist_png/training/7/14832.png'),Path('/root/.fastai/data/mnist_png/training/7/11829.png'),Path('/root/.fastai/data/mnist_png/training/7/51011.png'),Path('/root/.fastai/data/mnist_png/training/7/57526.png'),Path('/root/.fastai/data/mnist_png/training/7/48135.png'),Path('/root/.fastai/data/mnist_png/training/7/32363.png')...]"
      ]
     },
     "execution_count": 66,
     "metadata": {},
     "output_type": "execute_result"
    }
   ],
   "source": [
    "fnames"
   ]
  },
  {
   "cell_type": "code",
   "execution_count": 67,
   "id": "868a5d38-cba4-4433-ad45-1bf046a6e015",
   "metadata": {},
   "outputs": [],
   "source": [
    "item_tfms = [\n",
    "    # tfms.ToTensor(),\n",
    "    # tfms.Normalize(mean=0.5, std=0.5)\n",
    "]"
   ]
  },
  {
   "cell_type": "code",
   "execution_count": 68,
   "id": "0ff8ee4d-d91f-4532-9cf4-f589e4f49e20",
   "metadata": {},
   "outputs": [],
   "source": [
    "dblock = DataBlock(\n",
    "    blocks=[ImageBlock],\n",
    "    get_items=get_image_files,\n",
    "    item_tfms=item_tfms\n",
    ")"
   ]
  },
  {
   "cell_type": "code",
   "execution_count": 69,
   "id": "a59e199e-0f69-419a-9c65-f3de43f20287",
   "metadata": {},
   "outputs": [],
   "source": [
    "dls = dblock.dataloaders(path, bs=3)"
   ]
  },
  {
   "cell_type": "code",
   "execution_count": 74,
   "id": "febdf373-5314-4971-9246-8061bca3a2aa",
   "metadata": {},
   "outputs": [
    {
     "data": {
      "text/plain": [
       "<fastai.data.core.DataLoaders at 0x7f494950f580>"
      ]
     },
     "execution_count": 74,
     "metadata": {},
     "output_type": "execute_result"
    }
   ],
   "source": [
    "dls"
   ]
  },
  {
   "cell_type": "code",
   "execution_count": 70,
   "id": "cda711f5-7f81-4ae6-a436-155c0c689c2f",
   "metadata": {},
   "outputs": [
    {
     "data": {
      "image/png": "[encoded data removed]",
      "text/plain": [
       "<Figure size 648x216 with 3 Axes>"
      ]
     },
     "metadata": {
      "needs_background": "light"
     },
     "output_type": "display_data"
    }
   ],
   "source": [
    "dls.show_batch()"
   ]
  },
  {
   "cell_type": "markdown",
   "id": "f617b9be-377e-465b-8cf9-beb5702a066e",
   "metadata": {},
   "source": [
    "### Hyperparameters"
   ]
  },
  {
   "cell_type": "code",
   "execution_count": 77,
   "id": "5f37d6a1-313a-4ed4-8f16-ecd491320170",
   "metadata": {},
   "outputs": [],
   "source": [
    "lr = 3e-4"
   ]
  },
  {
   "cell_type": "code",
   "execution_count": 81,
   "id": "f9f4cdde-8dcf-4612-a692-d3f074064210",
   "metadata": {},
   "outputs": [],
   "source": [
    "z_dim = 64"
   ]
  },
  {
   "cell_type": "code",
   "execution_count": 80,
   "id": "ef45852f-d980-4ef8-842c-868ce839f2b0",
   "metadata": {},
   "outputs": [],
   "source": [
    "img_dim = 28*28"
   ]
  },
  {
   "cell_type": "markdown",
   "id": "93fbcfa6-5966-4bc7-bb1c-90a69041043f",
   "metadata": {},
   "source": [
    "### Generator's Learner"
   ]
  },
  {
   "cell_type": "code",
   "execution_count": 62,
   "id": "7a8bf6c4-0d36-475a-b5ae-55ac79ac2ef7",
   "metadata": {},
   "outputs": [],
   "source": [
    "class Generator(nn.Module):\n",
    "    def __init__(self, z_dim, img_dim):\n",
    "        super().__init__()\n",
    "        self.gen = nn.Sequential(\n",
    "            nn.Linear(z_dim, 256),\n",
    "            nn.LeakyReLU(0.1),\n",
    "            nn.Linear(256, img_dim),\n",
    "            nn.Tanh()\n",
    "        )\n",
    "    \n",
    "    def forward(self, x):\n",
    "        return self.gen(x)"
   ]
  },
  {
   "cell_type": "code",
   "execution_count": 83,
   "id": "761feb0b-715b-454d-a6ad-d490de9e1f62",
   "metadata": {},
   "outputs": [],
   "source": [
    "gen_model = Generator(z_dim, img_dim)"
   ]
  },
  {
   "cell_type": "code",
   "execution_count": 84,
   "id": "b36ef2b8-3d18-4082-84a7-f427ef352a6d",
   "metadata": {},
   "outputs": [],
   "source": [
    "loss_func = nn.BCELoss()"
   ]
  },
  {
   "cell_type": "code",
   "execution_count": 85,
   "id": "fd0ad5f9-de85-4e5b-9f2e-8d956b9c297d",
   "metadata": {},
   "outputs": [],
   "source": [
    "gen_opt = optim.Adam(gen_model.parameters(), lr=lr)"
   ]
  },
  {
   "cell_type": "code",
   "execution_count": 86,
   "id": "93fd0117-c76f-4024-81b9-01f829ff79a3",
   "metadata": {},
   "outputs": [],
   "source": [
    "gen_learner = Learner(gen_model, loss_func, gen_opt)"
   ]
  },
  {
   "cell_type": "code",
   "execution_count": 88,
   "id": "872eefa4-9f38-4266-8e02-4e10300d0034",
   "metadata": {},
   "outputs": [
    {
     "ename": "IndexError",
     "evalue": "list index out of range",
     "output_type": "error",
     "traceback": [
      "\u001b[0;31m---------------------------------------------------------------------------\u001b[0m",
      "\u001b[0;31mIndexError\u001b[0m                                Traceback (most recent call last)",
      "Input \u001b[0;32mIn [88]\u001b[0m, in \u001b[0;36m<cell line: 1>\u001b[0;34m()\u001b[0m\n\u001b[0;32m----> 1\u001b[0m \u001b[43mgen_learner\u001b[49m\u001b[38;5;241;43m.\u001b[39;49m\u001b[43mfit\u001b[49m\u001b[43m(\u001b[49m\u001b[38;5;241;43m1\u001b[39;49m\u001b[43m)\u001b[49m\n",
      "File \u001b[0;32m/usr/local/lib/python3.9/dist-packages/fastai/learner.py:251\u001b[0m, in \u001b[0;36mLearner.fit\u001b[0;34m(self, n_epoch, lr, wd, cbs, reset_opt, start_epoch)\u001b[0m\n\u001b[1;32m    249\u001b[0m     cbs \u001b[38;5;241m=\u001b[39m L(cbs) \u001b[38;5;241m+\u001b[39m SkipToEpoch(start_epoch)\n\u001b[1;32m    250\u001b[0m \u001b[38;5;28;01mwith\u001b[39;00m \u001b[38;5;28mself\u001b[39m\u001b[38;5;241m.\u001b[39madded_cbs(cbs):\n\u001b[0;32m--> 251\u001b[0m     \u001b[38;5;28;01mif\u001b[39;00m reset_opt \u001b[38;5;129;01mor\u001b[39;00m \u001b[38;5;129;01mnot\u001b[39;00m \u001b[38;5;28mself\u001b[39m\u001b[38;5;241m.\u001b[39mopt: \u001b[38;5;28;43mself\u001b[39;49m\u001b[38;5;241;43m.\u001b[39;49m\u001b[43mcreate_opt\u001b[49m\u001b[43m(\u001b[49m\u001b[43m)\u001b[49m\n\u001b[1;32m    252\u001b[0m     \u001b[38;5;28;01mif\u001b[39;00m wd \u001b[38;5;129;01mis\u001b[39;00m \u001b[38;5;28;01mNone\u001b[39;00m: wd \u001b[38;5;241m=\u001b[39m \u001b[38;5;28mself\u001b[39m\u001b[38;5;241m.\u001b[39mwd\n\u001b[1;32m    253\u001b[0m     \u001b[38;5;28;01mif\u001b[39;00m wd \u001b[38;5;129;01mis\u001b[39;00m \u001b[38;5;129;01mnot\u001b[39;00m \u001b[38;5;28;01mNone\u001b[39;00m: \u001b[38;5;28mself\u001b[39m\u001b[38;5;241m.\u001b[39mopt\u001b[38;5;241m.\u001b[39mset_hypers(wd\u001b[38;5;241m=\u001b[39mwd)\n",
      "File \u001b[0;32m/usr/local/lib/python3.9/dist-packages/fastai/learner.py:182\u001b[0m, in \u001b[0;36mLearner.create_opt\u001b[0;34m(self)\u001b[0m\n\u001b[1;32m    180\u001b[0m     \u001b[38;5;28;01mif\u001b[39;00m \u001b[38;5;124m'\u001b[39m\u001b[38;5;124mlr\u001b[39m\u001b[38;5;124m'\u001b[39m \u001b[38;5;129;01min\u001b[39;00m \u001b[38;5;28mself\u001b[39m\u001b[38;5;241m.\u001b[39mopt_func\u001b[38;5;241m.\u001b[39mkeywords:\n\u001b[1;32m    181\u001b[0m         \u001b[38;5;28mself\u001b[39m\u001b[38;5;241m.\u001b[39mlr \u001b[38;5;241m=\u001b[39m \u001b[38;5;28mself\u001b[39m\u001b[38;5;241m.\u001b[39mopt_func\u001b[38;5;241m.\u001b[39mkeywords[\u001b[38;5;124m'\u001b[39m\u001b[38;5;124mlr\u001b[39m\u001b[38;5;124m'\u001b[39m]\n\u001b[0;32m--> 182\u001b[0m \u001b[38;5;28mself\u001b[39m\u001b[38;5;241m.\u001b[39mopt \u001b[38;5;241m=\u001b[39m \u001b[38;5;28;43mself\u001b[39;49m\u001b[38;5;241;43m.\u001b[39;49m\u001b[43mopt_func\u001b[49m\u001b[43m(\u001b[49m\u001b[38;5;28;43mself\u001b[39;49m\u001b[38;5;241;43m.\u001b[39;49m\u001b[43msplitter\u001b[49m\u001b[43m(\u001b[49m\u001b[38;5;28;43mself\u001b[39;49m\u001b[38;5;241;43m.\u001b[39;49m\u001b[43mmodel\u001b[49m\u001b[43m)\u001b[49m\u001b[43m,\u001b[49m\u001b[43m \u001b[49m\u001b[43mlr\u001b[49m\u001b[38;5;241;43m=\u001b[39;49m\u001b[38;5;28;43mself\u001b[39;49m\u001b[38;5;241;43m.\u001b[39;49m\u001b[43mlr\u001b[49m\u001b[43m)\u001b[49m\n\u001b[1;32m    183\u001b[0m \u001b[38;5;28;01mif\u001b[39;00m \u001b[38;5;129;01mnot\u001b[39;00m \u001b[38;5;28mself\u001b[39m\u001b[38;5;241m.\u001b[39mwd_bn_bias:\n\u001b[1;32m    184\u001b[0m     \u001b[38;5;28;01mfor\u001b[39;00m p \u001b[38;5;129;01min\u001b[39;00m \u001b[38;5;28mself\u001b[39m\u001b[38;5;241m.\u001b[39m_bn_bias_state(\u001b[38;5;28;01mTrue\u001b[39;00m ): p[\u001b[38;5;124m'\u001b[39m\u001b[38;5;124mdo_wd\u001b[39m\u001b[38;5;124m'\u001b[39m] \u001b[38;5;241m=\u001b[39m \u001b[38;5;28;01mFalse\u001b[39;00m\n",
      "File \u001b[0;32m/usr/local/lib/python3.9/dist-packages/fastai/optimizer.py:218\u001b[0m, in \u001b[0;36mAdam\u001b[0;34m(params, lr, mom, sqr_mom, eps, wd, decouple_wd)\u001b[0m\n\u001b[1;32m    216\u001b[0m cbs \u001b[38;5;241m=\u001b[39m [weight_decay] \u001b[38;5;28;01mif\u001b[39;00m decouple_wd \u001b[38;5;28;01melse\u001b[39;00m [l2_reg]\n\u001b[1;32m    217\u001b[0m cbs \u001b[38;5;241m+\u001b[39m\u001b[38;5;241m=\u001b[39m [partial(average_grad, dampening\u001b[38;5;241m=\u001b[39m\u001b[38;5;28;01mTrue\u001b[39;00m), average_sqr_grad, step_stat, adam_step]\n\u001b[0;32m--> 218\u001b[0m \u001b[38;5;28;01mreturn\u001b[39;00m \u001b[43mOptimizer\u001b[49m\u001b[43m(\u001b[49m\u001b[43mparams\u001b[49m\u001b[43m,\u001b[49m\u001b[43m \u001b[49m\u001b[43mcbs\u001b[49m\u001b[43m,\u001b[49m\u001b[43m \u001b[49m\u001b[43mlr\u001b[49m\u001b[38;5;241;43m=\u001b[39;49m\u001b[43mlr\u001b[49m\u001b[43m,\u001b[49m\u001b[43m \u001b[49m\u001b[43mmom\u001b[49m\u001b[38;5;241;43m=\u001b[39;49m\u001b[43mmom\u001b[49m\u001b[43m,\u001b[49m\u001b[43m \u001b[49m\u001b[43msqr_mom\u001b[49m\u001b[38;5;241;43m=\u001b[39;49m\u001b[43msqr_mom\u001b[49m\u001b[43m,\u001b[49m\u001b[43m \u001b[49m\u001b[43meps\u001b[49m\u001b[38;5;241;43m=\u001b[39;49m\u001b[43meps\u001b[49m\u001b[43m,\u001b[49m\u001b[43m \u001b[49m\u001b[43mwd\u001b[49m\u001b[38;5;241;43m=\u001b[39;49m\u001b[43mwd\u001b[49m\u001b[43m)\u001b[49m\n",
      "File \u001b[0;32m/usr/local/lib/python3.9/dist-packages/fastai/optimizer.py:96\u001b[0m, in \u001b[0;36mOptimizer.__init__\u001b[0;34m(self, params, cbs, train_bn, **defaults)\u001b[0m\n\u001b[1;32m     94\u001b[0m \u001b[38;5;28mself\u001b[39m\u001b[38;5;241m.\u001b[39mcbs,\u001b[38;5;28mself\u001b[39m\u001b[38;5;241m.\u001b[39mstate,\u001b[38;5;28mself\u001b[39m\u001b[38;5;241m.\u001b[39mtrain_bn \u001b[38;5;241m=\u001b[39m L(cbs),defaultdict(\u001b[38;5;28mdict\u001b[39m),train_bn\n\u001b[1;32m     95\u001b[0m defaults \u001b[38;5;241m=\u001b[39m merge(\u001b[38;5;241m*\u001b[39m\u001b[38;5;28mself\u001b[39m\u001b[38;5;241m.\u001b[39mcbs\u001b[38;5;241m.\u001b[39mattrgot(\u001b[38;5;124m'\u001b[39m\u001b[38;5;124mdefaults\u001b[39m\u001b[38;5;124m'\u001b[39m), defaults)\n\u001b[0;32m---> 96\u001b[0m \u001b[38;5;28mself\u001b[39m\u001b[38;5;241m.\u001b[39mparam_lists \u001b[38;5;241m=\u001b[39m L(L(p) \u001b[38;5;28;01mfor\u001b[39;00m p \u001b[38;5;129;01min\u001b[39;00m params) \u001b[38;5;28;01mif\u001b[39;00m \u001b[38;5;28misinstance\u001b[39m(\u001b[43mparams\u001b[49m\u001b[43m[\u001b[49m\u001b[38;5;241;43m0\u001b[39;49m\u001b[43m]\u001b[49m, (L,\u001b[38;5;28mlist\u001b[39m)) \u001b[38;5;28;01melse\u001b[39;00m L([params])\n\u001b[1;32m     97\u001b[0m \u001b[38;5;28mself\u001b[39m\u001b[38;5;241m.\u001b[39mhypers \u001b[38;5;241m=\u001b[39m L({} \u001b[38;5;28;01mfor\u001b[39;00m _ \u001b[38;5;129;01min\u001b[39;00m range_of(\u001b[38;5;28mself\u001b[39m\u001b[38;5;241m.\u001b[39mparam_lists))\n\u001b[1;32m     98\u001b[0m \u001b[38;5;28mself\u001b[39m\u001b[38;5;241m.\u001b[39mset_hypers(\u001b[38;5;241m*\u001b[39m\u001b[38;5;241m*\u001b[39mdefaults)\n",
      "File \u001b[0;32m/usr/local/lib/python3.9/dist-packages/fastcore/foundation.py:112\u001b[0m, in \u001b[0;36mL.__getitem__\u001b[0;34m(self, idx)\u001b[0m\n\u001b[0;32m--> 112\u001b[0m \u001b[38;5;28;01mdef\u001b[39;00m \u001b[38;5;21m__getitem__\u001b[39m(\u001b[38;5;28mself\u001b[39m, idx): \u001b[38;5;28;01mreturn\u001b[39;00m \u001b[38;5;28;43mself\u001b[39;49m\u001b[38;5;241;43m.\u001b[39;49m\u001b[43m_get\u001b[49m\u001b[43m(\u001b[49m\u001b[43midx\u001b[49m\u001b[43m)\u001b[49m \u001b[38;5;28;01mif\u001b[39;00m is_indexer(idx) \u001b[38;5;28;01melse\u001b[39;00m L(\u001b[38;5;28mself\u001b[39m\u001b[38;5;241m.\u001b[39m_get(idx), use_list\u001b[38;5;241m=\u001b[39m\u001b[38;5;28;01mNone\u001b[39;00m)\n",
      "File \u001b[0;32m/usr/local/lib/python3.9/dist-packages/fastcore/foundation.py:116\u001b[0m, in \u001b[0;36mL._get\u001b[0;34m(self, i)\u001b[0m\n\u001b[1;32m    115\u001b[0m \u001b[38;5;28;01mdef\u001b[39;00m \u001b[38;5;21m_get\u001b[39m(\u001b[38;5;28mself\u001b[39m, i):\n\u001b[0;32m--> 116\u001b[0m     \u001b[38;5;28;01mif\u001b[39;00m is_indexer(i) \u001b[38;5;129;01mor\u001b[39;00m \u001b[38;5;28misinstance\u001b[39m(i,\u001b[38;5;28mslice\u001b[39m): \u001b[38;5;28;01mreturn\u001b[39;00m \u001b[38;5;28;43mgetattr\u001b[39;49m\u001b[43m(\u001b[49m\u001b[38;5;28;43mself\u001b[39;49m\u001b[38;5;241;43m.\u001b[39;49m\u001b[43mitems\u001b[49m\u001b[43m,\u001b[49m\u001b[38;5;124;43m'\u001b[39;49m\u001b[38;5;124;43miloc\u001b[39;49m\u001b[38;5;124;43m'\u001b[39;49m\u001b[43m,\u001b[49m\u001b[38;5;28;43mself\u001b[39;49m\u001b[38;5;241;43m.\u001b[39;49m\u001b[43mitems\u001b[49m\u001b[43m)\u001b[49m\u001b[43m[\u001b[49m\u001b[43mi\u001b[49m\u001b[43m]\u001b[49m\n\u001b[1;32m    117\u001b[0m     i \u001b[38;5;241m=\u001b[39m mask2idxs(i)\n\u001b[1;32m    118\u001b[0m     \u001b[38;5;28;01mreturn\u001b[39;00m (\u001b[38;5;28mself\u001b[39m\u001b[38;5;241m.\u001b[39mitems\u001b[38;5;241m.\u001b[39miloc[\u001b[38;5;28mlist\u001b[39m(i)] \u001b[38;5;28;01mif\u001b[39;00m \u001b[38;5;28mhasattr\u001b[39m(\u001b[38;5;28mself\u001b[39m\u001b[38;5;241m.\u001b[39mitems,\u001b[38;5;124m'\u001b[39m\u001b[38;5;124miloc\u001b[39m\u001b[38;5;124m'\u001b[39m)\n\u001b[1;32m    119\u001b[0m             \u001b[38;5;28;01melse\u001b[39;00m \u001b[38;5;28mself\u001b[39m\u001b[38;5;241m.\u001b[39mitems\u001b[38;5;241m.\u001b[39m__array__()[(i,)] \u001b[38;5;28;01mif\u001b[39;00m \u001b[38;5;28mhasattr\u001b[39m(\u001b[38;5;28mself\u001b[39m\u001b[38;5;241m.\u001b[39mitems,\u001b[38;5;124m'\u001b[39m\u001b[38;5;124m__array__\u001b[39m\u001b[38;5;124m'\u001b[39m)\n\u001b[1;32m    120\u001b[0m             \u001b[38;5;28;01melse\u001b[39;00m [\u001b[38;5;28mself\u001b[39m\u001b[38;5;241m.\u001b[39mitems[i_] \u001b[38;5;28;01mfor\u001b[39;00m i_ \u001b[38;5;129;01min\u001b[39;00m i])\n",
      "\u001b[0;31mIndexError\u001b[0m: list index out of range"
     ]
    }
   ],
   "source": [
    "gen_learner.fit(1)"
   ]
  },
  {
   "cell_type": "code",
   "execution_count": null,
   "id": "fa1f12bd-05c6-4d67-89ab-13fdb7f6253d",
   "metadata": {},
   "outputs": [],
   "source": []
  }
 ],
 "metadata": {
  "kernelspec": {
   "display_name": "Python 3 (ipykernel)",
   "language": "python",
   "name": "python3"
  },
  "language_info": {
   "codemirror_mode": {
    "name": "ipython",
    "version": 3
   },
   "file_extension": ".py",
   "mimetype": "text/x-python",
   "name": "python",
   "nbconvert_exporter": "python",
   "pygments_lexer": "ipython3",
   "version": "3.9.13"
  }
 },
 "nbformat": 4,
 "nbformat_minor": 5
}
