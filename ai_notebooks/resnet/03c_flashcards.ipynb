{
 "cells": [
  {
   "cell_type": "code",
   "execution_count": 8,
   "id": "fe6c8e73-29d6-471f-8609-aa0d51f8854d",
   "metadata": {},
   "outputs": [],
   "source": [
    "import torch\n",
    "from torch import nn"
   ]
  },
  {
   "cell_type": "markdown",
   "id": "ce30616f-2055-4e7c-aa72-43fcfd14439d",
   "metadata": {},
   "source": [
    "##### Example 1"
   ]
  },
  {
   "cell_type": "code",
   "execution_count": 9,
   "id": "a5be036b-c9d0-4e88-af5d-fd11b7399413",
   "metadata": {},
   "outputs": [],
   "source": [
    "residual = torch.randn((5, 3, 64, 64))"
   ]
  },
  {
   "cell_type": "code",
   "execution_count": 10,
   "id": "4d117280-b8c0-43f5-9b73-00979a3ff2cd",
   "metadata": {},
   "outputs": [],
   "source": [
    "from torch import nn"
   ]
  },
  {
   "cell_type": "markdown",
   "id": "c320c909-667a-4a19-beaf-4569486ff47d",
   "metadata": {},
   "source": [
    "Write a `ShortcutProjection` to downsample `in_channels` of the residual to the target `in_channels`.\n",
    "\n",
    "Hint: `kernel_size` is 1, `stride` follows argument"
   ]
  },
  {
   "cell_type": "code",
   "execution_count": 11,
   "id": "b4184351-4c58-42a4-a824-99c964c07a1f",
   "metadata": {},
   "outputs": [],
   "source": [
    "class ShortcutProjection(nn.Module):\n",
    "    def __init__(self, in_channels, out_channels, stride):\n",
    "        super().__init__()\n",
    "        self.conv = nn.Conv2d(\n",
    "            in_channels=in_channels, out_channels=out_channels,\n",
    "            kernel_size=1, stride=stride\n",
    "        )\n",
    "        self.bn = nn.BatchNorm2d(num_features=out_channels)\n",
    "    \n",
    "    def forward(self, x):\n",
    "        return self.bn(self.conv(x))"
   ]
  },
  {
   "cell_type": "code",
   "execution_count": 12,
   "id": "fca59fda-bbb6-4458-9def-ad62268be68d",
   "metadata": {},
   "outputs": [
    {
     "data": {
      "text/plain": [
       "torch.Size([5, 3, 64, 64])"
      ]
     },
     "execution_count": 12,
     "metadata": {},
     "output_type": "execute_result"
    }
   ],
   "source": [
    "residual.shape"
   ]
  },
  {
   "cell_type": "markdown",
   "id": "682ffc60-194d-4192-926f-8fb274330785",
   "metadata": {},
   "source": [
    "Downsample `residual` to target `6` in_channels"
   ]
  },
  {
   "cell_type": "code",
   "execution_count": 13,
   "id": "95688059-a5b7-44fe-812e-508bbf8cfe0e",
   "metadata": {},
   "outputs": [],
   "source": [
    "shortcut = ShortcutProjection(in_channels=3, out_channels=6, stride=1)"
   ]
  },
  {
   "cell_type": "code",
   "execution_count": 14,
   "id": "49e24cf5-9304-4311-b0cd-f89c2658415e",
   "metadata": {},
   "outputs": [
    {
     "data": {
      "text/plain": [
       "torch.Size([5, 6, 64, 64])"
      ]
     },
     "execution_count": 14,
     "metadata": {},
     "output_type": "execute_result"
    }
   ],
   "source": [
    "shortcut(residual).shape"
   ]
  },
  {
   "cell_type": "markdown",
   "id": "fafd3f71-4b22-414f-b3c7-4357e41a3cb1",
   "metadata": {},
   "source": [
    "##### Example 2"
   ]
  },
  {
   "cell_type": "code",
   "execution_count": 11,
   "id": "3ad7de5b-a630-46fc-a89f-8569aa360c02",
   "metadata": {},
   "outputs": [],
   "source": [
    "residual = torch.randn(5, 3, 64, 64)"
   ]
  },
  {
   "cell_type": "markdown",
   "id": "9afc6694-5aec-41b3-86ca-0d0657c51530",
   "metadata": {},
   "source": [
    "Hints:\n",
    "- First convolution use `stride=1`, no padding\n",
    "- Second convolution use `stride` as parameter, `padding=1`\n",
    "- The third conv use `stride=1`, no padding"
   ]
  },
  {
   "cell_type": "code",
   "execution_count": 12,
   "id": "43a2880e-8b82-486c-aa70-809ea36f95b4",
   "metadata": {},
   "outputs": [],
   "source": [
    "from torch import nn"
   ]
  },
  {
   "cell_type": "markdown",
   "id": "6703dc1e-d3cb-45ef-a2b7-0b7fe22b13ac",
   "metadata": {},
   "source": [
    "Given `ShortcutProjection(in_channels, out_channels, stride)` use to downsample the residual.\n",
    "\n",
    "Write `BottleneckResidualBlock` from scratch"
   ]
  },
  {
   "cell_type": "code",
   "execution_count": 13,
   "id": "29fbde1d-e937-47c3-b2ff-f2b6c8c266ec",
   "metadata": {},
   "outputs": [],
   "source": [
    "class BottleneckResidualBlock(nn.Module):\n",
    "    def __init__(self, in_channels, bottleneck_channels, out_channels, stride):\n",
    "        super().__init__()\n",
    "        self.conv1 = nn.Conv2d(\n",
    "            in_channels=in_channels, out_channels=bottleneck_channels,\n",
    "            kernel_size=1, stride=1\n",
    "        )\n",
    "        self.bn1 = nn.BatchNorm2d(num_features=bottleneck_channels)\n",
    "        self.act1 = nn.ReLU()\n",
    "        self.conv2 = nn.Conv2d(\n",
    "            in_channels=bottleneck_channels, out_channels=bottleneck_channels,\n",
    "            kernel_size=3, stride=stride, padding=1\n",
    "        )\n",
    "        self.bn2 = nn.BatchNorm2d(num_features=bottleneck_channels)\n",
    "        self.act2 = nn.ReLU()\n",
    "        self.conv3 = nn.Conv2d(\n",
    "            in_channels=bottleneck_channels, out_channels=out_channels,\n",
    "            kernel_size=1, stride=1\n",
    "        )\n",
    "        self.bn3 = nn.BatchNorm2d(num_features=out_channels)\n",
    "        if stride != 1 or in_channels != out_channels:\n",
    "            self.shortcut = ShortcutProjection(\n",
    "                in_channels=in_channels, out_channels=out_channels,\n",
    "                stride=stride\n",
    "            )\n",
    "        else:\n",
    "            self.shortcut = nn.Identity()\n",
    "        \n",
    "        self.act3 = nn.ReLU()\n",
    "    \n",
    "    def forward(self, x):\n",
    "        residual = self.shortcut(x)\n",
    "        out = self.act1(self.bn1(self.conv1(x)))\n",
    "        out = self.act2(self.bn2(self.conv2(out)))\n",
    "        out = self.bn3(self.conv3(out))\n",
    "            \n",
    "        return self.act3(out + residual)"
   ]
  },
  {
   "cell_type": "code",
   "execution_count": 14,
   "id": "38491444-06e2-4215-b623-70b063624bf4",
   "metadata": {},
   "outputs": [
    {
     "data": {
      "text/plain": [
       "torch.Size([5, 3, 64, 64])"
      ]
     },
     "execution_count": 14,
     "metadata": {},
     "output_type": "execute_result"
    }
   ],
   "source": [
    "residual.shape"
   ]
  },
  {
   "cell_type": "code",
   "execution_count": 15,
   "id": "82aa5164-ad76-4fb3-b5cc-e8d5b98c9517",
   "metadata": {},
   "outputs": [],
   "source": [
    "bottleneck = BottleneckResidualBlock(in_channels=3, bottleneck_channels=4, out_channels=6, stride=2)"
   ]
  },
  {
   "cell_type": "code",
   "execution_count": 16,
   "id": "b3f107a6-0f2f-4ef8-b711-2ee716ac3584",
   "metadata": {},
   "outputs": [
    {
     "data": {
      "text/plain": [
       "torch.Size([5, 6, 32, 32])"
      ]
     },
     "execution_count": 16,
     "metadata": {},
     "output_type": "execute_result"
    }
   ],
   "source": [
    "bottleneck(residual).shape"
   ]
  },
  {
   "cell_type": "markdown",
   "id": "ace9c52b-4c65-4c04-9b41-4c61abaddaa7",
   "metadata": {},
   "source": [
    "##### Example 3"
   ]
  },
  {
   "cell_type": "markdown",
   "id": "9cf072a6-35eb-4105-9b1b-cf271b9b657c",
   "metadata": {},
   "source": [
    "Write ResNet-34 from scratch given `ResidualBlock(in_channels, out_channels, stride)`"
   ]
  },
  {
   "cell_type": "code",
   "execution_count": null,
   "id": "3d633c8d-ac37-4cb1-b6ca-deb4e55dc6c1",
   "metadata": {},
   "outputs": [],
   "source": []
  }
 ],
 "metadata": {
  "kernelspec": {
   "display_name": "Python 3 (ipykernel)",
   "language": "python",
   "name": "python3"
  },
  "language_info": {
   "codemirror_mode": {
    "name": "ipython",
    "version": 3
   },
   "file_extension": ".py",
   "mimetype": "text/x-python",
   "name": "python",
   "nbconvert_exporter": "python",
   "pygments_lexer": "ipython3",
   "version": "3.9.13"
  }
 },
 "nbformat": 4,
 "nbformat_minor": 5
}
