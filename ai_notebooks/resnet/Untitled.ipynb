{
 "cells": [
  {
   "cell_type": "code",
   "execution_count": 1,
   "id": "db059680-e571-4535-878b-0fa77183fb05",
   "metadata": {},
   "outputs": [],
   "source": [
    "import torch\n",
    "import torch.nn as nn\n",
    "import torch.nn.functional as F"
   ]
  },
  {
   "cell_type": "markdown",
   "id": "60da8981-b2c3-42fa-a4c3-a80583888b1e",
   "metadata": {},
   "source": [
    "Create a Residual Block from scratch, given default both stride and padding are `1`, and kernel size is `3x3`"
   ]
  },
  {
   "cell_type": "markdown",
   "id": "02dcf155-717f-41eb-8c66-127bd921327e",
   "metadata": {},
   "source": [
    "Each `weight layer` contains `Convolution` > `BatchNorm` > `ReLU`"
   ]
  },
  {
   "cell_type": "code",
   "execution_count": 2,
   "id": "d0919df0-f9ba-4608-95ea-3ab2257436b9",
   "metadata": {},
   "outputs": [],
   "source": [
    "class ResidualBlock(nn.Module):\n",
    "    def __init__(self, in_channels, out_channels, stride, downsample):\n",
    "        super().__init__()\n",
    "        self.conv1 = nn.Conv2d(\n",
    "            in_channels=in_channels, out_channels=out_channels,\n",
    "            kernel_size=3, stride=stride, padding=1, bias=False\n",
    "        )\n",
    "        self.bn1 = nn.BatchNorm2d(out_channels)\n",
    "        self.conv2 = nn.Conv2d(\n",
    "            in_channels=out_channels, out_channels=out_channels,\n",
    "            kernel_size=3, stride=stride, padding=1, bias=False\n",
    "        )\n",
    "        self.bn2 = nn.BatchNorm2d(out_channels)\n",
    "        self.downsample = downsample\n",
    "    \n",
    "    def forward(self, x):\n",
    "        residual = x\n",
    "        \n",
    "        out = F.relu(self.bn1(self.conv1(x)))\n",
    "        out = self.bn2(self.conv2(out))\n",
    "        \n",
    "        if self.downsample:\n",
    "            residual = self.downsample(x)\n",
    "        \n",
    "        out += residual\n",
    "        out = F.relu(out)\n",
    "        return out"
   ]
  },
  {
   "cell_type": "code",
   "execution_count": 3,
   "id": "dc7f7177-223e-4030-8c93-e7f05a766448",
   "metadata": {},
   "outputs": [],
   "source": [
    "residual_block = ResidualBlock(\n",
    "    in_channels=3, out_channels=5, stride=1, downsample=None\n",
    ")"
   ]
  },
  {
   "cell_type": "code",
   "execution_count": null,
   "id": "6f1c6077-68ba-4e89-a2fd-a03e92c099c5",
   "metadata": {},
   "outputs": [],
   "source": [
    "def conv3x3(in_channels, out_channels, stride=1):\n",
    "    pass"
   ]
  },
  {
   "cell_type": "markdown",
   "id": "6da46e8b-2df7-41dc-bc77-f1d6c7e321de",
   "metadata": {},
   "source": [
    "why `if (stride != 1) or (self.in_channels != out_channels)`"
   ]
  },
  {
   "cell_type": "code",
   "execution_count": 6,
   "id": "0459c269-df1b-46ae-9c81-7c7c07de2885",
   "metadata": {},
   "outputs": [],
   "source": [
    "class ResNet(nn.Module):\n",
    "    def __init__(self, block, layers, num_classes=10):\n",
    "        super().__init__()\n",
    "        self.in_channels=16\n",
    "        self.conv = nn.Conv2d(\n",
    "            in_channels=3, out_channel=16, kernel_siz=3,\n",
    "            stride=1, padding=1, bias=False\n",
    "        )\n",
    "        self.bn = nn.BatchNorm2d(16)\n",
    "        self.relu = nn.ReLU(inplace=True)\n",
    "    \n",
    "    def make_layer(sefl, block, out_channels, blocks, stride=1):\n",
    "        downsample = None\n",
    "        if (stride != 1) or (self.in_channels != out_channels):\n",
    "            downsample = nn.Sequential(\n",
    "                nn.Conv2d(\n",
    "                    in_channels=self.in_channels, out_channels=out_channels, kernel_size=3,\n",
    "                    stride=stride, padding=1, bias=False),\n",
    "                nn.BatchNorm2d(out_channels)\n",
    "            )\n",
    "        layers = []\n",
    "        layers.append(block(self.in_channels, out_channels, stride, downsample))\n",
    "        self.in_channels = out_channels\n",
    "        \n",
    "        for i in range(1, blocks):\n",
    "            layers.append(block(out_channels, out_channels))\n",
    "        \n",
    "        return nn.Sequential(*layers)"
   ]
  },
  {
   "cell_type": "code",
   "execution_count": null,
   "id": "6b40fb2c-d601-4006-977a-333dee22f114",
   "metadata": {},
   "outputs": [],
   "source": []
  }
 ],
 "metadata": {
  "kernelspec": {
   "display_name": "Python 3 (ipykernel)",
   "language": "python",
   "name": "python3"
  },
  "language_info": {
   "codemirror_mode": {
    "name": "ipython",
    "version": 3
   },
   "file_extension": ".py",
   "mimetype": "text/x-python",
   "name": "python",
   "nbconvert_exporter": "python",
   "pygments_lexer": "ipython3",
   "version": "3.9.13"
  }
 },
 "nbformat": 4,
 "nbformat_minor": 5
}
