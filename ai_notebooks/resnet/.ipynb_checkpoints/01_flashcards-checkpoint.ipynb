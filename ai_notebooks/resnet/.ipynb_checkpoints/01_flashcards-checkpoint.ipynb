{
 "cells": [
  {
   "cell_type": "code",
   "execution_count": 4,
   "id": "e4813a69-cdb1-443d-9518-c1181e7c6843",
   "metadata": {},
   "outputs": [],
   "source": [
    "import torch\n",
    "import torch.nn as nn"
   ]
  },
  {
   "cell_type": "markdown",
   "id": "77c4dab9-e3d9-413c-a26e-fd2f650fb8e1",
   "metadata": {},
   "source": [
    "### `nn.Identity`"
   ]
  },
  {
   "cell_type": "markdown",
   "id": "0f1981f5-7f51-4d49-8023-a09110b4fc34",
   "metadata": {
    "tags": []
   },
   "source": [
    "##### Example 1"
   ]
  },
  {
   "cell_type": "code",
   "execution_count": 6,
   "id": "4abf5f3e-337c-4225-8479-d776cdbcc3da",
   "metadata": {},
   "outputs": [],
   "source": [
    "x = torch.arange(16).reshape(4, 4)"
   ]
  },
  {
   "cell_type": "code",
   "execution_count": 7,
   "id": "f59f891a-e706-4c31-8acd-f71daac72ecc",
   "metadata": {},
   "outputs": [
    {
     "data": {
      "text/plain": [
       "torch.Size([4, 4])"
      ]
     },
     "execution_count": 7,
     "metadata": {},
     "output_type": "execute_result"
    }
   ],
   "source": [
    "x.shape"
   ]
  },
  {
   "cell_type": "code",
   "execution_count": 5,
   "id": "0474a703-26e7-4698-8a78-a5981a66b4e6",
   "metadata": {},
   "outputs": [],
   "source": [
    "identity = nn.Identity(x=1, kernel_size=1)"
   ]
  },
  {
   "cell_type": "code",
   "execution_count": 10,
   "id": "a7073b68-744e-465b-bb47-9d39b9a98931",
   "metadata": {},
   "outputs": [
    {
     "data": {
      "text/plain": [
       "tensor([[ 0,  1,  2,  3],\n",
       "        [ 4,  5,  6,  7],\n",
       "        [ 8,  9, 10, 11],\n",
       "        [12, 13, 14, 15]])"
      ]
     },
     "execution_count": 10,
     "metadata": {},
     "output_type": "execute_result"
    }
   ],
   "source": [
    "identity(x)"
   ]
  },
  {
   "cell_type": "markdown",
   "id": "c13042da-ddbe-4f4a-b45a-8e2b70bd63c7",
   "metadata": {},
   "source": [
    "### `nn.BatchNorm2d`"
   ]
  },
  {
   "cell_type": "markdown",
   "id": "19943372-2464-46cc-ad7a-44aaa726c59a",
   "metadata": {},
   "source": [
    "##### Example 1"
   ]
  },
  {
   "cell_type": "markdown",
   "id": "7cee1120-55e8-4792-b7f3-9de1f227f0b0",
   "metadata": {},
   "source": [
    "`acts` are a batch of activations"
   ]
  },
  {
   "cell_type": "code",
   "execution_count": 48,
   "id": "6898d6e1-7c22-43e2-9379-cbb11d1e28cd",
   "metadata": {},
   "outputs": [],
   "source": [
    "acts = torch.randn(40, 3, 64, 64)"
   ]
  },
  {
   "cell_type": "code",
   "execution_count": 51,
   "id": "2cf914d5-f0c4-4979-8986-458e4bc96be1",
   "metadata": {},
   "outputs": [],
   "source": [
    "import torch.nn as nn"
   ]
  },
  {
   "cell_type": "code",
   "execution_count": 52,
   "id": "0a711d21-c34b-48ef-bd6c-5a71192e60ce",
   "metadata": {},
   "outputs": [
    {
     "data": {
      "text/plain": [
       "torch.Size([40, 3, 64, 64])"
      ]
     },
     "execution_count": 52,
     "metadata": {},
     "output_type": "execute_result"
    }
   ],
   "source": [
    "acts.shape"
   ]
  },
  {
   "cell_type": "markdown",
   "id": "f2d478fe-c81f-4c04-a800-d00b7c600d84",
   "metadata": {},
   "source": [
    "Apply BatchNorm to `acts`. Explain how you choose the parameters."
   ]
  },
  {
   "cell_type": "code",
   "execution_count": 82,
   "id": "4646dd15-8d0c-41a2-bc5a-36d099f8f2cf",
   "metadata": {},
   "outputs": [],
   "source": [
    "batch_norm = nn.BatchNorm2d(num_features=3)"
   ]
  },
  {
   "cell_type": "markdown",
   "id": "c434906b-b197-4c7a-83cb-d0d775b63b5e",
   "metadata": {},
   "source": [
    "`BatchNorm2d` will normalize all activations across each channel. So `BatchNorm2d` takes `num_features` as the dimension of color channel, and `acts`'s shape is `(N, C, H, W)`, which `C` is the "
   ]
  },
  {
   "cell_type": "code",
   "execution_count": 84,
   "id": "0684e8a4-e218-4c92-bf0a-1d537e9c7313",
   "metadata": {},
   "outputs": [],
   "source": [
    "normalized_acts = batch_norm(acts)"
   ]
  },
  {
   "cell_type": "code",
   "execution_count": 85,
   "id": "79d6a85f-3b61-4ef2-a391-bdd823560536",
   "metadata": {},
   "outputs": [
    {
     "data": {
      "text/plain": [
       "torch.Size([40, 3, 64, 64])"
      ]
     },
     "execution_count": 85,
     "metadata": {},
     "output_type": "execute_result"
    }
   ],
   "source": [
    "normalized_acts.shape"
   ]
  },
  {
   "cell_type": "code",
   "execution_count": 86,
   "id": "81270132-2585-4d6f-bf57-4164d9bfc6d8",
   "metadata": {},
   "outputs": [
    {
     "data": {
      "text/plain": [
       "tensor(1.0114, grad_fn=<StdBackward0>)"
      ]
     },
     "execution_count": 86,
     "metadata": {},
     "output_type": "execute_result"
    }
   ],
   "source": [
    "normalized_acts[0][0].std()"
   ]
  },
  {
   "cell_type": "markdown",
   "id": "ce050d23-4bab-4e99-b207-96974c0ec373",
   "metadata": {},
   "source": [
    "Guess which"
   ]
  },
  {
   "cell_type": "code",
   "execution_count": 88,
   "id": "1eaa5a4f-d74a-4827-b47a-4192b0aa954f",
   "metadata": {},
   "outputs": [
    {
     "data": {
      "text/plain": [
       "(tensor(0.0244, grad_fn=<MeanBackward0>),\n",
       " tensor(1.0004, grad_fn=<StdBackward0>))"
      ]
     },
     "execution_count": 88,
     "metadata": {},
     "output_type": "execute_result"
    }
   ],
   "source": [
    "normalized_acts[5][2].mean(), normalized_acts[5][2].std()"
   ]
  },
  {
   "cell_type": "code",
   "execution_count": null,
   "id": "f3c4438b-9d6c-4b46-917c-c3cda13ec8f5",
   "metadata": {},
   "outputs": [],
   "source": []
  }
 ],
 "metadata": {
  "kernelspec": {
   "display_name": "Python 3 (ipykernel)",
   "language": "python",
   "name": "python3"
  },
  "language_info": {
   "codemirror_mode": {
    "name": "ipython",
    "version": 3
   },
   "file_extension": ".py",
   "mimetype": "text/x-python",
   "name": "python",
   "nbconvert_exporter": "python",
   "pygments_lexer": "ipython3",
   "version": "3.9.13"
  }
 },
 "nbformat": 4,
 "nbformat_minor": 5
}
