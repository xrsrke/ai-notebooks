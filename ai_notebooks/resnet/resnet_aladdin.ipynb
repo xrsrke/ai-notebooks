{
 "cells": [
  {
   "cell_type": "markdown",
   "id": "1c5e259a-ac27-47c0-b378-6ad749fb9b06",
   "metadata": {},
   "source": [
    "https://youtu.be/DkNIBBBvcPs?t=640"
   ]
  },
  {
   "cell_type": "code",
   "execution_count": 1,
   "id": "177537c0-148c-47a2-aa8d-bb847caa65e9",
   "metadata": {},
   "outputs": [],
   "source": [
    "import torch\n",
    "import torch.nn as nn"
   ]
  },
  {
   "cell_type": "markdown",
   "id": "a9c92e15-ae7a-4fae-8d3a-ab5998e20f40",
   "metadata": {},
   "source": [
    "`downsample` use when if change the input size, or number of channels => do sample to change the size to add in shortcut"
   ]
  },
  {
   "cell_type": "markdown",
   "id": "1d4f410a-3153-4354-8df5-2153643d3e69",
   "metadata": {},
   "source": [
    "number of channels after a block, always four time what is was when it enter "
   ]
  },
  {
   "cell_type": "code",
   "execution_count": 5,
   "id": "de109ff3-7281-48ff-bb2b-00fc68285979",
   "metadata": {},
   "outputs": [],
   "source": [
    "class Block(nn.Module):\n",
    "    def __init__(self, in_channels, out_channels, identity_downsample, stride=1):\n",
    "        super().__init__()\n",
    "        self.expansion = 4\n",
    "        self.conv1 = nn.Conv2d(\n",
    "            in_channels=in_channels, out_channels=out_channels,\n",
    "            kernel_size=1, stride=1, padding=0\n",
    "        )\n",
    "        self.bn1 = nn.BatchNorm2d(num_features=out_channels)\n",
    "        self.conv2 = nn.Conv2d(\n",
    "            in_channels=out_channels, out_channels=out_channels,\n",
    "            kernel_size=3, stride=stride, padding=1\n",
    "        )\n",
    "        self.bn2 = nn.BatchNorm2d(num_features=out_channels)\n",
    "        self.conv3 = nn.Conv2d(\n",
    "            in_channels=out_channels, out_channels=out_channels*self.expansion,\n",
    "            kernel_size=1, stride=1, padding=0\n",
    "        )\n",
    "        self.bn3 = nn = nn.BatchNorm2d(out_channels*self.expansion)\n",
    "        self.relu = nn.ReLU()\n",
    "        self.identity_downsample = identity_downsample\n",
    "    \n",
    "    def forward(self, x):\n",
    "        pass"
   ]
  },
  {
   "cell_type": "code",
   "execution_count": null,
   "id": "e226057a-7bb6-4527-8f00-61368759834a",
   "metadata": {},
   "outputs": [],
   "source": []
  }
 ],
 "metadata": {
  "kernelspec": {
   "display_name": "Python 3 (ipykernel)",
   "language": "python",
   "name": "python3"
  },
  "language_info": {
   "codemirror_mode": {
    "name": "ipython",
    "version": 3
   },
   "file_extension": ".py",
   "mimetype": "text/x-python",
   "name": "python",
   "nbconvert_exporter": "python",
   "pygments_lexer": "ipython3",
   "version": "3.9.13"
  }
 },
 "nbformat": 4,
 "nbformat_minor": 5
}
