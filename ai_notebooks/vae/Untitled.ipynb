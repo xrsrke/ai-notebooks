{
 "cells": [
  {
   "cell_type": "code",
   "execution_count": 1,
   "id": "f1437eab-04fb-4ddc-8b12-c9db6a4b24fa",
   "metadata": {},
   "outputs": [],
   "source": [
    "import torch\n",
    "import torch.nn as nn\n",
    "import torch.nn.functional as F"
   ]
  },
  {
   "cell_type": "markdown",
   "id": "a785924c-a66b-439c-8294-228e7aec34b9",
   "metadata": {},
   "source": [
    "### Model"
   ]
  },
  {
   "cell_type": "markdown",
   "id": "f1305e60-c163-45eb-aadc-1dfe10322994",
   "metadata": {},
   "source": [
    "- `input_dim`: input's dimension\n",
    "- `h_dim`: hidden's dimension\n",
    "- `z_dim`: latent's dimension"
   ]
  },
  {
   "cell_type": "markdown",
   "id": "eb7df3c5-cc23-48f9-99e5-4e79be55fc46",
   "metadata": {},
   "source": [
    "- Ensure latent space is gaussian. Why?\n",
    "- BCE takes 0 and 1 as target, but loss in training loop give image => how bce fit in this case?\n",
    "- what does `kl_div` do in this case?\n",
    "- why calculate the `sigma` and `mu` use a liner layer?"
   ]
  },
  {
   "cell_type": "code",
   "execution_count": 28,
   "id": "5599596c-6ee8-41ed-922d-6616f3ca61a2",
   "metadata": {},
   "outputs": [],
   "source": [
    "class VariationalAutoEncoder(nn.Module):\n",
    "    def __init__(self, input_dim, h_dim=200, z_dim=20):\n",
    "        super().__init__()\n",
    "        \n",
    "        # encoder\n",
    "        self.img2hid = nn.Linear(input_dim, h_dim)\n",
    "        self.hid2mu = nn.Linear(h_dim, z_dim)\n",
    "        self.hid2sigma = nn.Linear(h_dim, z_dim)\n",
    "    \n",
    "        # decoder\n",
    "        self.z2hid = nn.Linear(z_dim, h_dim)\n",
    "        self.hid2img = nn.Linear(h_dim, input_dim)\n",
    "    \n",
    "    def encode(self, x):\n",
    "        h = F.relu(self.img2hid(x))\n",
    "        mu, sigma = self.hid2mu(h), self.hid2sigma(h)\n",
    "        return mu, sigma\n",
    "    \n",
    "    def decode(self, z):\n",
    "        h = F.relu(self.z2hid(z))\n",
    "        return F.sigmoid(self.hid2img(h))\n",
    "    \n",
    "    def forward(self, x):\n",
    "        mu, sigma = self.encode(x)\n",
    "        epsilon = torch.randn_like(sigma)\n",
    "        z_reparametrized = mu + sigma * epsilon\n",
    "        x_reconstructed = self.decode(z_reparametrized)\n",
    "        return x_reconstructed, mu, sigma"
   ]
  },
  {
   "cell_type": "code",
   "execution_count": 18,
   "id": "11402328-577a-4f76-aefb-a7122c03a586",
   "metadata": {},
   "outputs": [],
   "source": [
    "x = torch.randn(4, 28*28)"
   ]
  },
  {
   "cell_type": "code",
   "execution_count": 19,
   "id": "c3ac9d52-47cb-4ac4-b03e-ff63b3d391d6",
   "metadata": {},
   "outputs": [],
   "source": [
    "model = VariationalAutoEncoder(input_dim=28*28)"
   ]
  },
  {
   "cell_type": "code",
   "execution_count": 23,
   "id": "96edfb71-9efe-454f-881b-55d159f04933",
   "metadata": {},
   "outputs": [],
   "source": [
    "x_reconstructed, mu, sigma = model(x)"
   ]
  },
  {
   "cell_type": "code",
   "execution_count": 24,
   "id": "e9f49bd2-b921-42aa-a469-2c6965b38f05",
   "metadata": {},
   "outputs": [
    {
     "data": {
      "text/plain": [
       "torch.Size([4, 784])"
      ]
     },
     "execution_count": 24,
     "metadata": {},
     "output_type": "execute_result"
    }
   ],
   "source": [
    "x_reconstructed.shape"
   ]
  },
  {
   "cell_type": "code",
   "execution_count": 25,
   "id": "ccd27e34-da18-4c07-a374-f80a312e14c5",
   "metadata": {},
   "outputs": [
    {
     "data": {
      "text/plain": [
       "torch.Size([4, 20])"
      ]
     },
     "execution_count": 25,
     "metadata": {},
     "output_type": "execute_result"
    }
   ],
   "source": [
    "mu.shape"
   ]
  },
  {
   "cell_type": "markdown",
   "id": "f457a44b-a99e-4187-9216-2dbb594cfb68",
   "metadata": {},
   "source": [
    "### Training Loop"
   ]
  },
  {
   "cell_type": "code",
   "execution_count": 27,
   "id": "18a1c672-16c0-46ac-8bf1-b8f13f078b93",
   "metadata": {},
   "outputs": [],
   "source": [
    "import torchvision.datasets as datasets\n",
    "from tqdm import tqdm\n",
    "from torchvision import transforms as tfms\n",
    "from torchvision.utils import save_image\n",
    "from torch.utils.data import DataLoader"
   ]
  },
  {
   "cell_type": "code",
   "execution_count": 42,
   "id": "192f887e-3317-4a9e-901c-70221e25c998",
   "metadata": {},
   "outputs": [],
   "source": [
    "DEVICE = torch.device(\"cuda\" if torch.cuda.is_available() else \"cpu\")"
   ]
  },
  {
   "cell_type": "code",
   "execution_count": 33,
   "id": "f3418537-8219-443c-aed2-46ff02845dec",
   "metadata": {},
   "outputs": [],
   "source": [
    "INPUT_DIM = 28*28\n",
    "H_DIM = 200\n",
    "Z_DIM = 20\n",
    "NUM_EPOCH = 3\n",
    "BATCH_SIZE = 32\n",
    "LR = 3e-4"
   ]
  },
  {
   "cell_type": "code",
   "execution_count": 31,
   "id": "52b0a5b1-8bf3-49c2-8010-2bd25a737487",
   "metadata": {},
   "outputs": [
    {
     "data": {
      "text/plain": [
       "0.0003"
      ]
     },
     "execution_count": 31,
     "metadata": {},
     "output_type": "execute_result"
    }
   ],
   "source": [
    "3e-4"
   ]
  },
  {
   "cell_type": "code",
   "execution_count": 38,
   "id": "fc4bb29e-774e-4898-b8fa-613bb2bc6802",
   "metadata": {},
   "outputs": [
    {
     "name": "stdout",
     "output_type": "stream",
     "text": [
      "Downloading http://yann.lecun.com/exdb/mnist/train-images-idx3-ubyte.gz\n",
      "Downloading http://yann.lecun.com/exdb/mnist/train-images-idx3-ubyte.gz to dataset/MNIST/raw/train-images-idx3-ubyte.gz\n"
     ]
    },
    {
     "data": {
      "application/vnd.jupyter.widget-view+json": {
       "model_id": "10b950ed6b804f6eb86feeb9a54e51ea",
       "version_major": 2,
       "version_minor": 0
      },
      "text/plain": [
       "  0%|          | 0/9912422 [00:00<?, ?it/s]"
      ]
     },
     "metadata": {},
     "output_type": "display_data"
    },
    {
     "name": "stdout",
     "output_type": "stream",
     "text": [
      "Extracting dataset/MNIST/raw/train-images-idx3-ubyte.gz to dataset/MNIST/raw\n",
      "\n",
      "Downloading http://yann.lecun.com/exdb/mnist/train-labels-idx1-ubyte.gz\n",
      "Downloading http://yann.lecun.com/exdb/mnist/train-labels-idx1-ubyte.gz to dataset/MNIST/raw/train-labels-idx1-ubyte.gz\n"
     ]
    },
    {
     "data": {
      "application/vnd.jupyter.widget-view+json": {
       "model_id": "78f7c23215cf4eb695b4e154e49caf7b",
       "version_major": 2,
       "version_minor": 0
      },
      "text/plain": [
       "  0%|          | 0/28881 [00:00<?, ?it/s]"
      ]
     },
     "metadata": {},
     "output_type": "display_data"
    },
    {
     "name": "stdout",
     "output_type": "stream",
     "text": [
      "Extracting dataset/MNIST/raw/train-labels-idx1-ubyte.gz to dataset/MNIST/raw\n",
      "\n",
      "Downloading http://yann.lecun.com/exdb/mnist/t10k-images-idx3-ubyte.gz\n",
      "Downloading http://yann.lecun.com/exdb/mnist/t10k-images-idx3-ubyte.gz to dataset/MNIST/raw/t10k-images-idx3-ubyte.gz\n"
     ]
    },
    {
     "data": {
      "application/vnd.jupyter.widget-view+json": {
       "model_id": "5fe6c652f131495093259315fd8789ff",
       "version_major": 2,
       "version_minor": 0
      },
      "text/plain": [
       "  0%|          | 0/1648877 [00:00<?, ?it/s]"
      ]
     },
     "metadata": {},
     "output_type": "display_data"
    },
    {
     "name": "stdout",
     "output_type": "stream",
     "text": [
      "Extracting dataset/MNIST/raw/t10k-images-idx3-ubyte.gz to dataset/MNIST/raw\n",
      "\n",
      "Downloading http://yann.lecun.com/exdb/mnist/t10k-labels-idx1-ubyte.gz\n",
      "Downloading http://yann.lecun.com/exdb/mnist/t10k-labels-idx1-ubyte.gz to dataset/MNIST/raw/t10k-labels-idx1-ubyte.gz\n"
     ]
    },
    {
     "data": {
      "application/vnd.jupyter.widget-view+json": {
       "model_id": "03a957e84b8642c6a8194f8c8560fbe0",
       "version_major": 2,
       "version_minor": 0
      },
      "text/plain": [
       "  0%|          | 0/4542 [00:00<?, ?it/s]"
      ]
     },
     "metadata": {},
     "output_type": "display_data"
    },
    {
     "name": "stdout",
     "output_type": "stream",
     "text": [
      "Extracting dataset/MNIST/raw/t10k-labels-idx1-ubyte.gz to dataset/MNIST/raw\n",
      "\n"
     ]
    }
   ],
   "source": [
    "dataset = datasets.MNIST(\n",
    "    root=\"dataset/\", train=True,\n",
    "    transform=tfms.ToTensor(),\n",
    "    download=True\n",
    ")"
   ]
  },
  {
   "cell_type": "code",
   "execution_count": 39,
   "id": "66ca704b-feef-4404-872e-381fe34f435f",
   "metadata": {},
   "outputs": [],
   "source": [
    "train_loader = DataLoader(\n",
    "    dataset=dataset, batch_size=BATCH_SIZE,\n",
    "    shuffle=True\n",
    ")"
   ]
  },
  {
   "cell_type": "code",
   "execution_count": 43,
   "id": "a44fe5d3-6f04-4c44-b2a7-3bef0a1c2dac",
   "metadata": {},
   "outputs": [],
   "source": [
    "model = VariationalAutoEncoder(INPUT_DIM, H_DIM, Z_DIM).to(DEVICE)"
   ]
  },
  {
   "cell_type": "code",
   "execution_count": 44,
   "id": "b474ed2a-4dd9-42e8-876f-997840eb9be7",
   "metadata": {},
   "outputs": [],
   "source": [
    "optimizier = torch.optim.Adam(model.parameters(), lr=LR)"
   ]
  },
  {
   "cell_type": "code",
   "execution_count": 45,
   "id": "832bbfd8-7ff9-4ea4-9a73-534b652c9f3a",
   "metadata": {},
   "outputs": [],
   "source": [
    "loss_func = nn.BCELoss(reduction=sum)"
   ]
  },
  {
   "cell_type": "code",
   "execution_count": null,
   "id": "dbc36db9-b98a-4353-9167-3428a111e5ac",
   "metadata": {},
   "outputs": [],
   "source": [
    "for epoch in range(NUM_EPOCH):\n",
    "    loop = tqdm(enumerate(train_loader))\n",
    "    for i, (x, _) for loop:\n",
    "        x = x.to(DEVICE).view(-1, INPUT_DIM)\n",
    "        x_reconstructed, mu, sigma = model(x)\n",
    "        \n",
    "        loss = loss_func(x_reconstructed, x)\n",
    "        kl_div "
   ]
  }
 ],
 "metadata": {
  "kernelspec": {
   "display_name": "Python 3 (ipykernel)",
   "language": "python",
   "name": "python3"
  },
  "language_info": {
   "codemirror_mode": {
    "name": "ipython",
    "version": 3
   },
   "file_extension": ".py",
   "mimetype": "text/x-python",
   "name": "python",
   "nbconvert_exporter": "python",
   "pygments_lexer": "ipython3",
   "version": "3.9.13"
  }
 },
 "nbformat": 4,
 "nbformat_minor": 5
}
