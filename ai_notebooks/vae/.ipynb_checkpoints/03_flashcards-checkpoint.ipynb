{
 "cells": [
  {
   "cell_type": "code",
   "execution_count": 1,
   "id": "29e6dac2-29cd-40d8-86b9-d74619e7333b",
   "metadata": {},
   "outputs": [],
   "source": [
    "import torch\n",
    "from torch import nn"
   ]
  },
  {
   "cell_type": "markdown",
   "id": "d175f622-2d50-43c1-abe1-af23d7f6409a",
   "metadata": {},
   "source": [
    "### Transposed Convolution"
   ]
  },
  {
   "cell_type": "markdown",
   "id": "b58240fe-76d8-4c45-a265-0418077327bd",
   "metadata": {},
   "source": [
    "##### Example 1"
   ]
  },
  {
   "cell_type": "code",
   "execution_count": 2,
   "id": "e18e7e20-2a34-47c7-b22b-37c3ec6d12b2",
   "metadata": {},
   "outputs": [],
   "source": [
    "kernel = torch.arange(1, 10).reshape(3, 3)"
   ]
  },
  {
   "cell_type": "code",
   "execution_count": 3,
   "id": "b4eaa7b2-f5fb-4811-9d82-a7c8ec1cfb0d",
   "metadata": {},
   "outputs": [
    {
     "data": {
      "text/plain": [
       "tensor([[1, 2, 3],\n",
       "        [4, 5, 6],\n",
       "        [7, 8, 9]])"
      ]
     },
     "execution_count": 3,
     "metadata": {},
     "output_type": "execute_result"
    }
   ],
   "source": [
    "kernel"
   ]
  },
  {
   "cell_type": "code",
   "execution_count": 4,
   "id": "8ed54323-f0b4-4f42-8543-801dce1a8e65",
   "metadata": {},
   "outputs": [],
   "source": [
    "input_img = torch.tensor([[10, 20], [30, 40]])"
   ]
  },
  {
   "cell_type": "code",
   "execution_count": 5,
   "id": "db3bdea3-c16f-4521-90e1-a9ed6fc88874",
   "metadata": {},
   "outputs": [
    {
     "data": {
      "text/plain": [
       "tensor([[10, 20],\n",
       "        [30, 40]])"
      ]
     },
     "execution_count": 5,
     "metadata": {},
     "output_type": "execute_result"
    }
   ],
   "source": [
    "input_img"
   ]
  },
  {
   "cell_type": "code",
   "execution_count": 6,
   "id": "e795844f-ac51-484a-9350-2065a3cd5356",
   "metadata": {},
   "outputs": [
    {
     "data": {
      "text/plain": [
       "2"
      ]
     },
     "execution_count": 6,
     "metadata": {},
     "output_type": "execute_result"
    }
   ],
   "source": [
    "input_img.shape[0]"
   ]
  },
  {
   "cell_type": "code",
   "execution_count": 7,
   "id": "23e768d8-ece9-42fe-a03a-fdd26aa08ddd",
   "metadata": {},
   "outputs": [
    {
     "data": {
      "text/plain": [
       "torch.Size([3, 3])"
      ]
     },
     "execution_count": 7,
     "metadata": {},
     "output_type": "execute_result"
    }
   ],
   "source": [
    "kernel.shape"
   ]
  },
  {
   "cell_type": "code",
   "execution_count": 8,
   "id": "270f8241-12d8-4a41-8832-dd2e677029d8",
   "metadata": {},
   "outputs": [
    {
     "data": {
      "text/plain": [
       "torch.Size([2, 2])"
      ]
     },
     "execution_count": 8,
     "metadata": {},
     "output_type": "execute_result"
    }
   ],
   "source": [
    "input_img.shape "
   ]
  },
  {
   "cell_type": "code",
   "execution_count": 9,
   "id": "a9ed4035-8f15-49f7-a7c0-c6f5a315ce2f",
   "metadata": {},
   "outputs": [],
   "source": [
    "x = torch.tensor([2])"
   ]
  },
  {
   "cell_type": "code",
   "execution_count": 10,
   "id": "b1ed73d5-7c8b-4f9a-a0a7-3f724e8cc885",
   "metadata": {},
   "outputs": [
    {
     "data": {
      "text/plain": [
       "tensor([2, 1])"
      ]
     },
     "execution_count": 10,
     "metadata": {},
     "output_type": "execute_result"
    }
   ],
   "source": [
    "torch.cat([x, torch.tensor([1])])"
   ]
  },
  {
   "cell_type": "code",
   "execution_count": 44,
   "id": "14403aea-a735-4b34-8d4b-9504657f467a",
   "metadata": {},
   "outputs": [],
   "source": [
    "import ipdb"
   ]
  },
  {
   "cell_type": "code",
   "execution_count": 49,
   "id": "2b950d91-7382-4c49-9e29-8ccd64c02dc6",
   "metadata": {},
   "outputs": [
    {
     "ename": "SyntaxError",
     "evalue": "invalid syntax (3657772320.py, line 17)",
     "output_type": "error",
     "traceback": [
      "\u001b[0;36m  Input \u001b[0;32mIn [49]\u001b[0;36m\u001b[0m\n\u001b[0;31m    output[row:row+ker_rows, column*:column+ker_columns] = inp[row][column] * kernel\u001b[0m\n\u001b[0m                                    ^\u001b[0m\n\u001b[0;31mSyntaxError\u001b[0m\u001b[0;31m:\u001b[0m invalid syntax\n"
     ]
    }
   ],
   "source": [
    "def transposed_convolution(inp, kernel):\n",
    "    inp_rows = inp.shape[0]\n",
    "    inp_columns = inp.shape[1]\n",
    "    \n",
    "    ker_rows = kernel.shape[0]\n",
    "    ker_columns = kernel.shape[1]\n",
    "    \n",
    "    out_rows = inp_rows * ker_rows\n",
    "    out_columns = inp_columns * ker_columns\n",
    "    \n",
    "    output = torch.zeros(out_rows, out_columns)\n",
    "\n",
    "    for row in list(range(inp_rows)):\n",
    "        for column in list(range(inp_columns)):\n",
    "            \n",
    "            ipdb.set_trace()\n",
    "            output[row:row+ker_rows, column*:column+ker_columns] = inp[row][column] * kernel\n",
    "    \n",
    "    return output"
   ]
  },
  {
   "cell_type": "code",
   "execution_count": 46,
   "id": "e5d23acb-5de8-4a19-801a-fc4e3409c86e",
   "metadata": {},
   "outputs": [
    {
     "data": {
      "text/plain": [
       "(tensor([[10, 20],\n",
       "         [30, 40]]),\n",
       " tensor([[1, 2, 3],\n",
       "         [4, 5, 6],\n",
       "         [7, 8, 9]]))"
      ]
     },
     "execution_count": 46,
     "metadata": {},
     "output_type": "execute_result"
    }
   ],
   "source": [
    "input_img, kernel"
   ]
  },
  {
   "cell_type": "code",
   "execution_count": 47,
   "id": "9d0ce9d6-4fce-45f2-ba8b-b25923a5c3b8",
   "metadata": {},
   "outputs": [
    {
     "data": {
      "text/plain": [
       "[0, 1]"
      ]
     },
     "execution_count": 47,
     "metadata": {},
     "output_type": "execute_result"
    }
   ],
   "source": [
    "list(range(input_img.shape[0]))"
   ]
  },
  {
   "cell_type": "code",
   "execution_count": 48,
   "id": "44c27e82-545a-47e1-b75d-7c4c18a1f2d0",
   "metadata": {},
   "outputs": [
    {
     "name": "stdout",
     "output_type": "stream",
     "text": [
      "> \u001b[0;32m/tmp/ipykernel_931/3222743227.py\u001b[0m(17)\u001b[0;36mtransposed_convolution\u001b[0;34m()\u001b[0m\n",
      "\u001b[0;32m     16 \u001b[0;31m            \u001b[0mipdb\u001b[0m\u001b[0;34m.\u001b[0m\u001b[0mset_trace\u001b[0m\u001b[0;34m(\u001b[0m\u001b[0;34m)\u001b[0m\u001b[0;34m\u001b[0m\u001b[0;34m\u001b[0m\u001b[0m\n",
      "\u001b[0m\u001b[0;32m---> 17 \u001b[0;31m            \u001b[0moutput\u001b[0m\u001b[0;34m[\u001b[0m\u001b[0mrow\u001b[0m\u001b[0;34m:\u001b[0m\u001b[0mrow\u001b[0m\u001b[0;34m+\u001b[0m\u001b[0mker_rows\u001b[0m\u001b[0;34m,\u001b[0m \u001b[0mcolumn\u001b[0m\u001b[0;34m:\u001b[0m\u001b[0mcolumn\u001b[0m\u001b[0;34m+\u001b[0m\u001b[0mker_columns\u001b[0m\u001b[0;34m]\u001b[0m \u001b[0;34m=\u001b[0m \u001b[0minp\u001b[0m\u001b[0;34m[\u001b[0m\u001b[0mrow\u001b[0m\u001b[0;34m]\u001b[0m\u001b[0;34m[\u001b[0m\u001b[0mcolumn\u001b[0m\u001b[0;34m]\u001b[0m \u001b[0;34m*\u001b[0m \u001b[0mkernel\u001b[0m\u001b[0;34m\u001b[0m\u001b[0;34m\u001b[0m\u001b[0m\n",
      "\u001b[0m\u001b[0;32m     18 \u001b[0;31m\u001b[0;34m\u001b[0m\u001b[0m\n",
      "\u001b[0m\n"
     ]
    },
    {
     "name": "stdin",
     "output_type": "stream",
     "text": [
      "ipdb>  p inp[row][column] * kernel\n"
     ]
    },
    {
     "name": "stdout",
     "output_type": "stream",
     "text": [
      "tensor([[10, 20, 30],\n",
      "        [40, 50, 60],\n",
      "        [70, 80, 90]])\n"
     ]
    },
    {
     "name": "stdin",
     "output_type": "stream",
     "text": [
      "ipdb>  next\n"
     ]
    },
    {
     "name": "stdout",
     "output_type": "stream",
     "text": [
      "> \u001b[0;32m/tmp/ipykernel_931/3222743227.py\u001b[0m(14)\u001b[0;36mtransposed_convolution\u001b[0;34m()\u001b[0m\n",
      "\u001b[0;32m     13 \u001b[0;31m    \u001b[0;32mfor\u001b[0m \u001b[0mrow\u001b[0m \u001b[0;32min\u001b[0m \u001b[0mlist\u001b[0m\u001b[0;34m(\u001b[0m\u001b[0mrange\u001b[0m\u001b[0;34m(\u001b[0m\u001b[0minp_rows\u001b[0m\u001b[0;34m)\u001b[0m\u001b[0;34m)\u001b[0m\u001b[0;34m:\u001b[0m\u001b[0;34m\u001b[0m\u001b[0;34m\u001b[0m\u001b[0m\n",
      "\u001b[0m\u001b[0;32m---> 14 \u001b[0;31m        \u001b[0;32mfor\u001b[0m \u001b[0mcolumn\u001b[0m \u001b[0;32min\u001b[0m \u001b[0mlist\u001b[0m\u001b[0;34m(\u001b[0m\u001b[0mrange\u001b[0m\u001b[0;34m(\u001b[0m\u001b[0minp_columns\u001b[0m\u001b[0;34m)\u001b[0m\u001b[0;34m)\u001b[0m\u001b[0;34m:\u001b[0m\u001b[0;34m\u001b[0m\u001b[0;34m\u001b[0m\u001b[0m\n",
      "\u001b[0m\u001b[0;32m     15 \u001b[0;31m\u001b[0;34m\u001b[0m\u001b[0m\n",
      "\u001b[0m\n"
     ]
    },
    {
     "name": "stdin",
     "output_type": "stream",
     "text": [
      "ipdb>  p row\n"
     ]
    },
    {
     "name": "stdout",
     "output_type": "stream",
     "text": [
      "0\n"
     ]
    },
    {
     "name": "stdin",
     "output_type": "stream",
     "text": [
      "ipdb>  p column\n"
     ]
    },
    {
     "name": "stdout",
     "output_type": "stream",
     "text": [
      "0\n"
     ]
    },
    {
     "name": "stdin",
     "output_type": "stream",
     "text": [
      "ipdb>  next\n"
     ]
    },
    {
     "name": "stdout",
     "output_type": "stream",
     "text": [
      "> \u001b[0;32m/tmp/ipykernel_931/3222743227.py\u001b[0m(16)\u001b[0;36mtransposed_convolution\u001b[0;34m()\u001b[0m\n",
      "\u001b[0;32m     15 \u001b[0;31m\u001b[0;34m\u001b[0m\u001b[0m\n",
      "\u001b[0m\u001b[0;32m---> 16 \u001b[0;31m            \u001b[0mipdb\u001b[0m\u001b[0;34m.\u001b[0m\u001b[0mset_trace\u001b[0m\u001b[0;34m(\u001b[0m\u001b[0;34m)\u001b[0m\u001b[0;34m\u001b[0m\u001b[0;34m\u001b[0m\u001b[0m\n",
      "\u001b[0m\u001b[0;32m     17 \u001b[0;31m            \u001b[0moutput\u001b[0m\u001b[0;34m[\u001b[0m\u001b[0mrow\u001b[0m\u001b[0;34m:\u001b[0m\u001b[0mrow\u001b[0m\u001b[0;34m+\u001b[0m\u001b[0mker_rows\u001b[0m\u001b[0;34m,\u001b[0m \u001b[0mcolumn\u001b[0m\u001b[0;34m:\u001b[0m\u001b[0mcolumn\u001b[0m\u001b[0;34m+\u001b[0m\u001b[0mker_columns\u001b[0m\u001b[0;34m]\u001b[0m \u001b[0;34m=\u001b[0m \u001b[0minp\u001b[0m\u001b[0;34m[\u001b[0m\u001b[0mrow\u001b[0m\u001b[0;34m]\u001b[0m\u001b[0;34m[\u001b[0m\u001b[0mcolumn\u001b[0m\u001b[0;34m]\u001b[0m \u001b[0;34m*\u001b[0m \u001b[0mkernel\u001b[0m\u001b[0;34m\u001b[0m\u001b[0;34m\u001b[0m\u001b[0m\n",
      "\u001b[0m\n"
     ]
    },
    {
     "name": "stdin",
     "output_type": "stream",
     "text": [
      "ipdb>  p column\n"
     ]
    },
    {
     "name": "stdout",
     "output_type": "stream",
     "text": [
      "1\n"
     ]
    },
    {
     "name": "stdin",
     "output_type": "stream",
     "text": [
      "ipdb>  p output\n"
     ]
    },
    {
     "name": "stdout",
     "output_type": "stream",
     "text": [
      "tensor([[10., 20., 30.,  0.,  0.,  0.],\n",
      "        [40., 50., 60.,  0.,  0.,  0.],\n",
      "        [70., 80., 90.,  0.,  0.,  0.],\n",
      "        [ 0.,  0.,  0.,  0.,  0.,  0.],\n",
      "        [ 0.,  0.,  0.,  0.,  0.,  0.],\n",
      "        [ 0.,  0.,  0.,  0.,  0.,  0.]])\n"
     ]
    },
    {
     "name": "stdin",
     "output_type": "stream",
     "text": [
      "ipdb>  next\n"
     ]
    },
    {
     "name": "stdout",
     "output_type": "stream",
     "text": [
      "> \u001b[0;32m/tmp/ipykernel_931/3222743227.py\u001b[0m(17)\u001b[0;36mtransposed_convolution\u001b[0;34m()\u001b[0m\n",
      "\u001b[0;32m     16 \u001b[0;31m            \u001b[0mipdb\u001b[0m\u001b[0;34m.\u001b[0m\u001b[0mset_trace\u001b[0m\u001b[0;34m(\u001b[0m\u001b[0;34m)\u001b[0m\u001b[0;34m\u001b[0m\u001b[0;34m\u001b[0m\u001b[0m\n",
      "\u001b[0m\u001b[0;32m---> 17 \u001b[0;31m            \u001b[0moutput\u001b[0m\u001b[0;34m[\u001b[0m\u001b[0mrow\u001b[0m\u001b[0;34m:\u001b[0m\u001b[0mrow\u001b[0m\u001b[0;34m+\u001b[0m\u001b[0mker_rows\u001b[0m\u001b[0;34m,\u001b[0m \u001b[0mcolumn\u001b[0m\u001b[0;34m:\u001b[0m\u001b[0mcolumn\u001b[0m\u001b[0;34m+\u001b[0m\u001b[0mker_columns\u001b[0m\u001b[0;34m]\u001b[0m \u001b[0;34m=\u001b[0m \u001b[0minp\u001b[0m\u001b[0;34m[\u001b[0m\u001b[0mrow\u001b[0m\u001b[0;34m]\u001b[0m\u001b[0;34m[\u001b[0m\u001b[0mcolumn\u001b[0m\u001b[0;34m]\u001b[0m \u001b[0;34m*\u001b[0m \u001b[0mkernel\u001b[0m\u001b[0;34m\u001b[0m\u001b[0;34m\u001b[0m\u001b[0m\n",
      "\u001b[0m\u001b[0;32m     18 \u001b[0;31m\u001b[0;34m\u001b[0m\u001b[0m\n",
      "\u001b[0m\n"
     ]
    },
    {
     "name": "stdin",
     "output_type": "stream",
     "text": [
      "ipdb>  next\n"
     ]
    },
    {
     "name": "stdout",
     "output_type": "stream",
     "text": [
      "> \u001b[0;32m/tmp/ipykernel_931/3222743227.py\u001b[0m(14)\u001b[0;36mtransposed_convolution\u001b[0;34m()\u001b[0m\n",
      "\u001b[0;32m     13 \u001b[0;31m    \u001b[0;32mfor\u001b[0m \u001b[0mrow\u001b[0m \u001b[0;32min\u001b[0m \u001b[0mlist\u001b[0m\u001b[0;34m(\u001b[0m\u001b[0mrange\u001b[0m\u001b[0;34m(\u001b[0m\u001b[0minp_rows\u001b[0m\u001b[0;34m)\u001b[0m\u001b[0;34m)\u001b[0m\u001b[0;34m:\u001b[0m\u001b[0;34m\u001b[0m\u001b[0;34m\u001b[0m\u001b[0m\n",
      "\u001b[0m\u001b[0;32m---> 14 \u001b[0;31m        \u001b[0;32mfor\u001b[0m \u001b[0mcolumn\u001b[0m \u001b[0;32min\u001b[0m \u001b[0mlist\u001b[0m\u001b[0;34m(\u001b[0m\u001b[0mrange\u001b[0m\u001b[0;34m(\u001b[0m\u001b[0minp_columns\u001b[0m\u001b[0;34m)\u001b[0m\u001b[0;34m)\u001b[0m\u001b[0;34m:\u001b[0m\u001b[0;34m\u001b[0m\u001b[0;34m\u001b[0m\u001b[0m\n",
      "\u001b[0m\u001b[0;32m     15 \u001b[0;31m\u001b[0;34m\u001b[0m\u001b[0m\n",
      "\u001b[0m\n"
     ]
    },
    {
     "name": "stdin",
     "output_type": "stream",
     "text": [
      "ipdb>  p output\n"
     ]
    },
    {
     "name": "stdout",
     "output_type": "stream",
     "text": [
      "tensor([[ 10.,  20.,  40.,  60.,   0.,   0.],\n",
      "        [ 40.,  80., 100., 120.,   0.,   0.],\n",
      "        [ 70., 140., 160., 180.,   0.,   0.],\n",
      "        [  0.,   0.,   0.,   0.,   0.,   0.],\n",
      "        [  0.,   0.,   0.,   0.,   0.,   0.],\n",
      "        [  0.,   0.,   0.,   0.,   0.,   0.]])\n"
     ]
    },
    {
     "name": "stdin",
     "output_type": "stream",
     "text": [
      "ipdb>  q\n"
     ]
    }
   ],
   "source": [
    "y = transposed_convolution(inp=input_img, kernel=kernel)"
   ]
  },
  {
   "cell_type": "code",
   "execution_count": 39,
   "id": "fe9facca-4620-4eae-a0f2-fb00944c9706",
   "metadata": {},
   "outputs": [
    {
     "data": {
      "text/plain": [
       "tensor([[ 10.,  20.,  40.,  60.,   0.,   0.],\n",
       "        [ 30.,  40.,  80., 120.,   0.,   0.],\n",
       "        [120., 160., 200., 240.,   0.,   0.],\n",
       "        [210., 280., 320., 360.,   0.,   0.],\n",
       "        [  0.,   0.,   0.,   0.,   0.,   0.],\n",
       "        [  0.,   0.,   0.,   0.,   0.,   0.]])"
      ]
     },
     "execution_count": 39,
     "metadata": {},
     "output_type": "execute_result"
    }
   ],
   "source": [
    "y"
   ]
  },
  {
   "cell_type": "code",
   "execution_count": 59,
   "id": "5f352096-6a33-41f1-a758-a7a1472a0d0f",
   "metadata": {},
   "outputs": [],
   "source": [
    "def convolve(m, k):\n",
    "    m_rows, m_cols = len(m), len(m[0]) # matrix rows, cols\n",
    "    k_rows, k_cols = len(k), len(k[0]) # kernel rows, cols\n",
    "\n",
    "    rows = m_rows - k_rows + 1 # result matrix rows\n",
    "    cols = m_rows - k_rows + 1 # result matrix cols\n",
    "    \n",
    "    v = np.zeros((rows, cols), dtype=m.dtype) # result matrix\n",
    "    \n",
    "    for r in range(rows):\n",
    "        for c in range(cols):\n",
    "            v[r][c] = np.sum(m[r:r+k_rows, c:c+k_cols] * k) # sum of the element-wise multiplication\n",
    "    return v"
   ]
  },
  {
   "cell_type": "code",
   "execution_count": 60,
   "id": "bc7dc0ec-fccc-4e14-bba2-2116f25f299d",
   "metadata": {},
   "outputs": [],
   "source": [
    "import numpy as np"
   ]
  },
  {
   "cell_type": "code",
   "execution_count": 71,
   "id": "7bbf3cdf-c233-4a51-8c2a-93f06b5a0adf",
   "metadata": {},
   "outputs": [],
   "source": [
    "inputs = np.random.randint(1, 5, size=(2, 2))"
   ]
  },
  {
   "cell_type": "code",
   "execution_count": 72,
   "id": "bdac8a62-7249-4167-b1f0-09fe4ed00bc3",
   "metadata": {},
   "outputs": [
    {
     "data": {
      "text/plain": [
       "array([[1, 3],\n",
       "       [4, 2]])"
      ]
     },
     "execution_count": 72,
     "metadata": {},
     "output_type": "execute_result"
    }
   ],
   "source": [
    "inputs"
   ]
  },
  {
   "cell_type": "code",
   "execution_count": 75,
   "id": "a7947d89-897d-48c6-8fdf-7a0cfe6ab2bd",
   "metadata": {},
   "outputs": [],
   "source": [
    "kernel = np.random.randint(1, 5, size=(2, 2))"
   ]
  },
  {
   "cell_type": "code",
   "execution_count": 76,
   "id": "767a3ff7-c20c-449c-bfbc-25b446153bb7",
   "metadata": {},
   "outputs": [
    {
     "data": {
      "text/plain": [
       "array([[3, 4],\n",
       "       [4, 2]])"
      ]
     },
     "execution_count": 76,
     "metadata": {},
     "output_type": "execute_result"
    }
   ],
   "source": [
    "kernel"
   ]
  },
  {
   "cell_type": "code",
   "execution_count": 77,
   "id": "a5e0237a-dbc3-4d8b-8955-ea3118473108",
   "metadata": {},
   "outputs": [
    {
     "data": {
      "text/plain": [
       "array([[35]])"
      ]
     },
     "execution_count": 77,
     "metadata": {},
     "output_type": "execute_result"
    }
   ],
   "source": [
    "convolve(inputs, kernel)"
   ]
  },
  {
   "cell_type": "markdown",
   "id": "f4a050ce-8eb3-4e78-8aca-64801650fe13",
   "metadata": {},
   "source": [
    "##### Example 2"
   ]
  },
  {
   "cell_type": "code",
   "execution_count": 3,
   "id": "d36038ae-ff65-4372-ae39-4815b9408574",
   "metadata": {},
   "outputs": [],
   "source": [
    "m = nn.ConvTranspose2d(in_channels=16, out_channels=33, kernel_size=3, stride=2)"
   ]
  },
  {
   "cell_type": "markdown",
   "id": "04d84340-e27a-4163-8b9a-b7d3dc977abc",
   "metadata": {},
   "source": [
    "##### Example 3"
   ]
  },
  {
   "cell_type": "code",
   "execution_count": 10,
   "id": "d6f9b382-ba51-47d1-b967-b2cf50055c16",
   "metadata": {},
   "outputs": [],
   "source": [
    "x = torch.tensor([[[[1, 2, 3], [4, 5, 6], [7, 8, 9]]]]).float()"
   ]
  },
  {
   "cell_type": "code",
   "execution_count": 43,
   "id": "ee7ce0ca-fe88-44af-ad4b-240a59ecbd13",
   "metadata": {},
   "outputs": [],
   "source": [
    "from torch import nn"
   ]
  },
  {
   "cell_type": "code",
   "execution_count": 44,
   "id": "c551e5ad-3e52-4db1-8175-bfb4e278ed8b",
   "metadata": {},
   "outputs": [
    {
     "data": {
      "text/plain": [
       "tensor([[[[1., 2., 3.],\n",
       "          [4., 5., 6.],\n",
       "          [7., 8., 9.]]]])"
      ]
     },
     "execution_count": 44,
     "metadata": {},
     "output_type": "execute_result"
    }
   ],
   "source": [
    "x"
   ]
  },
  {
   "cell_type": "code",
   "execution_count": 45,
   "id": "688d7dea-6f0a-4a45-bf55-a84501962bac",
   "metadata": {},
   "outputs": [
    {
     "data": {
      "text/plain": [
       "torch.Size([1, 1, 3, 3])"
      ]
     },
     "execution_count": 45,
     "metadata": {},
     "output_type": "execute_result"
    }
   ],
   "source": [
    "x.shape"
   ]
  },
  {
   "cell_type": "code",
   "execution_count": 46,
   "id": "27dbbe5a-c7f0-41c4-b0f3-013885c37c4c",
   "metadata": {},
   "outputs": [],
   "source": [
    "upsample = nn.Upsample(scale_factor=2)"
   ]
  },
  {
   "cell_type": "code",
   "execution_count": 47,
   "id": "9b3c65c9-01a7-4bd9-9e8d-01b7eee6054a",
   "metadata": {},
   "outputs": [],
   "source": [
    "y = upsample(x)"
   ]
  },
  {
   "cell_type": "markdown",
   "id": "b83a7d96-0003-44df-b281-49b5ad31ed81",
   "metadata": {},
   "source": [
    "What is the output of `y`? And its shape?"
   ]
  },
  {
   "cell_type": "code",
   "execution_count": 48,
   "id": "51b5b879-5f28-44a0-b937-07a17bddb088",
   "metadata": {},
   "outputs": [
    {
     "data": {
      "text/plain": [
       "(tensor([[[[1., 1., 2., 2., 3., 3.],\n",
       "           [1., 1., 2., 2., 3., 3.],\n",
       "           [4., 4., 5., 5., 6., 6.],\n",
       "           [4., 4., 5., 5., 6., 6.],\n",
       "           [7., 7., 8., 8., 9., 9.],\n",
       "           [7., 7., 8., 8., 9., 9.]]]]),\n",
       " torch.Size([1, 1, 6, 6]))"
      ]
     },
     "execution_count": 48,
     "metadata": {},
     "output_type": "execute_result"
    }
   ],
   "source": [
    "y, y.shape"
   ]
  },
  {
   "cell_type": "code",
   "execution_count": null,
   "id": "2042eea2-87b6-4a64-b0fc-f22e344d4104",
   "metadata": {},
   "outputs": [],
   "source": []
  }
 ],
 "metadata": {
  "kernelspec": {
   "display_name": "Python 3 (ipykernel)",
   "language": "python",
   "name": "python3"
  },
  "language_info": {
   "codemirror_mode": {
    "name": "ipython",
    "version": 3
   },
   "file_extension": ".py",
   "mimetype": "text/x-python",
   "name": "python",
   "nbconvert_exporter": "python",
   "pygments_lexer": "ipython3",
   "version": "3.9.13"
  }
 },
 "nbformat": 4,
 "nbformat_minor": 5
}
