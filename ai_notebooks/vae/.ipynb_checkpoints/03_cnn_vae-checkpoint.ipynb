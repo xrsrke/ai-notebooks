{
 "cells": [
  {
   "cell_type": "markdown",
   "id": "d8c5c2ac-eacc-499d-9c5c-140db506863f",
   "metadata": {},
   "source": [
    "https://youtu.be/afNuE5z2CQ8"
   ]
  },
  {
   "cell_type": "code",
   "execution_count": 3,
   "id": "93424230-37e0-4615-a8db-eace8a572d73",
   "metadata": {
    "execution": {
     "iopub.execute_input": "2022-11-29T00:38:11.391538Z",
     "iopub.status.busy": "2022-11-29T00:38:11.390325Z",
     "iopub.status.idle": "2022-11-29T00:38:11.397102Z",
     "shell.execute_reply": "2022-11-29T00:38:11.395332Z",
     "shell.execute_reply.started": "2022-11-29T00:38:11.391488Z"
    }
   },
   "outputs": [],
   "source": [
    "import torch\n",
    "from torch import nn"
   ]
  },
  {
   "cell_type": "markdown",
   "id": "ad89b5e9-dba1-47da-b1d1-ac922cb301df",
   "metadata": {},
   "source": [
    "Higher dimensional latent space => better generate data"
   ]
  },
  {
   "cell_type": "markdown",
   "id": "294f365f-4ec1-4c0b-9d4c-09d8fc1d956f",
   "metadata": {},
   "source": [
    "Autoencoder is a kind of generative model - a model that can learn from an distribution."
   ]
  },
  {
   "cell_type": "markdown",
   "id": "44c59a14-6ec8-421b-b9fa-fac9d44d30b5",
   "metadata": {},
   "source": [
    "Predict the parameters of distribution that random variable $z$ follows"
   ]
  },
  {
   "cell_type": "markdown",
   "id": "fc5190bc-d2cb-4e14-9721-90edda40ecf3",
   "metadata": {},
   "source": [
    "Questions\n",
    "- Why assume $z$ follows guassian distribution?\n",
    "- Variance is positive number. If NN predicts the variance. How to force to be positive?\n",
    "    + Consider the output of NN be log variance $\\log \\left(\\sigma^2\\right)$ instead of variance $\\sigma$\n",
    "- What does it mean by sampling from a VAE?"
   ]
  },
  {
   "cell_type": "markdown",
   "id": "05631e95-8491-4751-aabc-826014c2baf8",
   "metadata": {},
   "source": [
    "Encoder suppose to predict the mean $\\mu$ and variance $\\sigma$ of the distribution"
   ]
  },
  {
   "cell_type": "markdown",
   "id": "291b8965-2ed1-48f4-aaa4-46cc9b10d329",
   "metadata": {},
   "source": [
    "$\\log \\left(\\sigma^2\\right)$ => $\\sigma=e^{\\log \\left(\\sigma^2\\right) / 2}$"
   ]
  },
  {
   "cell_type": "markdown",
   "id": "b867573b-3a55-409a-8a4f-dcb9abe4f367",
   "metadata": {},
   "source": [
    "$z_1 \\sim N\\left(\\mu_1, \\sigma_1 \\right)$"
   ]
  },
  {
   "cell_type": "markdown",
   "id": "85279dd9-bc85-454d-b001-c699aa3e4787",
   "metadata": {},
   "source": [
    "$z_1 \\sim N\\left(\\mu_1, e^{\\log \\left(\\sigma^2\\right) / 2} \\right)$"
   ]
  },
  {
   "cell_type": "markdown",
   "id": "767c5e0a-9c7d-4ae8-8161-ba703de8dd8f",
   "metadata": {},
   "source": [
    "### Log"
   ]
  },
  {
   "cell_type": "markdown",
   "id": "68dc19ac-26e1-41e7-b916-d6c90ab91375",
   "metadata": {},
   "source": [
    "$\\log(-1) = 1.36$\n",
    "\n",
    "$\\log(0) = \\text{underfined}$\n",
    "\n",
    "$\\log(1) = 0$\n",
    "\n",
    "$\\log(1.5) = 0.17$"
   ]
  },
  {
   "cell_type": "markdown",
   "id": "364770b0-84f8-4594-9f55-a5e32f70424b",
   "metadata": {},
   "source": [
    "### Latent Space"
   ]
  },
  {
   "cell_type": "markdown",
   "id": "55f394eb-d943-49d1-8290-2ebe5f750659",
   "metadata": {},
   "source": [
    "$z=\\mu+\\sigma \\cdot \\epsilon$"
   ]
  },
  {
   "cell_type": "markdown",
   "id": "4f4a1fbf-0e8a-48b8-a921-0e27c4d15bcf",
   "metadata": {},
   "source": [
    "##### Log-Var Trick"
   ]
  },
  {
   "cell_type": "markdown",
   "id": "abf2b96b-8d48-4738-a7c5-b1f5d3b5755d",
   "metadata": {},
   "source": [
    "\\begin{aligned}\n",
    "\\log \\left(\\sigma^2\\right) &=2 \\cdot \\log (\\sigma) \\\\\n",
    "\\log \\left(\\sigma^2\\right) / 2 &=\\log (\\sigma) \\\\\n",
    "\\sigma &=e^{\\log \\left(\\sigma^2\\right) / 2}\n",
    "\\end{aligned}"
   ]
  },
  {
   "cell_type": "markdown",
   "id": "8c8448b3-2ecf-422c-a7d8-68464e385eb1",
   "metadata": {},
   "source": [
    "### Reparametrize"
   ]
  },
  {
   "cell_type": "markdown",
   "id": "343d849a-9f65-4d75-a7d0-bc33b1e7e546",
   "metadata": {},
   "source": [
    "Replace $\\sigma=e^{\\log \\left(\\sigma^2\\right) / 2}$"
   ]
  },
  {
   "cell_type": "markdown",
   "id": "432c5cc3-ed1a-4128-ac82-43bb04a9ba0c",
   "metadata": {},
   "source": [
    "$z=\\mu+e^{\\log \\left(\\sigma^2\\right) / 2} \\cdot \\epsilon$"
   ]
  },
  {
   "cell_type": "markdown",
   "id": "edf92ecb-4a27-4b6a-bd9c-d923be383edd",
   "metadata": {
    "jp-MarkdownHeadingCollapsed": true,
    "tags": []
   },
   "source": [
    "### How VAE optimizes?"
   ]
  },
  {
   "cell_type": "markdown",
   "id": "e0dfaffe-0654-4433-8453-b482f5eb89ca",
   "metadata": {},
   "source": [
    "### Loss Function"
   ]
  },
  {
   "cell_type": "markdown",
   "id": "a59ce686-28b4-4775-b697-5ff5db50f2ca",
   "metadata": {},
   "source": [
    "Overall Loss: $\\mathcal{L}=\\alpha \\cdot \\mathcal{L}_1+\\mathcal{L}_2$"
   ]
  },
  {
   "cell_type": "markdown",
   "id": "0448f184-5092-4221-8081-eaa5da53e553",
   "metadata": {},
   "source": [
    "$\\mathcal{L}=-\\mathbb{E}_{z \\sim q_w\\left(z \\mid x^{[i]}\\right)}\\left[\\log p_w\\left(x^{[i]} \\mid z\\right)\\right]+\\mathbf{K L}\\left(q_w\\left(z \\mid x^{[i]}\\right) \\| p(z)\\right)$"
   ]
  },
  {
   "cell_type": "markdown",
   "id": "b73a9ec8-b035-48dc-856e-d8c25904fcab",
   "metadata": {},
   "source": [
    "Minimizes Evidence Lower Bound (ELBO)"
   ]
  },
  {
   "cell_type": "markdown",
   "id": "787f4895-d1fc-4990-9113-a016a6e713e2",
   "metadata": {},
   "source": [
    "Notes\n",
    "- $q(x \\mid y)$ use when approximate things\n",
    "- $p_(x \\mid y)$ use for ground truth"
   ]
  },
  {
   "cell_type": "markdown",
   "id": "cd80b68d-a38a-4c83-96ed-8c8af1092b4b",
   "metadata": {},
   "source": [
    "Notations\n",
    "\n",
    "- $q_w(\\mathbf{z} \\mid \\mathbf{x})$: the output of the encoder layer\n",
    "- $q_w(z \\mid x)$:\n",
    "- $p_w(x \\mid z)$:\n",
    "- $p_w(\\mathbf{z} \\mid \\mathbf{x})$\n",
    "- $z$: compressed representation of training data (aka: latent space)\n",
    "- $\\mu$: the mean vector\n",
    "- $\\sigma$: variance\n",
    "- $\\mu$: mean"
   ]
  },
  {
   "cell_type": "markdown",
   "id": "6a0c5d7c-8c56-4bd5-96af-e1f4838e52d5",
   "metadata": {},
   "source": [
    "### KL Divergence"
   ]
  },
  {
   "cell_type": "markdown",
   "id": "6ecd088f-3912-47d9-b0ec-16f87a3e1581",
   "metadata": {},
   "source": [
    "Minimize the distance between the predicted $q_\\phi(\\mathbf{z} \\mid \\mathbf{x})$ and the ground truth $p_\\theta(\\mathbf{z} \\mid \\mathbf{x})$"
   ]
  },
  {
   "cell_type": "markdown",
   "id": "4be37e00-59d8-44c6-8069-124cafb193e7",
   "metadata": {},
   "source": [
    "$\\mathbb{E}_{q_\\phi}\\left[\\log \\frac{q_\\phi(\\mathbf{z} \\mid \\mathbf{x})}{p_\\theta(\\mathbf{z} \\mid \\mathbf{x})}\\right]$"
   ]
  },
  {
   "cell_type": "markdown",
   "id": "e10d118f-26fb-4cde-a34b-7d03c4ddfdfa",
   "metadata": {},
   "source": [
    "### Evidence Lower Bound"
   ]
  },
  {
   "cell_type": "markdown",
   "id": "678c0834-9bf6-4aff-b8fc-c19c8cd422e2",
   "metadata": {},
   "source": [
    "$\\mathcal{L}(\\boldsymbol{v}, \\boldsymbol{\\theta}, q)=\\log p(\\boldsymbol{v} ; \\boldsymbol{\\theta})-D_{\\mathrm{KL}}(q(\\boldsymbol{h} \\mid \\boldsymbol{v}) \\| p(\\boldsymbol{h} \\mid \\boldsymbol{v} ; \\boldsymbol{\\theta}))$"
   ]
  },
  {
   "cell_type": "markdown",
   "id": "a9175ae5-6c49-4bb6-88c0-d64756324e45",
   "metadata": {},
   "source": [
    "### Loss function"
   ]
  },
  {
   "cell_type": "markdown",
   "id": "8a5ceeab-4912-41af-813e-60191ae07a10",
   "metadata": {},
   "source": [
    "- BCE\n",
    "- MSE"
   ]
  },
  {
   "cell_type": "markdown",
   "id": "841e27b8-62e4-409a-8d97-f82c562ca49b",
   "metadata": {},
   "source": [
    "$\\mathcal{L}_2=D_{K L}[N(\\mu, \\sigma) \\| N(0,1)]=-\\frac{1}{2} \\sum\\left(1+\\log \\left(\\sigma^2\\right)-\\mu^2-\\sigma^2\\right)$"
   ]
  },
  {
   "cell_type": "markdown",
   "id": "635eabda-0089-42d8-9552-f1c7ee55d490",
   "metadata": {},
   "source": [
    "- Why variance vector close to 1 => mean vector close to 0"
   ]
  },
  {
   "cell_type": "markdown",
   "id": "af6061ab-cb0a-4f95-bd8f-f399a2301dec",
   "metadata": {},
   "source": [
    "$\\mathcal{L}_2$ will be minimize if \n",
    "- $\\sigma$ is 1 => $\\log (1) = 0$\n",
    "- $\\mu$ is 0\n",
    "\n",
    "=> $\\mathcal{L}_2 = -\\frac{1}{2} \\sum\\left(1+\\log \\left(0\\right)-0^2-1^2\\right) = 0$"
   ]
  },
  {
   "cell_type": "code",
   "execution_count": null,
   "id": "038a524a-644f-45b5-89b5-2b61a46e5b3a",
   "metadata": {},
   "outputs": [],
   "source": [
    "ConvTranspose2d"
   ]
  }
 ],
 "metadata": {
  "kernelspec": {
   "display_name": "Python 3 (ipykernel)",
   "language": "python",
   "name": "python3"
  },
  "language_info": {
   "codemirror_mode": {
    "name": "ipython",
    "version": 3
   },
   "file_extension": ".py",
   "mimetype": "text/x-python",
   "name": "python",
   "nbconvert_exporter": "python",
   "pygments_lexer": "ipython3",
   "version": "3.9.13"
  }
 },
 "nbformat": 4,
 "nbformat_minor": 5
}
