{
 "cells": [
  {
   "cell_type": "code",
   "execution_count": null,
   "id": "b32311e7-a019-4718-bbe7-bf243db50f31",
   "metadata": {},
   "outputs": [],
   "source": []
  }
 ],
 "metadata": {
  "kernelspec": {
   "display_name": "Python 3 (ipykernel)",
   "language": "python",
   "name": "python3"
  },
  "language_info": {
   "name": ""
  }
 },
 "nbformat": 4,
 "nbformat_minor": 5
}
