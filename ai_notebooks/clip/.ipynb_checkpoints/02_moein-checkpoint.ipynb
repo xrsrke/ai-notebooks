{
 "cells": [
  {
   "cell_type": "code",
   "execution_count": 16,
   "id": "63df280e-e3b8-4029-beab-06a52115211f",
   "metadata": {},
   "outputs": [],
   "source": [
    "import torch\n",
    "from torch import nn\n",
    "import torch.nn.functional as F"
   ]
  },
  {
   "cell_type": "code",
   "execution_count": 15,
   "id": "ace734e8-91b7-40be-8dd8-70438d1ce5c6",
   "metadata": {},
   "outputs": [],
   "source": [
    "import timm\n",
    "from transformers import DistilBertModel, DistilBertConfig"
   ]
  },
  {
   "cell_type": "code",
   "execution_count": 11,
   "id": "5541ccb5-4133-480e-9270-793684bb8b80",
   "metadata": {},
   "outputs": [],
   "source": [
    "class ImageEncoder(nn.Module):\n",
    "    def __init__(\n",
    "        self, model_name, pretrained, trainable\n",
    "    ):\n",
    "        super().__init__()\n",
    "        self.model = timm.create_model(\n",
    "            model_name, pretrained, num_classes=0, global_pool=\"avg\"\n",
    "        )\n",
    "        \n",
    "        for p in self.model.parameters():\n",
    "            p.requires_grad = trainable\n",
    "    \n",
    "    def forward(self, x):\n",
    "        return self.model(x)"
   ]
  },
  {
   "cell_type": "code",
   "execution_count": 3,
   "id": "38267ad6-c29e-4bb6-b148-323e99133853",
   "metadata": {},
   "outputs": [],
   "source": [
    "class TextEncoder(nn.Module):\n",
    "    def __init__(self, model_name, pretrained, trainable):\n",
    "        super().__init__()\n",
    "        \n",
    "        if pretrained:\n",
    "            self.model = DistilBertModel.from_pretrained(model_name)\n",
    "        else:\n",
    "            self.model = DistilBertModel(config=DistilBertConfig())\n",
    "        \n",
    "        for p in self.model.parameters():\n",
    "            p.requires_grad = trainable\n",
    "        \n",
    "        self.target_token_idx = 0\n",
    "    \n",
    "    def forward(self, input_ids, attention_mask):\n",
    "        output = self.model(\n",
    "            input_ids=input_ids,\n",
    "            attention_mask=attention_mask\n",
    "        )\n",
    "        last_hidden_state = output.last_hidden_state"
   ]
  },
  {
   "cell_type": "code",
   "execution_count": 4,
   "id": "41c9d287-e11e-4287-9cba-b4df62e6b7bc",
   "metadata": {},
   "outputs": [],
   "source": [
    "class ProjectionHead:\n",
    "    def __init__(self, embedding_dim):\n",
    "        pass"
   ]
  },
  {
   "cell_type": "code",
   "execution_count": 17,
   "id": "efff27a4-88a2-4391-bd47-bf8ec85202f8",
   "metadata": {},
   "outputs": [],
   "source": [
    "class CLIPModel(nn.Module):\n",
    "    def __init__(\n",
    "        self,\n",
    "        temperature,\n",
    "        image_embedding,\n",
    "        text_embedding\n",
    "    ):\n",
    "        super().__init__()\n",
    "        self.image_encoder = ImageEncoder()\n",
    "        self.text_encoder = TextEncoder()\n",
    "        self.image_projection = ProjectionHead(embedding_dim=image_embedding)\n",
    "        self.text_projection = ProjectionHead(embedding_dim=text_embedding)\n",
    "        self.temperature = temperature\n",
    "    \n",
    "    def forward(self, batch):\n",
    "        \n",
    "        image = batch[\"image\"]\n",
    "        input_ids = batch[\"input_ids\"]\n",
    "        attention_mask = batch[\"attention_mask\"]\n",
    "        \n",
    "        image_features = self.image_encoder(image)\n",
    "        text_features = self.text_encoder(\n",
    "            input_ids=input_ids,\n",
    "            attention_mask=attention_mask\n",
    "        )\n",
    "        \n",
    "        # getting image and text embeddings\n",
    "        image_embeddings = self.image_projection(image_features)\n",
    "        text_embeddings = self.text_projection(text_features)\n",
    "        \n",
    "        # calculate the loss"
   ]
  },
  {
   "cell_type": "markdown",
   "id": "ae5af6ea-39bd-4a78-af34-13f7f858c874",
   "metadata": {},
   "source": [
    "https://github.com/moein-shariatnia/OpenAI-CLIP"
   ]
  },
  {
   "cell_type": "code",
   "execution_count": null,
   "id": "7ca5fd06-2a7e-438d-8c2b-07fadd4e8319",
   "metadata": {},
   "outputs": [],
   "source": []
  }
 ],
 "metadata": {
  "kernelspec": {
   "display_name": "Python 3 (ipykernel)",
   "language": "python",
   "name": "python3"
  },
  "language_info": {
   "codemirror_mode": {
    "name": "ipython",
    "version": 3
   },
   "file_extension": ".py",
   "mimetype": "text/x-python",
   "name": "python",
   "nbconvert_exporter": "python",
   "pygments_lexer": "ipython3",
   "version": "3.9.13"
  }
 },
 "nbformat": 4,
 "nbformat_minor": 5
}
