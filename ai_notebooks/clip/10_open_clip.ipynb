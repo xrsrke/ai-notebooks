{
 "cells": [
  {
   "cell_type": "code",
   "execution_count": null,
   "id": "b144db96-975a-4fda-a540-4edf596a8037",
   "metadata": {},
   "outputs": [],
   "source": [
    "!pip install open-clip-torch\n",
    "!pip install tglcourse"
   ]
  },
  {
   "cell_type": "code",
   "execution_count": 6,
   "id": "68b774d6-953f-4c2b-9526-c870199d44b9",
   "metadata": {},
   "outputs": [
    {
     "name": "stdout",
     "output_type": "stream",
     "text": [
      "[('RN50', 'openai'), ('RN50', 'yfcc15m'), ('RN50', 'cc12m'), ('RN50-quickgelu', 'openai'), ('RN50-quickgelu', 'yfcc15m'), ('RN50-quickgelu', 'cc12m'), ('RN101', 'openai'), ('RN101', 'yfcc15m'), ('RN101-quickgelu', 'openai'), ('RN101-quickgelu', 'yfcc15m'), ('RN50x4', 'openai'), ('RN50x16', 'openai'), ('RN50x64', 'openai'), ('ViT-B-32', 'openai'), ('ViT-B-32', 'laion400m_e31'), ('ViT-B-32', 'laion400m_e32'), ('ViT-B-32', 'laion2b_e16'), ('ViT-B-32', 'laion2b_s34b_b79k'), ('ViT-B-32-quickgelu', 'openai'), ('ViT-B-32-quickgelu', 'laion400m_e31'), ('ViT-B-32-quickgelu', 'laion400m_e32'), ('ViT-B-16', 'openai'), ('ViT-B-16', 'laion400m_e31'), ('ViT-B-16', 'laion400m_e32'), ('ViT-B-16-plus-240', 'laion400m_e31'), ('ViT-B-16-plus-240', 'laion400m_e32'), ('ViT-L-14', 'openai'), ('ViT-L-14', 'laion400m_e31'), ('ViT-L-14', 'laion400m_e32'), ('ViT-L-14', 'laion2b_s32b_b82k'), ('ViT-L-14-336', 'openai'), ('ViT-H-14', 'laion2b_s32b_b79k'), ('ViT-g-14', 'laion2b_s12b_b42k'), ('roberta-ViT-B-32', 'laion2b_s12b_b32k'), ('xlm-roberta-base-ViT-B-32', 'laion5b_s13b_b90k'), ('xlm-roberta-large-ViT-H-14', 'frozen_laion5b_s13b_b90k')]\n"
     ]
    }
   ],
   "source": [
    "import torch\n",
    "import open_clip\n",
    "# from tglcourse.utils import *\n",
    "\n",
    "print(open_clip.list_pretrained())"
   ]
  },
  {
   "cell_type": "code",
   "execution_count": 7,
   "id": "8447130e-5377-4ce6-bcef-cb7fc35c3e1a",
   "metadata": {},
   "outputs": [
    {
     "name": "stderr",
     "output_type": "stream",
     "text": [
      "100%|███████████████████████████████████████| 605M/605M [00:07<00:00, 86.4MiB/s]\n"
     ]
    }
   ],
   "source": [
    "model, _, preprocess = open_clip.create_model_and_transforms('ViT-B-32-quickgelu', pretrained='laion400m_e32')"
   ]
  },
  {
   "cell_type": "code",
   "execution_count": null,
   "id": "e6717c0a-1844-46b7-ba4a-cdad311ba1ba",
   "metadata": {},
   "outputs": [],
   "source": [
    "# input_image = pil_from_url('https://images.pexels.com/photos/185032/pexels-photo-185032.jpeg?').resize((600, 400))\n",
    "# input_image"
   ]
  },
  {
   "cell_type": "markdown",
   "id": "99f05b7f-d3e1-4a8c-8b1a-6c07669da99a",
   "metadata": {},
   "source": [
    "### Text - Features"
   ]
  },
  {
   "cell_type": "code",
   "execution_count": 12,
   "id": "2d6a7ecd-4f74-4b99-a521-ca9cf37a49b9",
   "metadata": {},
   "outputs": [],
   "source": [
    "sequence = \"persistence is all you need\""
   ]
  },
  {
   "cell_type": "code",
   "execution_count": 15,
   "id": "c0a497b9-17cc-46bb-b73a-7b9fa2a13503",
   "metadata": {},
   "outputs": [],
   "source": [
    "text_batch = open_clip.tokenize([sequence])"
   ]
  },
  {
   "cell_type": "code",
   "execution_count": 16,
   "id": "dc536e22-5cc4-43d7-a58e-136f31b734e0",
   "metadata": {},
   "outputs": [
    {
     "data": {
      "text/plain": [
       "torch.Size([1, 77])"
      ]
     },
     "execution_count": 16,
     "metadata": {},
     "output_type": "execute_result"
    }
   ],
   "source": [
    "text_batch.shape"
   ]
  },
  {
   "cell_type": "code",
   "execution_count": 17,
   "id": "6bcba9b3-6096-43e5-872a-8e15cca19a7a",
   "metadata": {},
   "outputs": [
    {
     "name": "stderr",
     "output_type": "stream",
     "text": [
      "/usr/local/lib/python3.9/dist-packages/torch/amp/autocast_mode.py:198: UserWarning: User provided device_type of 'cuda', but CUDA is not available. Disabling\n",
      "  warnings.warn('User provided device_type of \\'cuda\\', but CUDA is not available. Disabling')\n"
     ]
    }
   ],
   "source": [
    "with torch.no_grad(), torch.cuda.amp.autocast():\n",
    "    text_features = model.encode_text(text_batch)"
   ]
  },
  {
   "cell_type": "code",
   "execution_count": 18,
   "id": "54c9adf3-68e6-47c6-937e-5505c776ca8b",
   "metadata": {},
   "outputs": [
    {
     "data": {
      "text/plain": [
       "torch.Size([1, 512])"
      ]
     },
     "execution_count": 18,
     "metadata": {},
     "output_type": "execute_result"
    }
   ],
   "source": [
    "text_features.shape"
   ]
  },
  {
   "cell_type": "code",
   "execution_count": null,
   "id": "f9a68f8b-21c5-4d50-a201-9112df32e528",
   "metadata": {},
   "outputs": [],
   "source": []
  },
  {
   "cell_type": "code",
   "execution_count": 19,
   "id": "6538b2dd-1c29-4ba4-8054-ff1ceda38d73",
   "metadata": {},
   "outputs": [],
   "source": [
    "with torch.no_grad():\n",
    "    text_featuresx = model.encode_text(text)"
   ]
  },
  {
   "cell_type": "code",
   "execution_count": null,
   "id": "ae64275f-4a1e-4857-af36-3add695b7d47",
   "metadata": {},
   "outputs": [],
   "source": []
  }
 ],
 "metadata": {
  "kernelspec": {
   "display_name": "Python 3 (ipykernel)",
   "language": "python",
   "name": "python3"
  },
  "language_info": {
   "codemirror_mode": {
    "name": "ipython",
    "version": 3
   },
   "file_extension": ".py",
   "mimetype": "text/x-python",
   "name": "python",
   "nbconvert_exporter": "python",
   "pygments_lexer": "ipython3",
   "version": "3.9.13"
  }
 },
 "nbformat": 4,
 "nbformat_minor": 5
}
