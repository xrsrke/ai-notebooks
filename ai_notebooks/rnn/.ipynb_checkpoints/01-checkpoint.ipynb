{
 "cells": [
  {
   "cell_type": "code",
   "execution_count": null,
   "id": "06257215-708f-458d-acc9-e47aa4b11649",
   "metadata": {},
   "outputs": [],
   "source": []
  }
 ],
 "metadata": {
  "kernelspec": {
   "display_name": "",
   "name": ""
  },
  "language_info": {
   "name": ""
  }
 },
 "nbformat": 4,
 "nbformat_minor": 5
}
