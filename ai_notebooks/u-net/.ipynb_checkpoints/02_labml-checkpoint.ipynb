{
 "cells": [
  {
   "cell_type": "markdown",
   "id": "3b1b51e4-12ae-499a-a985-0585517fe2b9",
   "metadata": {},
   "source": [
    "Source: https://nn.labml.ai/unet/index.html"
   ]
  },
  {
   "cell_type": "code",
   "execution_count": 1,
   "id": "50f22b8c-dc3a-4e68-a93c-7d48f3ded7da",
   "metadata": {},
   "outputs": [],
   "source": [
    "import torch\n",
    "import torchvision.transforms.functional\n",
    "from torch import nn"
   ]
  },
  {
   "cell_type": "code",
   "execution_count": 2,
   "id": "36c307ed-4a85-4d0c-b7e2-fa271f13eb25",
   "metadata": {},
   "outputs": [],
   "source": [
    "class DoubleConvolution(nn.Module):\n",
    "    def __init__(self, in_channels, out_channels):\n",
    "        super().__init__()\n",
    "        self.conv = nn.Sequential(\n",
    "            nn.Conv2d(\n",
    "                in_channels=in_channels, out_channels=out_channels,\n",
    "                kernel_size=3, padding=1\n",
    "            ),\n",
    "            nn.ReLU(),\n",
    "            nn.Conv2d(\n",
    "                in_channels=out_channels, out_channels=out_channels,\n",
    "                kernel_size=3, padding=1\n",
    "            ),\n",
    "            nn.ReLU()\n",
    "        )\n",
    "    \n",
    "    def forward(self, x):\n",
    "        return self.conv(x)"
   ]
  },
  {
   "cell_type": "code",
   "execution_count": 3,
   "id": "639030fa-6d4b-4118-b8fa-6ac13525b0c8",
   "metadata": {},
   "outputs": [],
   "source": [
    "class DownSample(nn.Module):\n",
    "    def __init__(self):\n",
    "        super().__init__()\n",
    "        self.pool = nn.MaxPool2d(kernel_size=2)\n",
    "    \n",
    "    def forward(self, x):\n",
    "        return self.pool(x)"
   ]
  },
  {
   "cell_type": "code",
   "execution_count": 4,
   "id": "02236ac3-fa8f-4c8a-aec5-c2785f302616",
   "metadata": {},
   "outputs": [],
   "source": [
    "class UpSample(nn.Module):\n",
    "    def __init__(self, in_channels, out_channels):\n",
    "        super().__init__()\n",
    "        self.up = nn.ConvTranspose2d(\n",
    "            in_channels, out_channels,\n",
    "            kernel_size=2, stride=2\n",
    "        )\n",
    "    \n",
    "    def forward(self, x):\n",
    "        return self.up(x)"
   ]
  },
  {
   "cell_type": "markdown",
   "id": "bbf5fb04-74a9-4bf7-814f-67d07fa95bc0",
   "metadata": {},
   "source": [
    "At every step in the expansive path the corresponding feature map from the contracting path concatenated with the current feature map."
   ]
  },
  {
   "cell_type": "code",
   "execution_count": 5,
   "id": "8f9f4c2b-36d1-4b53-b307-f0cf49c7df8a",
   "metadata": {},
   "outputs": [],
   "source": [
    "class CropAndConcat(nn.Module):\n",
    "    def forward(self, x, constracting_x):\n",
    "        x_height, x_width = x.shape[2], x.shape[3]\n",
    "        constracting_x = torchvision.transforms.functional.center_crop(x_height, x_width)\n",
    "        \n",
    "        # concentrate the feature maps\n",
    "        x = torch.cat([x, constracting_x], dim=1)\n",
    "        return x"
   ]
  },
  {
   "cell_type": "code",
   "execution_count": 6,
   "id": "ced459ee-ae50-4b0a-b9a8-741c4a7114ea",
   "metadata": {},
   "outputs": [],
   "source": [
    "class UNet(nn.Module):\n",
    "    def __init__(self, in_channels, out_channels):\n",
    "        super().__init__()\n",
    "\n",
    "        # constracting path\n",
    "        down_features = [(in_channels, 64), (64, 128), (128, 256), (256, 512)]\n",
    "        \n",
    "        self.down_conv = nn.ModuleList(\n",
    "            [DoubleConvolution(n_in, n_out) for n_in, n_out in down_features]\n",
    "        )\n",
    "        self.down_sample = nn.ModuleList([DownSample() for _ in range(4)])\n",
    "        \n",
    "        # the bottom\n",
    "        self.middle_conv = DoubleConvolution(512, 1024)\n",
    "        \n",
    "        # expansion path\n",
    "        up_features = [(1024, 512), (512, 256), (256, 128), (128, 64)]\n",
    "        self.up_sample = nn.ModuleList(\n",
    "            [UpSample(n_in, n_out) for n_in, n_out in up_features]\n",
    "        )\n",
    "        \n",
    "        self.up_conv = nn.ModuleList(\n",
    "            [DoubleConvolution(n_in, n_out) for n_in, n_out in up_features]\n",
    "        )\n",
    "        \n",
    "        # skip connection\n",
    "        self.skip_connection = nn.ModuleList([CropAndConcat() for _ in range(4)])\n",
    "        \n",
    "        # the final convolution in expansion path\n",
    "        self.final_conv = nn.Conv2d(64, out_channels, kernel_size=1)\n",
    "    \n",
    "    def forward(self, x):\n",
    "        residuals = []\n",
    "        \n",
    "        for i in range(len(self.down_conv)):\n",
    "            x = self.down_conv[i](x)\n",
    "            residuals.append(x)\n",
    "            x = self.down_sample[i](x)\n",
    "        \n",
    "        x = self.middle_conv(x)\n",
    "        \n",
    "        for i in range(len(self.up_conv)):\n",
    "            x = self.up_sample[i](x)\n",
    "            x = self.skip_connection[i](x, residuals.pop())\n",
    "            x = self.up_conv[i](x)\n",
    "        \n",
    "        x = self.final_conv(x)"
   ]
  },
  {
   "cell_type": "code",
   "execution_count": 7,
   "id": "46cf158e-91dd-4a73-8515-a6deb4c6ec6e",
   "metadata": {},
   "outputs": [],
   "source": [
    "model = UNet(in_channels=3, out_channels=2)"
   ]
  },
  {
   "cell_type": "code",
   "execution_count": 8,
   "id": "7187c9fd-c0a8-4cad-962a-b119f4e85066",
   "metadata": {},
   "outputs": [
    {
     "data": {
      "text/plain": [
       "UNet(\n",
       "  (down_conv): ModuleList(\n",
       "    (0): DoubleConvolution(\n",
       "      (conv): Sequential(\n",
       "        (0): Conv2d(3, 64, kernel_size=(3, 3), stride=(1, 1), padding=(1, 1))\n",
       "        (1): ReLU()\n",
       "        (2): Conv2d(64, 64, kernel_size=(3, 3), stride=(1, 1), padding=(1, 1))\n",
       "        (3): ReLU()\n",
       "      )\n",
       "    )\n",
       "    (1): DoubleConvolution(\n",
       "      (conv): Sequential(\n",
       "        (0): Conv2d(64, 128, kernel_size=(3, 3), stride=(1, 1), padding=(1, 1))\n",
       "        (1): ReLU()\n",
       "        (2): Conv2d(128, 128, kernel_size=(3, 3), stride=(1, 1), padding=(1, 1))\n",
       "        (3): ReLU()\n",
       "      )\n",
       "    )\n",
       "    (2): DoubleConvolution(\n",
       "      (conv): Sequential(\n",
       "        (0): Conv2d(128, 256, kernel_size=(3, 3), stride=(1, 1), padding=(1, 1))\n",
       "        (1): ReLU()\n",
       "        (2): Conv2d(256, 256, kernel_size=(3, 3), stride=(1, 1), padding=(1, 1))\n",
       "        (3): ReLU()\n",
       "      )\n",
       "    )\n",
       "    (3): DoubleConvolution(\n",
       "      (conv): Sequential(\n",
       "        (0): Conv2d(256, 512, kernel_size=(3, 3), stride=(1, 1), padding=(1, 1))\n",
       "        (1): ReLU()\n",
       "        (2): Conv2d(512, 512, kernel_size=(3, 3), stride=(1, 1), padding=(1, 1))\n",
       "        (3): ReLU()\n",
       "      )\n",
       "    )\n",
       "  )\n",
       "  (down_sample): ModuleList(\n",
       "    (0): DownSample(\n",
       "      (pool): MaxPool2d(kernel_size=2, stride=2, padding=0, dilation=1, ceil_mode=False)\n",
       "    )\n",
       "    (1): DownSample(\n",
       "      (pool): MaxPool2d(kernel_size=2, stride=2, padding=0, dilation=1, ceil_mode=False)\n",
       "    )\n",
       "    (2): DownSample(\n",
       "      (pool): MaxPool2d(kernel_size=2, stride=2, padding=0, dilation=1, ceil_mode=False)\n",
       "    )\n",
       "    (3): DownSample(\n",
       "      (pool): MaxPool2d(kernel_size=2, stride=2, padding=0, dilation=1, ceil_mode=False)\n",
       "    )\n",
       "  )\n",
       "  (middle_conv): DoubleConvolution(\n",
       "    (conv): Sequential(\n",
       "      (0): Conv2d(512, 1024, kernel_size=(3, 3), stride=(1, 1), padding=(1, 1))\n",
       "      (1): ReLU()\n",
       "      (2): Conv2d(1024, 1024, kernel_size=(3, 3), stride=(1, 1), padding=(1, 1))\n",
       "      (3): ReLU()\n",
       "    )\n",
       "  )\n",
       "  (up_sample): ModuleList(\n",
       "    (0): UpSample(\n",
       "      (up): ConvTranspose2d(1024, 512, kernel_size=(2, 2), stride=(2, 2))\n",
       "    )\n",
       "    (1): UpSample(\n",
       "      (up): ConvTranspose2d(512, 256, kernel_size=(2, 2), stride=(2, 2))\n",
       "    )\n",
       "    (2): UpSample(\n",
       "      (up): ConvTranspose2d(256, 128, kernel_size=(2, 2), stride=(2, 2))\n",
       "    )\n",
       "    (3): UpSample(\n",
       "      (up): ConvTranspose2d(128, 64, kernel_size=(2, 2), stride=(2, 2))\n",
       "    )\n",
       "  )\n",
       "  (up_conv): ModuleList(\n",
       "    (0): DoubleConvolution(\n",
       "      (conv): Sequential(\n",
       "        (0): Conv2d(1024, 512, kernel_size=(3, 3), stride=(1, 1), padding=(1, 1))\n",
       "        (1): ReLU()\n",
       "        (2): Conv2d(512, 512, kernel_size=(3, 3), stride=(1, 1), padding=(1, 1))\n",
       "        (3): ReLU()\n",
       "      )\n",
       "    )\n",
       "    (1): DoubleConvolution(\n",
       "      (conv): Sequential(\n",
       "        (0): Conv2d(512, 256, kernel_size=(3, 3), stride=(1, 1), padding=(1, 1))\n",
       "        (1): ReLU()\n",
       "        (2): Conv2d(256, 256, kernel_size=(3, 3), stride=(1, 1), padding=(1, 1))\n",
       "        (3): ReLU()\n",
       "      )\n",
       "    )\n",
       "    (2): DoubleConvolution(\n",
       "      (conv): Sequential(\n",
       "        (0): Conv2d(256, 128, kernel_size=(3, 3), stride=(1, 1), padding=(1, 1))\n",
       "        (1): ReLU()\n",
       "        (2): Conv2d(128, 128, kernel_size=(3, 3), stride=(1, 1), padding=(1, 1))\n",
       "        (3): ReLU()\n",
       "      )\n",
       "    )\n",
       "    (3): DoubleConvolution(\n",
       "      (conv): Sequential(\n",
       "        (0): Conv2d(128, 64, kernel_size=(3, 3), stride=(1, 1), padding=(1, 1))\n",
       "        (1): ReLU()\n",
       "        (2): Conv2d(64, 64, kernel_size=(3, 3), stride=(1, 1), padding=(1, 1))\n",
       "        (3): ReLU()\n",
       "      )\n",
       "    )\n",
       "  )\n",
       "  (skip_connection): ModuleList(\n",
       "    (0): CropAndConcat()\n",
       "    (1): CropAndConcat()\n",
       "    (2): CropAndConcat()\n",
       "    (3): CropAndConcat()\n",
       "  )\n",
       "  (final_conv): Conv2d(64, 2, kernel_size=(1, 1), stride=(1, 1))\n",
       ")"
      ]
     },
     "execution_count": 8,
     "metadata": {},
     "output_type": "execute_result"
    }
   ],
   "source": [
    "model"
   ]
  },
  {
   "cell_type": "code",
   "execution_count": 9,
   "id": "c6d2ee14-0753-4a73-8621-0118d16215af",
   "metadata": {},
   "outputs": [],
   "source": [
    "x = torch.randn((20, 3, 64, 64)).float()"
   ]
  },
  {
   "cell_type": "code",
   "execution_count": 10,
   "id": "081ec6ca-857b-48a0-b644-47280ddb45ce",
   "metadata": {},
   "outputs": [
    {
     "data": {
      "text/plain": [
       "torch.Size([20, 3, 64, 64])"
      ]
     },
     "execution_count": 10,
     "metadata": {},
     "output_type": "execute_result"
    }
   ],
   "source": [
    "x.shape"
   ]
  },
  {
   "cell_type": "code",
   "execution_count": null,
   "id": "31f8a8eb-56d2-4f01-9094-555a6d83ede1",
   "metadata": {},
   "outputs": [],
   "source": [
    "from torchsummary import summary"
   ]
  },
  {
   "cell_type": "code",
   "execution_count": null,
   "id": "0c6b4325-9345-40e3-836a-70e1daab0516",
   "metadata": {},
   "outputs": [],
   "source": [
    "summary(model, (20, 3, 64, 64))"
   ]
  },
  {
   "cell_type": "code",
   "execution_count": null,
   "id": "6d979d9a-5a57-4df6-867e-7a8e06c9a5a7",
   "metadata": {},
   "outputs": [],
   "source": []
  }
 ],
 "metadata": {
  "kernelspec": {
   "display_name": "Python 3 (ipykernel)",
   "language": "python",
   "name": "python3"
  },
  "language_info": {
   "codemirror_mode": {
    "name": "ipython",
    "version": 3
   },
   "file_extension": ".py",
   "mimetype": "text/x-python",
   "name": "python",
   "nbconvert_exporter": "python",
   "pygments_lexer": "ipython3",
   "version": "3.9.13"
  }
 },
 "nbformat": 4,
 "nbformat_minor": 5
}
