{
 "cells": [
  {
   "cell_type": "markdown",
   "id": "473ed10a-6a5e-422d-b926-c8cef0ae8cd6",
   "metadata": {},
   "source": [
    "- Paper: https://youtu.be/oLvmLJkmXuc?t=898\n",
    "- Implement: https://youtu.be/IHq1t7NxS8k?t=338"
   ]
  },
  {
   "cell_type": "code",
   "execution_count": 1,
   "id": "1c8344b7-9b63-4f5c-8380-9bf1ed5f56c3",
   "metadata": {},
   "outputs": [],
   "source": [
    "import torch\n",
    "import torch.nn as nn\n",
    "import torchvision.transforms.functional as TF"
   ]
  },
  {
   "cell_type": "code",
   "execution_count": 2,
   "id": "a6fab17e-cc63-4195-89e2-77392d667e53",
   "metadata": {},
   "outputs": [],
   "source": [
    "class DoubleConv(nn.Module):\n",
    "    def __init__(self, in_channels, out_channels):\n",
    "        super().__init__()\n",
    "        self.model = nn.Sequential(\n",
    "            nn.Conv2d(\n",
    "                in_channels=in_channels, out_channels=out_channels,\n",
    "                kernel_size=3, stride=1, padding=1, bias=False\n",
    "            ),\n",
    "            nn.BatchNorm2d(out_channels),\n",
    "            nn.ReLU(),\n",
    "            nn.Conv2d(\n",
    "                in_channels=out_channels, out_channels=out_channels,\n",
    "                kernel_size=3, stride=1, padding=1, bias=False\n",
    "            ),\n",
    "            nn.BatchNorm2d(out_channels),\n",
    "            nn.ReLU(),\n",
    "        )\n",
    "    \n",
    "    def forward(self, x):\n",
    "        return self.model(x)"
   ]
  },
  {
   "cell_type": "markdown",
   "id": "62e40241-79dc-46c8-9695-613f555f7112",
   "metadata": {},
   "source": [
    "### U-Net"
   ]
  },
  {
   "cell_type": "markdown",
   "id": "856db7bd-4053-4bd0-a9b7-48740a7b6b3e",
   "metadata": {},
   "source": [
    "- `in_channels`: \n",
    "- `out_channels`: =1 for binary image classification"
   ]
  },
  {
   "cell_type": "code",
   "execution_count": null,
   "id": "799174de-f40b-4774-9d50-6bc34cf6b643",
   "metadata": {},
   "outputs": [],
   "source": [
    "class UNet(nn.Module):\n",
    "    def __init__(\n",
    "        self,\n",
    "        in_channels=3, out_channels=1,\n",
    "        features=[64, 128, 256, 512]\n",
    "    ):\n",
    "        super().__init__()\n",
    "        self.downsample = nn.ModuleList()\n",
    "        self.upsample = nn.ModuleList()\n",
    "        self.pool = nn.MaxPool(kernel_size=2, stride=2)\n",
    "        \n",
    "        for feature in features:\n",
    "            self.downsample.append(DoubleConv(in_channels, feature))\n",
    "            in_channels = feature\n",
    "        \n",
    "        for feature in reversed(features):\n",
    "            in_chna"
   ]
  }
 ],
 "metadata": {
  "kernelspec": {
   "display_name": "Python 3 (ipykernel)",
   "language": "python",
   "name": "python3"
  },
  "language_info": {
   "codemirror_mode": {
    "name": "ipython",
    "version": 3
   },
   "file_extension": ".py",
   "mimetype": "text/x-python",
   "name": "python",
   "nbconvert_exporter": "python",
   "pygments_lexer": "ipython3",
   "version": "3.9.13"
  }
 },
 "nbformat": 4,
 "nbformat_minor": 5
}
