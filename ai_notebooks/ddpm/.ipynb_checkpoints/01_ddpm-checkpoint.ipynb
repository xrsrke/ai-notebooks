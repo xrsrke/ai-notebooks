{
 "cells": [
  {
   "cell_type": "markdown",
   "id": "4ff02b6c-deb5-49f9-be19-111c3aa92c0b",
   "metadata": {},
   "source": [
    "### Denoising Diffusion Probabilistic Models (DDPM)"
   ]
  },
  {
   "cell_type": "markdown",
   "id": "29fecf34-72a1-4bed-b850-f0cd0d6d9206",
   "metadata": {},
   "source": [
    "Source: https://nn.labml.ai/diffusion/ddpm/index.html"
   ]
  },
  {
   "cell_type": "code",
   "execution_count": 1,
   "id": "71e337e3-32ca-4b36-b555-ad28edb37f36",
   "metadata": {},
   "outputs": [],
   "source": [
    "from typing import Tuple, Optional"
   ]
  },
  {
   "cell_type": "code",
   "execution_count": 2,
   "id": "ba603af5-dd66-4b65-9399-2feef8d100ff",
   "metadata": {},
   "outputs": [],
   "source": [
    "from typing import Tuple, Optional\n",
    "\n",
    "import torch\n",
    "import torch.nn.functional as F\n",
    "import torch.utils.data\n",
    "from torch import nn\n",
    "\n",
    "from labml_nn.diffusion.ddpm.utils import gather"
   ]
  },
  {
   "cell_type": "code",
   "execution_count": 4,
   "id": "567b45b5-7ce0-4250-b786-5dce80b6d681",
   "metadata": {},
   "outputs": [],
   "source": [
    "class DenoiseDiffusion:\n",
    "    def __init__(self, eps_model: nn.Module, n_steps: int, device: torch.device):\n",
    "        super().__init__()\n",
    "        self.eps_model = eps_model\n",
    "        self.beta = torch.linspace(0.0001, 0.02, n_steps).to(device)"
   ]
  },
  {
   "cell_type": "code",
   "execution_count": null,
   "id": "0cd9d7c8-2bd4-4cde-95be-5c84d2e6465a",
   "metadata": {},
   "outputs": [],
   "source": []
  }
 ],
 "metadata": {
  "kernelspec": {
   "display_name": "Python 3 (ipykernel)",
   "language": "python",
   "name": "python3"
  },
  "language_info": {
   "codemirror_mode": {
    "name": "ipython",
    "version": 3
   },
   "file_extension": ".py",
   "mimetype": "text/x-python",
   "name": "python",
   "nbconvert_exporter": "python",
   "pygments_lexer": "ipython3",
   "version": "3.9.13"
  }
 },
 "nbformat": 4,
 "nbformat_minor": 5
}
