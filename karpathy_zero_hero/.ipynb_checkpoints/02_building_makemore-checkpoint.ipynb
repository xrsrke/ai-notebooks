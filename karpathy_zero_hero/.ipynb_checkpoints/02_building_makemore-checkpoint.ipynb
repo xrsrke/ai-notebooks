{
 "cells": [
  {
   "cell_type": "markdown",
   "id": "8e1dc8e2-03f1-4109-a0b4-8c35da10f502",
   "metadata": {},
   "source": [
    "### Lecture 2: The spelled-out intro to language modeling: building makemore"
   ]
  },
  {
   "cell_type": "code",
   "execution_count": 1,
   "id": "4a291823-f219-4da2-9d31-5f5d5b87def4",
   "metadata": {},
   "outputs": [],
   "source": [
    "import torch"
   ]
  },
  {
   "cell_type": "code",
   "execution_count": 2,
   "id": "5d47113f-f4f9-431d-9702-5e652844d572",
   "metadata": {},
   "outputs": [],
   "source": [
    "g = torch.Generator().manual_seed(2147483647)"
   ]
  },
  {
   "cell_type": "code",
   "execution_count": 4,
   "id": "36a25309-9f7e-4088-b375-1d8bf067a41c",
   "metadata": {},
   "outputs": [],
   "source": [
    "p = torch.rand(3, generator=g)"
   ]
  },
  {
   "cell_type": "code",
   "execution_count": 7,
   "id": "f2d9db76-78a4-49a2-ab4d-e9332a560164",
   "metadata": {},
   "outputs": [
    {
     "data": {
      "text/plain": [
       "tensor([0.7081, 0.3542, 0.1054])"
      ]
     },
     "execution_count": 7,
     "metadata": {},
     "output_type": "execute_result"
    }
   ],
   "source": [
    "p"
   ]
  },
  {
   "cell_type": "code",
   "execution_count": 8,
   "id": "150e3060-2e41-4dab-bc43-1b35ff2a08f2",
   "metadata": {},
   "outputs": [
    {
     "data": {
      "text/plain": [
       "tensor(1.1678)"
      ]
     },
     "execution_count": 8,
     "metadata": {},
     "output_type": "execute_result"
    }
   ],
   "source": [
    "p.sum()"
   ]
  },
  {
   "cell_type": "code",
   "execution_count": 9,
   "id": "20c4b7ca-a272-4fec-ba48-64d3ddc5349b",
   "metadata": {},
   "outputs": [],
   "source": [
    "p = p / p.sum()"
   ]
  },
  {
   "cell_type": "code",
   "execution_count": 10,
   "id": "f795110d-2b7f-42bd-b235-a4de06600ee6",
   "metadata": {},
   "outputs": [
    {
     "data": {
      "text/plain": [
       "tensor([0.6064, 0.3033, 0.0903])"
      ]
     },
     "execution_count": 10,
     "metadata": {},
     "output_type": "execute_result"
    }
   ],
   "source": [
    "p"
   ]
  },
  {
   "cell_type": "code",
   "execution_count": 11,
   "id": "2380c65f-0b49-48d5-be40-16d5f8098f3b",
   "metadata": {},
   "outputs": [
    {
     "data": {
      "text/plain": [
       "tensor([1, 1, 2, 0, 0, 2, 1, 1, 0, 0, 0, 1, 1, 0, 0, 1, 1, 0, 0, 1])"
      ]
     },
     "execution_count": 11,
     "metadata": {},
     "output_type": "execute_result"
    }
   ],
   "source": [
    "torch.multinomial(p, num_samples=20, replacement=True, generator=g)"
   ]
  },
  {
   "cell_type": "markdown",
   "id": "644c8612-8f42-4a43-b4c3-e1f5728e352e",
   "metadata": {},
   "source": [
    "https://youtu.be/PaCmpygFfXo?t=1809"
   ]
  },
  {
   "cell_type": "code",
   "execution_count": null,
   "id": "afe8d8d1-5164-4b8b-abfc-fed94e223356",
   "metadata": {},
   "outputs": [],
   "source": []
  }
 ],
 "metadata": {
  "kernelspec": {
   "display_name": "Python 3 (ipykernel)",
   "language": "python",
   "name": "python3"
  },
  "language_info": {
   "codemirror_mode": {
    "name": "ipython",
    "version": 3
   },
   "file_extension": ".py",
   "mimetype": "text/x-python",
   "name": "python",
   "nbconvert_exporter": "python",
   "pygments_lexer": "ipython3",
   "version": "3.9.13"
  }
 },
 "nbformat": 4,
 "nbformat_minor": 5
}
