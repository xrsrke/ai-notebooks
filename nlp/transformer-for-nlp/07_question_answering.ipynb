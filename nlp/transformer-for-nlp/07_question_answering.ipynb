{
 "cells": [
  {
   "cell_type": "markdown",
   "id": "8200d733-2dd2-44fe-8eee-494a4b6438ab",
   "metadata": {},
   "source": [
    "# 1. Building a Review-Based QA System"
   ]
  },
  {
   "cell_type": "code",
   "execution_count": 57,
   "id": "9e1fd837-c879-4922-a764-241d93c67980",
   "metadata": {},
   "outputs": [],
   "source": [
    "from datasets import get_dataset_config_names"
   ]
  },
  {
   "cell_type": "code",
   "execution_count": 2,
   "id": "3876528a-ecfa-411d-965b-15532bbdd8df",
   "metadata": {},
   "outputs": [
    {
     "data": {
      "application/vnd.jupyter.widget-view+json": {
       "model_id": "e44e685ff2064d7b9fae33d9e3742ec3",
       "version_major": 2,
       "version_minor": 0
      },
      "text/plain": [
       "Downloading builder script:   0%|          | 0.00/2.65k [00:00<?, ?B/s]"
      ]
     },
     "metadata": {},
     "output_type": "display_data"
    },
    {
     "data": {
      "application/vnd.jupyter.widget-view+json": {
       "model_id": "e0438475d7e9421e92247577a59d4dd0",
       "version_major": 2,
       "version_minor": 0
      },
      "text/plain": [
       "Downloading metadata:   0%|          | 0.00/1.46k [00:00<?, ?B/s]"
      ]
     },
     "metadata": {},
     "output_type": "display_data"
    }
   ],
   "source": [
    "domain = get_dataset_config_names(\"subjqa\")"
   ]
  },
  {
   "cell_type": "code",
   "execution_count": 4,
   "id": "3d693220-bc76-4219-8713-9e7958d7740e",
   "metadata": {},
   "outputs": [
    {
     "data": {
      "text/plain": [
       "['books', 'electronics', 'grocery', 'movies', 'restaurants', 'tripadvisor']"
      ]
     },
     "execution_count": 4,
     "metadata": {},
     "output_type": "execute_result"
    }
   ],
   "source": [
    "domain"
   ]
  },
  {
   "cell_type": "code",
   "execution_count": 5,
   "id": "928f2a29-6aba-43ae-a11d-ac2823898edf",
   "metadata": {},
   "outputs": [],
   "source": [
    "from datasets import load_dataset"
   ]
  },
  {
   "cell_type": "code",
   "execution_count": 6,
   "id": "c3864fef-a4c1-480c-8c81-1dfbfc8a3004",
   "metadata": {},
   "outputs": [
    {
     "name": "stdout",
     "output_type": "stream",
     "text": [
      "Downloading and preparing dataset subjqa/electronics (download: 10.86 MiB, generated: 3.01 MiB, post-processed: Unknown size, total: 13.86 MiB) to /root/.cache/huggingface/datasets/subjqa/electronics/1.1.0/e5588f9298ff2d70686a00cc377e4bdccf4e32287459e3c6baf2dc5ab57fe7fd...\n"
     ]
    },
    {
     "data": {
      "application/vnd.jupyter.widget-view+json": {
       "model_id": "f30ba1b7fba44186bbaae16f921e1ba3",
       "version_major": 2,
       "version_minor": 0
      },
      "text/plain": [
       "Downloading data: 0.00B [00:00, ?B/s]"
      ]
     },
     "metadata": {},
     "output_type": "display_data"
    },
    {
     "data": {
      "application/vnd.jupyter.widget-view+json": {
       "model_id": "",
       "version_major": 2,
       "version_minor": 0
      },
      "text/plain": [
       "Generating train split:   0%|          | 0/1295 [00:00<?, ? examples/s]"
      ]
     },
     "metadata": {},
     "output_type": "display_data"
    },
    {
     "data": {
      "application/vnd.jupyter.widget-view+json": {
       "model_id": "",
       "version_major": 2,
       "version_minor": 0
      },
      "text/plain": [
       "Generating test split:   0%|          | 0/358 [00:00<?, ? examples/s]"
      ]
     },
     "metadata": {},
     "output_type": "display_data"
    },
    {
     "data": {
      "application/vnd.jupyter.widget-view+json": {
       "model_id": "",
       "version_major": 2,
       "version_minor": 0
      },
      "text/plain": [
       "Generating validation split:   0%|          | 0/255 [00:00<?, ? examples/s]"
      ]
     },
     "metadata": {},
     "output_type": "display_data"
    },
    {
     "name": "stdout",
     "output_type": "stream",
     "text": [
      "Dataset subjqa downloaded and prepared to /root/.cache/huggingface/datasets/subjqa/electronics/1.1.0/e5588f9298ff2d70686a00cc377e4bdccf4e32287459e3c6baf2dc5ab57fe7fd. Subsequent calls will reuse this data.\n"
     ]
    },
    {
     "data": {
      "application/vnd.jupyter.widget-view+json": {
       "model_id": "26f5ac8df5dc492899f2fa2188fbf07b",
       "version_major": 2,
       "version_minor": 0
      },
      "text/plain": [
       "  0%|          | 0/3 [00:00<?, ?it/s]"
      ]
     },
     "metadata": {},
     "output_type": "display_data"
    }
   ],
   "source": [
    "subjqa = load_dataset(\"subjqa\", name=\"electronics\")"
   ]
  },
  {
   "cell_type": "code",
   "execution_count": 12,
   "id": "2d7701b6-e24a-43e2-bc95-a268cad0f2b9",
   "metadata": {},
   "outputs": [
    {
     "data": {
      "text/plain": [
       "{'text': ['Bass is weak as expected',\n",
       "  'Bass is weak as expected, even with EQ adjusted up'],\n",
       " 'answer_start': [1302, 1302],\n",
       " 'answer_subj_level': [1, 1],\n",
       " 'ans_subj_score': [0.5083333253860474, 0.5083333253860474],\n",
       " 'is_ans_subjective': [True, True]}"
      ]
     },
     "execution_count": 12,
     "metadata": {},
     "output_type": "execute_result"
    }
   ],
   "source": [
    "subjqa[\"train\"][\"answers\"][1]"
   ]
  },
  {
   "cell_type": "code",
   "execution_count": 13,
   "id": "a138d9ab-6b24-4af3-bb51-fa69dff148f5",
   "metadata": {},
   "outputs": [],
   "source": [
    "import pandas as pd"
   ]
  },
  {
   "cell_type": "code",
   "execution_count": 28,
   "id": "742ab2c8-0a57-4ce6-a52f-5d1f5fbacce4",
   "metadata": {},
   "outputs": [
    {
     "data": {
      "text/plain": [
       "dict_items([('train', Dataset({\n",
       "    features: ['domain', 'nn_mod', 'nn_asp', 'query_mod', 'query_asp', 'q_reviews_id', 'question_subj_level', 'ques_subj_score', 'is_ques_subjective', 'review_id', 'id', 'title', 'context', 'question', 'answers'],\n",
       "    num_rows: 1295\n",
       "})), ('test', Dataset({\n",
       "    features: ['domain', 'nn_mod', 'nn_asp', 'query_mod', 'query_asp', 'q_reviews_id', 'question_subj_level', 'ques_subj_score', 'is_ques_subjective', 'review_id', 'id', 'title', 'context', 'question', 'answers'],\n",
       "    num_rows: 358\n",
       "})), ('validation', Dataset({\n",
       "    features: ['domain', 'nn_mod', 'nn_asp', 'query_mod', 'query_asp', 'q_reviews_id', 'question_subj_level', 'ques_subj_score', 'is_ques_subjective', 'review_id', 'id', 'title', 'context', 'question', 'answers'],\n",
       "    num_rows: 255\n",
       "}))])"
      ]
     },
     "execution_count": 28,
     "metadata": {},
     "output_type": "execute_result"
    }
   ],
   "source": [
    "subjqa.items()"
   ]
  },
  {
   "cell_type": "code",
   "execution_count": 30,
   "id": "344d4680-9b0a-49ee-8dda-4e71296c2780",
   "metadata": {},
   "outputs": [
    {
     "data": {
      "text/plain": [
       "dict_items([('train', Dataset({\n",
       "    features: ['domain', 'nn_mod', 'nn_asp', 'query_mod', 'query_asp', 'q_reviews_id', 'question_subj_level', 'ques_subj_score', 'is_ques_subjective', 'review_id', 'id', 'title', 'context', 'question', 'answers.text', 'answers.answer_start', 'answers.answer_subj_level', 'answers.ans_subj_score', 'answers.is_ans_subjective'],\n",
       "    num_rows: 1295\n",
       "})), ('test', Dataset({\n",
       "    features: ['domain', 'nn_mod', 'nn_asp', 'query_mod', 'query_asp', 'q_reviews_id', 'question_subj_level', 'ques_subj_score', 'is_ques_subjective', 'review_id', 'id', 'title', 'context', 'question', 'answers.text', 'answers.answer_start', 'answers.answer_subj_level', 'answers.ans_subj_score', 'answers.is_ans_subjective'],\n",
       "    num_rows: 358\n",
       "})), ('validation', Dataset({\n",
       "    features: ['domain', 'nn_mod', 'nn_asp', 'query_mod', 'query_asp', 'q_reviews_id', 'question_subj_level', 'ques_subj_score', 'is_ques_subjective', 'review_id', 'id', 'title', 'context', 'question', 'answers.text', 'answers.answer_start', 'answers.answer_subj_level', 'answers.ans_subj_score', 'answers.is_ans_subjective'],\n",
       "    num_rows: 255\n",
       "}))])"
      ]
     },
     "execution_count": 30,
     "metadata": {},
     "output_type": "execute_result"
    }
   ],
   "source": [
    "subjqa.flatten().items()"
   ]
  },
  {
   "cell_type": "code",
   "execution_count": 18,
   "id": "85e36cd3-1543-4104-842d-11e8c6c7af52",
   "metadata": {},
   "outputs": [],
   "source": [
    "dset_flatten = subjqa.flatten().items()"
   ]
  },
  {
   "cell_type": "code",
   "execution_count": 19,
   "id": "67ca5222-1a74-4a1d-bd4f-34a2353078a5",
   "metadata": {},
   "outputs": [],
   "source": [
    "dfs = {split: dset.to_pandas() for split, dset in dset_flatten}"
   ]
  },
  {
   "cell_type": "code",
   "execution_count": 24,
   "id": "65913b94-a0cb-452d-b5ae-0fee6dac5ca3",
   "metadata": {},
   "outputs": [
    {
     "data": {
      "text/html": [
       "<div>\n",
       "<style scoped>\n",
       "    .dataframe tbody tr th:only-of-type {\n",
       "        vertical-align: middle;\n",
       "    }\n",
       "\n",
       "    .dataframe tbody tr th {\n",
       "        vertical-align: top;\n",
       "    }\n",
       "\n",
       "    .dataframe thead th {\n",
       "        text-align: right;\n",
       "    }\n",
       "</style>\n",
       "<table border=\"1\" class=\"dataframe\">\n",
       "  <thead>\n",
       "    <tr style=\"text-align: right;\">\n",
       "      <th></th>\n",
       "      <th>domain</th>\n",
       "      <th>nn_mod</th>\n",
       "      <th>nn_asp</th>\n",
       "      <th>query_mod</th>\n",
       "      <th>query_asp</th>\n",
       "      <th>q_reviews_id</th>\n",
       "      <th>question_subj_level</th>\n",
       "      <th>ques_subj_score</th>\n",
       "      <th>is_ques_subjective</th>\n",
       "      <th>review_id</th>\n",
       "      <th>id</th>\n",
       "      <th>title</th>\n",
       "      <th>context</th>\n",
       "      <th>question</th>\n",
       "      <th>answers.text</th>\n",
       "      <th>answers.answer_start</th>\n",
       "      <th>answers.answer_subj_level</th>\n",
       "      <th>answers.ans_subj_score</th>\n",
       "      <th>answers.is_ans_subjective</th>\n",
       "    </tr>\n",
       "  </thead>\n",
       "  <tbody>\n",
       "    <tr>\n",
       "      <th>0</th>\n",
       "      <td>electronics</td>\n",
       "      <td>great</td>\n",
       "      <td>bass response</td>\n",
       "      <td>excellent</td>\n",
       "      <td>bass</td>\n",
       "      <td>0514ee34b672623dff659334a25b599b</td>\n",
       "      <td>5</td>\n",
       "      <td>0.50</td>\n",
       "      <td>False</td>\n",
       "      <td>882b1e2745a4779c8f17b3d4406b91c7</td>\n",
       "      <td>2543d296da9766d8d17d040ecc781699</td>\n",
       "      <td>B00001P4ZH</td>\n",
       "      <td>I have had Koss headphones in the past, Pro 4A...</td>\n",
       "      <td>How is the bass?</td>\n",
       "      <td>[]</td>\n",
       "      <td>[]</td>\n",
       "      <td>[]</td>\n",
       "      <td>[]</td>\n",
       "      <td>[]</td>\n",
       "    </tr>\n",
       "    <tr>\n",
       "      <th>1</th>\n",
       "      <td>electronics</td>\n",
       "      <td>harsh</td>\n",
       "      <td>high</td>\n",
       "      <td>not strong</td>\n",
       "      <td>bass</td>\n",
       "      <td>7c46670208f7bf5497480fbdbb44561a</td>\n",
       "      <td>1</td>\n",
       "      <td>0.50</td>\n",
       "      <td>False</td>\n",
       "      <td>ce76793f036494eabe07b33a9a67288a</td>\n",
       "      <td>d476830bf9282e2b9033e2bb44bbb995</td>\n",
       "      <td>B00001P4ZH</td>\n",
       "      <td>To anyone who hasn't tried all the various typ...</td>\n",
       "      <td>Is this music song have a goo bass?</td>\n",
       "      <td>[Bass is weak as expected, Bass is weak as exp...</td>\n",
       "      <td>[1302, 1302]</td>\n",
       "      <td>[1, 1]</td>\n",
       "      <td>[0.5083333, 0.5083333]</td>\n",
       "      <td>[True, True]</td>\n",
       "    </tr>\n",
       "    <tr>\n",
       "      <th>2</th>\n",
       "      <td>electronics</td>\n",
       "      <td>neutral</td>\n",
       "      <td>sound</td>\n",
       "      <td>present</td>\n",
       "      <td>bass</td>\n",
       "      <td>8fbf26792c438aa83178c2d507af5d77</td>\n",
       "      <td>1</td>\n",
       "      <td>0.50</td>\n",
       "      <td>False</td>\n",
       "      <td>d040f2713caa2aff0ce95affb40e12c2</td>\n",
       "      <td>455575557886d6dfeea5aa19577e5de4</td>\n",
       "      <td>B00001P4ZH</td>\n",
       "      <td>I have had many sub-$100 headphones from $5 Pa...</td>\n",
       "      <td>How is the bass?</td>\n",
       "      <td>[The only fault in the sound is the bass]</td>\n",
       "      <td>[650]</td>\n",
       "      <td>[2]</td>\n",
       "      <td>[0.6333333]</td>\n",
       "      <td>[True]</td>\n",
       "    </tr>\n",
       "    <tr>\n",
       "      <th>3</th>\n",
       "      <td>electronics</td>\n",
       "      <td>muddy</td>\n",
       "      <td>bass</td>\n",
       "      <td>awesome</td>\n",
       "      <td>bass</td>\n",
       "      <td>9876fd06ed8f075fcad70d1e30e7e8be</td>\n",
       "      <td>1</td>\n",
       "      <td>0.50</td>\n",
       "      <td>False</td>\n",
       "      <td>043e7162df91f6ea916c790c8a6f6b22</td>\n",
       "      <td>6895a59b470d8feee0f39da6c53a92e5</td>\n",
       "      <td>B00001WRSJ</td>\n",
       "      <td>My sister's Bose headphones finally died and s...</td>\n",
       "      <td>How is the audio bass?</td>\n",
       "      <td>[the best of all of them]</td>\n",
       "      <td>[1609]</td>\n",
       "      <td>[1]</td>\n",
       "      <td>[0.3]</td>\n",
       "      <td>[False]</td>\n",
       "    </tr>\n",
       "    <tr>\n",
       "      <th>4</th>\n",
       "      <td>electronics</td>\n",
       "      <td>perfect</td>\n",
       "      <td>bass</td>\n",
       "      <td>incredible</td>\n",
       "      <td>sound</td>\n",
       "      <td>16506b53e2d4c2b6a65881d9462256c2</td>\n",
       "      <td>1</td>\n",
       "      <td>0.65</td>\n",
       "      <td>True</td>\n",
       "      <td>29ccd7e690050e2951be49289e915382</td>\n",
       "      <td>7a2173c502da97c5bd5950eae7cd7430</td>\n",
       "      <td>B00001WRSJ</td>\n",
       "      <td>Wow. Just wow. I'm a 22 yr old with a crazy ob...</td>\n",
       "      <td>Why do I have an incredible sound?</td>\n",
       "      <td>[The sound is so crisp, crazy obsession with s...</td>\n",
       "      <td>[141, 38]</td>\n",
       "      <td>[1, 1]</td>\n",
       "      <td>[0.40833333, 0.40833333]</td>\n",
       "      <td>[False, False]</td>\n",
       "    </tr>\n",
       "    <tr>\n",
       "      <th>...</th>\n",
       "      <td>...</td>\n",
       "      <td>...</td>\n",
       "      <td>...</td>\n",
       "      <td>...</td>\n",
       "      <td>...</td>\n",
       "      <td>...</td>\n",
       "      <td>...</td>\n",
       "      <td>...</td>\n",
       "      <td>...</td>\n",
       "      <td>...</td>\n",
       "      <td>...</td>\n",
       "      <td>...</td>\n",
       "      <td>...</td>\n",
       "      <td>...</td>\n",
       "      <td>...</td>\n",
       "      <td>...</td>\n",
       "      <td>...</td>\n",
       "      <td>...</td>\n",
       "      <td>...</td>\n",
       "    </tr>\n",
       "    <tr>\n",
       "      <th>1290</th>\n",
       "      <td>electronics</td>\n",
       "      <td>great</td>\n",
       "      <td>impression</td>\n",
       "      <td>rubbery</td>\n",
       "      <td>feel</td>\n",
       "      <td>d4409d6272a7d1d5aa287d6e164bb7d0</td>\n",
       "      <td>1</td>\n",
       "      <td>0.00</td>\n",
       "      <td>False</td>\n",
       "      <td>ebaaec25661c0b21f3e5600a1ed7e30b</td>\n",
       "      <td>e0ea72e711324b5482ec1b36a48f16ee</td>\n",
       "      <td>B00H3OYSHW</td>\n",
       "      <td>I ordered my new NewTrend Airbender Pro NT610K...</td>\n",
       "      <td>Where can I feel my device?</td>\n",
       "      <td>[]</td>\n",
       "      <td>[]</td>\n",
       "      <td>[]</td>\n",
       "      <td>[]</td>\n",
       "      <td>[]</td>\n",
       "    </tr>\n",
       "    <tr>\n",
       "      <th>1291</th>\n",
       "      <td>electronics</td>\n",
       "      <td>tight</td>\n",
       "      <td>case</td>\n",
       "      <td>great</td>\n",
       "      <td>protection</td>\n",
       "      <td>ed6533390fe2fe0d546b69dea570c34b</td>\n",
       "      <td>5</td>\n",
       "      <td>0.00</td>\n",
       "      <td>False</td>\n",
       "      <td>ebaaec25661c0b21f3e5600a1ed7e30b</td>\n",
       "      <td>ee5906ed3306b7c6d219a40adae2c7c2</td>\n",
       "      <td>B00H3OYSHW</td>\n",
       "      <td>I ordered my new NewTrend Airbender Pro NT610K...</td>\n",
       "      <td>How does the selector protection  me?</td>\n",
       "      <td>[]</td>\n",
       "      <td>[]</td>\n",
       "      <td>[]</td>\n",
       "      <td>[]</td>\n",
       "      <td>[]</td>\n",
       "    </tr>\n",
       "    <tr>\n",
       "      <th>1292</th>\n",
       "      <td>electronics</td>\n",
       "      <td>good</td>\n",
       "      <td>texture</td>\n",
       "      <td>good</td>\n",
       "      <td>grip</td>\n",
       "      <td>22b23446daf9d5bc0140be7278b220ee</td>\n",
       "      <td>1</td>\n",
       "      <td>0.00</td>\n",
       "      <td>False</td>\n",
       "      <td>84efbd9643d7f43af0ea0d2468c7dcc9</td>\n",
       "      <td>a541ffd9697ebf0ad9d226428594128e</td>\n",
       "      <td>B00HNGB1YS</td>\n",
       "      <td>After using this case for a few days, I have g...</td>\n",
       "      <td>How is the grip?</td>\n",
       "      <td>[]</td>\n",
       "      <td>[]</td>\n",
       "      <td>[]</td>\n",
       "      <td>[]</td>\n",
       "      <td>[]</td>\n",
       "    </tr>\n",
       "    <tr>\n",
       "      <th>1293</th>\n",
       "      <td>electronics</td>\n",
       "      <td>easy to use</td>\n",
       "      <td>keyboard</td>\n",
       "      <td>removable</td>\n",
       "      <td>keyboard</td>\n",
       "      <td>e7967ad5be0658b4acfca1118f6af1ab</td>\n",
       "      <td>1</td>\n",
       "      <td>0.00</td>\n",
       "      <td>False</td>\n",
       "      <td>e856d7e5351e3385b5d75f06562e905b</td>\n",
       "      <td>7efc5e7ffaa79f53cc50f76a44f9f88e</td>\n",
       "      <td>B00HPM1G8Q</td>\n",
       "      <td>Edit 4/21/14. I finally caved and purchased a ...</td>\n",
       "      <td>How is the keyboard?</td>\n",
       "      <td>[the keyboard is very easy to use, the keyboar...</td>\n",
       "      <td>[258, 258]</td>\n",
       "      <td>[1, 1]</td>\n",
       "      <td>[1.0, 1.0]</td>\n",
       "      <td>[True, True]</td>\n",
       "    </tr>\n",
       "    <tr>\n",
       "      <th>1294</th>\n",
       "      <td>electronics</td>\n",
       "      <td>easy to use</td>\n",
       "      <td>keyboard</td>\n",
       "      <td>removable</td>\n",
       "      <td>keyboard</td>\n",
       "      <td>e7967ad5be0658b4acfca1118f6af1ab</td>\n",
       "      <td>1</td>\n",
       "      <td>0.00</td>\n",
       "      <td>False</td>\n",
       "      <td>57fa25acee9914487510f4a8ee37bca6</td>\n",
       "      <td>4bfdd55cb76def0cbae0e0df5e7a14b6</td>\n",
       "      <td>B00HPM1G8Q</td>\n",
       "      <td>The Belkin QODE Portable Bluetooth Keyboard Ca...</td>\n",
       "      <td>How is the keyboard?</td>\n",
       "      <td>[is easy to use and works great]</td>\n",
       "      <td>[541]</td>\n",
       "      <td>[1]</td>\n",
       "      <td>[0.7916667]</td>\n",
       "      <td>[True]</td>\n",
       "    </tr>\n",
       "  </tbody>\n",
       "</table>\n",
       "<p>1295 rows × 19 columns</p>\n",
       "</div>"
      ],
      "text/plain": [
       "           domain  ... answers.is_ans_subjective\n",
       "0     electronics  ...                        []\n",
       "1     electronics  ...              [True, True]\n",
       "2     electronics  ...                    [True]\n",
       "3     electronics  ...                   [False]\n",
       "4     electronics  ...            [False, False]\n",
       "...           ...  ...                       ...\n",
       "1290  electronics  ...                        []\n",
       "1291  electronics  ...                        []\n",
       "1292  electronics  ...                        []\n",
       "1293  electronics  ...              [True, True]\n",
       "1294  electronics  ...                    [True]\n",
       "\n",
       "[1295 rows x 19 columns]"
      ]
     },
     "execution_count": 24,
     "metadata": {},
     "output_type": "execute_result"
    }
   ],
   "source": [
    "dfs"
   ]
  },
  {
   "cell_type": "code",
   "execution_count": 22,
   "id": "984a8943-3b6d-49e8-9f94-4e59040894f1",
   "metadata": {},
   "outputs": [
    {
     "name": "stdout",
     "output_type": "stream",
     "text": [
      "number of qs in train: 1295\n",
      "number of qs in test: 358\n",
      "number of qs in validation: 255\n"
     ]
    }
   ],
   "source": [
    "for split, df in dfs.items():\n",
    "    print(f\"number of qs in {split}: {df['id'].nunique()}\")"
   ]
  },
  {
   "cell_type": "code",
   "execution_count": 23,
   "id": "04bd0f4e-9b2a-4a27-a57c-73eff3e2dda3",
   "metadata": {},
   "outputs": [],
   "source": [
    "qa_cols = [\"title\", \"question\",\n",
    "           \"answers.text\", \"answers.answer_start\",\n",
    "           \"context\"]"
   ]
  },
  {
   "cell_type": "markdown",
   "id": "9e30a924-e350-46c0-8e06-1b0f24c35bc4",
   "metadata": {},
   "source": [
    "### 1.2 Extracting Answers from Text"
   ]
  },
  {
   "cell_type": "code",
   "execution_count": 31,
   "id": "9fa98106-bb49-4f27-9c9a-0721c1731224",
   "metadata": {},
   "outputs": [],
   "source": [
    "from transformers import AutoTokenizer"
   ]
  },
  {
   "cell_type": "code",
   "execution_count": 32,
   "id": "661440e0-374c-4197-9b35-1abc7928d8b5",
   "metadata": {},
   "outputs": [],
   "source": [
    "model_ckpt = \"deepset/minilm-uncased-squad2\""
   ]
  },
  {
   "cell_type": "code",
   "execution_count": 33,
   "id": "06496aa6-b1ab-4d46-9ebb-758ebdaa7a3b",
   "metadata": {},
   "outputs": [
    {
     "data": {
      "application/vnd.jupyter.widget-view+json": {
       "model_id": "aea72b44975f4266985dcfad15f97d6f",
       "version_major": 2,
       "version_minor": 0
      },
      "text/plain": [
       "Downloading:   0%|          | 0.00/107 [00:00<?, ?B/s]"
      ]
     },
     "metadata": {},
     "output_type": "display_data"
    },
    {
     "data": {
      "application/vnd.jupyter.widget-view+json": {
       "model_id": "a976ea8dc6ae4ef2a4ffe605be707655",
       "version_major": 2,
       "version_minor": 0
      },
      "text/plain": [
       "Downloading:   0%|          | 0.00/477 [00:00<?, ?B/s]"
      ]
     },
     "metadata": {},
     "output_type": "display_data"
    },
    {
     "data": {
      "application/vnd.jupyter.widget-view+json": {
       "model_id": "3b7e3954ae3c4a8896c38a7495c5407f",
       "version_major": 2,
       "version_minor": 0
      },
      "text/plain": [
       "Downloading:   0%|          | 0.00/226k [00:00<?, ?B/s]"
      ]
     },
     "metadata": {},
     "output_type": "display_data"
    },
    {
     "data": {
      "application/vnd.jupyter.widget-view+json": {
       "model_id": "a7560afa9bf54c2c9e5b807659b1d4db",
       "version_major": 2,
       "version_minor": 0
      },
      "text/plain": [
       "Downloading:   0%|          | 0.00/112 [00:00<?, ?B/s]"
      ]
     },
     "metadata": {},
     "output_type": "display_data"
    }
   ],
   "source": [
    "tokenizer = AutoTokenizer.from_pretrained(model_ckpt)"
   ]
  },
  {
   "cell_type": "code",
   "execution_count": 73,
   "id": "3aa36c65-7886-4030-aa0c-953f3433ce38",
   "metadata": {},
   "outputs": [],
   "source": [
    "inputs = tokenizer(\n",
    "    text = \"how much music can this hold?\",\n",
    "    text_pair = \"an mp3 is about 1mb/minute, about 6000 hours\",\n",
    "    return_tensors=\"pt\"\n",
    ")"
   ]
  },
  {
   "cell_type": "code",
   "execution_count": 74,
   "id": "8fcbc8f4-9934-4b84-a0e5-5e64ba693394",
   "metadata": {},
   "outputs": [
    {
     "data": {
      "text/plain": [
       "{'input_ids': tensor([[  101,  2129,  2172,  2189,  2064,  2023,  2907,  1029,   102,  2019,\n",
       "         23378,  2003,  2055,  1015, 14905,  1013,  3371,  1010,  2055, 25961,\n",
       "          2847,   102]]), 'token_type_ids': tensor([[0, 0, 0, 0, 0, 0, 0, 0, 0, 1, 1, 1, 1, 1, 1, 1, 1, 1, 1, 1, 1, 1]]), 'attention_mask': tensor([[1, 1, 1, 1, 1, 1, 1, 1, 1, 1, 1, 1, 1, 1, 1, 1, 1, 1, 1, 1, 1, 1]])}"
      ]
     },
     "execution_count": 74,
     "metadata": {},
     "output_type": "execute_result"
    }
   ],
   "source": [
    "inputs"
   ]
  },
  {
   "cell_type": "code",
   "execution_count": 48,
   "id": "a2ae0715-dec4-414a-af93-9bd12fec46ad",
   "metadata": {},
   "outputs": [
    {
     "data": {
      "text/plain": [
       "torch.Size([1, 22])"
      ]
     },
     "execution_count": 48,
     "metadata": {},
     "output_type": "execute_result"
    }
   ],
   "source": [
    "inputs.input_ids.shape"
   ]
  },
  {
   "cell_type": "code",
   "execution_count": 49,
   "id": "6252d041-842d-4dd3-87f7-8d45b0dcef10",
   "metadata": {},
   "outputs": [
    {
     "data": {
      "text/plain": [
       "'[CLS] how much music can this hold? [SEP] an mp3 is about 1mb / minute, about 6000 hours [SEP]'"
      ]
     },
     "execution_count": 49,
     "metadata": {},
     "output_type": "execute_result"
    }
   ],
   "source": [
    "tokenizer.decode(inputs[\"input_ids\"][0])"
   ]
  },
  {
   "cell_type": "code",
   "execution_count": 51,
   "id": "2abb8cc6-4546-4fa6-b5c8-c2c130fc3fd9",
   "metadata": {},
   "outputs": [],
   "source": [
    "import torch\n",
    "from transformers import AutoModelForQuestionAnswering"
   ]
  },
  {
   "cell_type": "code",
   "execution_count": 52,
   "id": "69343e38-6e63-4f87-9391-f5453b52d903",
   "metadata": {},
   "outputs": [
    {
     "data": {
      "text/plain": [
       "'deepset/minilm-uncased-squad2'"
      ]
     },
     "execution_count": 52,
     "metadata": {},
     "output_type": "execute_result"
    }
   ],
   "source": [
    "model_ckpt"
   ]
  },
  {
   "cell_type": "code",
   "execution_count": 53,
   "id": "b3e43fff-8b16-497c-a9c2-d2bd52385bf3",
   "metadata": {},
   "outputs": [
    {
     "data": {
      "application/vnd.jupyter.widget-view+json": {
       "model_id": "190c47bf0ddc411c817c7a350999d33b",
       "version_major": 2,
       "version_minor": 0
      },
      "text/plain": [
       "Downloading:   0%|          | 0.00/127M [00:00<?, ?B/s]"
      ]
     },
     "metadata": {},
     "output_type": "display_data"
    }
   ],
   "source": [
    "model = AutoModelForQuestionAnswering.from_pretrained(model_ckpt)"
   ]
  },
  {
   "cell_type": "code",
   "execution_count": 54,
   "id": "64a07945-9962-44af-8a0c-af6ebddca70c",
   "metadata": {},
   "outputs": [],
   "source": [
    "with torch.no_grad():\n",
    "    outputs = model(**inputs)"
   ]
  },
  {
   "cell_type": "code",
   "execution_count": 55,
   "id": "b2595e02-3957-4b15-ab8a-5bd7394a9f99",
   "metadata": {},
   "outputs": [
    {
     "data": {
      "text/plain": [
       "QuestionAnsweringModelOutput(loss=None, start_logits=tensor([[-1.2935, -4.7204, -5.3716, -5.2326, -5.2625, -5.3654, -4.9590, -6.0611,\n",
       "         -1.2935, -0.2044, -0.1700, -1.9096,  4.1928,  5.7759, -2.2901, -3.7464,\n",
       "         -1.2213, -3.4085,  2.6456,  3.3822, -0.8894, -1.2935]]), end_logits=tensor([[-1.2809, -5.4610, -5.0965, -5.2911, -5.5386, -5.4595, -5.3126, -4.6202,\n",
       "         -1.2809, -3.4540, -0.8159, -3.7237, -2.7964, -1.0135,  1.1267, -2.5709,\n",
       "          5.6335,  0.0113, -3.9191,  0.5685,  5.2458, -1.2809]]), hidden_states=None, attentions=None)"
      ]
     },
     "execution_count": 55,
     "metadata": {},
     "output_type": "execute_result"
    }
   ],
   "source": [
    "outputs"
   ]
  },
  {
   "cell_type": "code",
   "execution_count": 67,
   "id": "e0839538-0611-4afd-9ae0-b93610cd65d4",
   "metadata": {},
   "outputs": [
    {
     "data": {
      "text/plain": [
       "tensor([[-1.2935, -4.7204, -5.3716, -5.2326, -5.2625, -5.3654, -4.9590, -6.0611,\n",
       "         -1.2935, -0.2044, -0.1700, -1.9096,  4.1928,  5.7759, -2.2901, -3.7464,\n",
       "         -1.2213, -3.4085,  2.6456,  3.3822, -0.8894, -1.2935]])"
      ]
     },
     "execution_count": 67,
     "metadata": {},
     "output_type": "execute_result"
    }
   ],
   "source": [
    "outputs.start_logits"
   ]
  },
  {
   "cell_type": "code",
   "execution_count": 68,
   "id": "15973d04-1e3e-4c31-9a25-dc59eed37efc",
   "metadata": {},
   "outputs": [],
   "source": [
    "start_logits = outputs.start_logits\n",
    "end_logits = outputs.end_logits"
   ]
  },
  {
   "cell_type": "code",
   "execution_count": null,
   "id": "b8e86876-a37c-40a4-ad45-d29ab6d889ed",
   "metadata": {},
   "outputs": [],
   "source": []
  },
  {
   "cell_type": "code",
   "execution_count": 69,
   "id": "2c53abe0-89c0-41f9-82ca-c86e213725f7",
   "metadata": {},
   "outputs": [],
   "source": [
    "start_idx = torch.argmax(start_logits)"
   ]
  },
  {
   "cell_type": "code",
   "execution_count": 71,
   "id": "70fb3d39-7de6-4aca-ba29-031284688e30",
   "metadata": {},
   "outputs": [],
   "source": [
    "end_idx = torch.argmax(end_logits) + 1"
   ]
  },
  {
   "cell_type": "code",
   "execution_count": 72,
   "id": "1ebbc191-38a4-42ab-926a-29e4d956e2c4",
   "metadata": {},
   "outputs": [
    {
     "data": {
      "text/plain": [
       "tensor(17)"
      ]
     },
     "execution_count": 72,
     "metadata": {},
     "output_type": "execute_result"
    }
   ],
   "source": [
    "end_idx"
   ]
  },
  {
   "cell_type": "code",
   "execution_count": 76,
   "id": "ec694622-df84-41b5-9bda-197f4c954b3b",
   "metadata": {},
   "outputs": [],
   "source": [
    "answer_span = inputs[\"input_ids\"][0][start_idx:end_idx]"
   ]
  },
  {
   "cell_type": "code",
   "execution_count": 77,
   "id": "eb69cd6c-73b1-4c0d-9096-2a5f67eaad8a",
   "metadata": {},
   "outputs": [],
   "source": [
    "answer = tokenizer.decode(answer_span)"
   ]
  },
  {
   "cell_type": "code",
   "execution_count": 78,
   "id": "4b13dc55-9034-4166-9c66-bbe9a58a5671",
   "metadata": {},
   "outputs": [
    {
     "data": {
      "text/plain": [
       "'1mb / minute'"
      ]
     },
     "execution_count": 78,
     "metadata": {},
     "output_type": "execute_result"
    }
   ],
   "source": [
    "answer"
   ]
  },
  {
   "cell_type": "code",
   "execution_count": null,
   "id": "f55a6e70-a310-48a7-9652-e6d65681bf17",
   "metadata": {},
   "outputs": [],
   "source": []
  }
 ],
 "metadata": {
  "kernelspec": {
   "display_name": "Python 3 (ipykernel)",
   "language": "python",
   "name": "python3"
  },
  "language_info": {
   "codemirror_mode": {
    "name": "ipython",
    "version": 3
   },
   "file_extension": ".py",
   "mimetype": "text/x-python",
   "name": "python",
   "nbconvert_exporter": "python",
   "pygments_lexer": "ipython3",
   "version": "3.9.13"
  }
 },
 "nbformat": 4,
 "nbformat_minor": 5
}
