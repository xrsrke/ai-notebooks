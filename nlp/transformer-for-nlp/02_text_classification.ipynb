{
 "cells": [
  {
   "cell_type": "markdown",
   "id": "33115a3e-399d-4994-a864-a38b8a8e5ca5",
   "metadata": {},
   "source": [
    "### The Dataset"
   ]
  },
  {
   "cell_type": "code",
   "execution_count": 1,
   "id": "9c2621f5-daec-4956-9f73-1dada2270dc3",
   "metadata": {},
   "outputs": [],
   "source": [
    "from datasets import list_datasets, load_dataset"
   ]
  },
  {
   "cell_type": "code",
   "execution_count": 2,
   "id": "689c17cc-a1e3-422e-9abe-f0c5e012270b",
   "metadata": {},
   "outputs": [],
   "source": [
    "#emotions = load_dataset(\"emotion\")"
   ]
  },
  {
   "cell_type": "code",
   "execution_count": 3,
   "id": "8f7e2c53-ca27-42d6-8dda-cae420d10394",
   "metadata": {},
   "outputs": [],
   "source": [
    "#db_atomic = load_dataset(\"atomic\")"
   ]
  },
  {
   "cell_type": "markdown",
   "id": "9bdf1387-4cc5-45b3-93b3-81c43d958ca3",
   "metadata": {},
   "source": [
    "# 2. From Text to Tokens"
   ]
  },
  {
   "cell_type": "markdown",
   "id": "8fd62cf6-f0b8-4f19-a564-929969306dd3",
   "metadata": {},
   "source": [
    "### 2.3 Subword Tokenization"
   ]
  },
  {
   "cell_type": "code",
   "execution_count": 4,
   "id": "2a431491-23f2-4b15-801f-d38a21a0dc3c",
   "metadata": {},
   "outputs": [],
   "source": [
    "from transformers import AutoTokenizer"
   ]
  },
  {
   "cell_type": "code",
   "execution_count": 5,
   "id": "d9e58a35-c96f-4a17-8645-26d071bfa473",
   "metadata": {},
   "outputs": [],
   "source": [
    "model_ckpt = \"distilbert-base-uncased\""
   ]
  },
  {
   "cell_type": "code",
   "execution_count": 6,
   "id": "58020fcc-98d7-4f6b-ad41-c8f267572d9c",
   "metadata": {},
   "outputs": [
    {
     "data": {
      "application/vnd.jupyter.widget-view+json": {
       "model_id": "f0f5e315bcf14d8c981bfcf8fbb52aac",
       "version_major": 2,
       "version_minor": 0
      },
      "text/plain": [
       "Downloading:   0%|          | 0.00/28.0 [00:00<?, ?B/s]"
      ]
     },
     "metadata": {},
     "output_type": "display_data"
    },
    {
     "data": {
      "application/vnd.jupyter.widget-view+json": {
       "model_id": "581ef6f4b738418b8aadfa1936ca3dcf",
       "version_major": 2,
       "version_minor": 0
      },
      "text/plain": [
       "Downloading:   0%|          | 0.00/483 [00:00<?, ?B/s]"
      ]
     },
     "metadata": {},
     "output_type": "display_data"
    },
    {
     "data": {
      "application/vnd.jupyter.widget-view+json": {
       "model_id": "2ed28f08a6f848f994a7947afaeea8d6",
       "version_major": 2,
       "version_minor": 0
      },
      "text/plain": [
       "Downloading:   0%|          | 0.00/226k [00:00<?, ?B/s]"
      ]
     },
     "metadata": {},
     "output_type": "display_data"
    },
    {
     "data": {
      "application/vnd.jupyter.widget-view+json": {
       "model_id": "4ce219ff11c548b1af30633d57264508",
       "version_major": 2,
       "version_minor": 0
      },
      "text/plain": [
       "Downloading:   0%|          | 0.00/455k [00:00<?, ?B/s]"
      ]
     },
     "metadata": {},
     "output_type": "display_data"
    }
   ],
   "source": [
    "tokenizer = AutoTokenizer.from_pretrained(model_ckpt)"
   ]
  },
  {
   "cell_type": "code",
   "execution_count": 8,
   "id": "2bd9bf6b-cae4-403d-b5d2-cb527b6eb581",
   "metadata": {},
   "outputs": [
    {
     "data": {
      "text/plain": [
       "{'input_ids': [101, 7592, 102], 'attention_mask': [1, 1, 1]}"
      ]
     },
     "execution_count": 8,
     "metadata": {},
     "output_type": "execute_result"
    }
   ],
   "source": [
    "tokenizer(\"hello\")"
   ]
  },
  {
   "cell_type": "code",
   "execution_count": 9,
   "id": "0fb40a7c-163b-45f1-990b-5491226b40e4",
   "metadata": {},
   "outputs": [
    {
     "name": "stderr",
     "output_type": "stream",
     "text": [
      "Using custom data configuration DDSC--angry-tweets-37d8dddb9469d99e\n",
      "Reusing dataset parquet (/root/.cache/huggingface/datasets/DDSC___parquet/DDSC--angry-tweets-37d8dddb9469d99e/0.0.0/7328ef7ee03eaf3f86ae40594d46a1cec86161704e02dd19f232d81eee72ade8)\n"
     ]
    },
    {
     "data": {
      "application/vnd.jupyter.widget-view+json": {
       "model_id": "a40741f7216d4299ac7f7d32e675d470",
       "version_major": 2,
       "version_minor": 0
      },
      "text/plain": [
       "  0%|          | 0/2 [00:00<?, ?it/s]"
      ]
     },
     "metadata": {},
     "output_type": "display_data"
    }
   ],
   "source": [
    "dataset = load_dataset(\"DDSC/angry-tweets\")"
   ]
  },
  {
   "cell_type": "code",
   "execution_count": 10,
   "id": "1d771de5-3de0-43ff-8a12-dbcb2ab37485",
   "metadata": {},
   "outputs": [],
   "source": [
    "batch = dataset['train'][:3]"
   ]
  },
  {
   "cell_type": "code",
   "execution_count": 11,
   "id": "735d753a-41d8-4d02-86cd-9d63f26e9fe3",
   "metadata": {},
   "outputs": [],
   "source": [
    "def tokenize(batch):\n",
    "    return tokenizer(batch[\"text\"], padding=True)"
   ]
  },
  {
   "cell_type": "code",
   "execution_count": 12,
   "id": "338adf29-55b9-4ac0-ba19-a8e2d8881281",
   "metadata": {},
   "outputs": [],
   "source": [
    "encoded_text = tokenize(batch)"
   ]
  },
  {
   "cell_type": "code",
   "execution_count": null,
   "id": "3bd1ee1b-cc2b-410f-96c9-416509e6f05a",
   "metadata": {},
   "outputs": [],
   "source": [
    "encoded_text.set_for"
   ]
  }
 ],
 "metadata": {
  "kernelspec": {
   "display_name": "Python 3 (ipykernel)",
   "language": "python",
   "name": "python3"
  },
  "language_info": {
   "codemirror_mode": {
    "name": "ipython",
    "version": 3
   },
   "file_extension": ".py",
   "mimetype": "text/x-python",
   "name": "python",
   "nbconvert_exporter": "python",
   "pygments_lexer": "ipython3",
   "version": "3.9.13"
  }
 },
 "nbformat": 4,
 "nbformat_minor": 5
}
