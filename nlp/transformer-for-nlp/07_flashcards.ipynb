{
 "cells": [
  {
   "cell_type": "code",
   "execution_count": 1,
   "id": "3d5f6d68-643d-47a8-b579-e99930ec4293",
   "metadata": {},
   "outputs": [],
   "source": [
    "import torch\n",
    "\n",
    "from transformers import AutoTokenizer\n",
    "from transformers import AutoModelForQuestionAnswering"
   ]
  },
  {
   "cell_type": "markdown",
   "id": "3573b383-3b02-4f40-b913-cfb3ae618774",
   "metadata": {},
   "source": [
    "### 1. Building a Review-Based QA System"
   ]
  },
  {
   "cell_type": "markdown",
   "id": "cdd09f1e-7229-4748-a90f-d56c449cf2a6",
   "metadata": {
    "tags": []
   },
   "source": [
    "##### Example 1"
   ]
  },
  {
   "cell_type": "code",
   "execution_count": 2,
   "id": "7c392837-4e92-44b6-8f74-aadfdc1bea1d",
   "metadata": {},
   "outputs": [],
   "source": [
    "model_ckpt = \"deepset/minilm-uncased-squad2\""
   ]
  },
  {
   "cell_type": "code",
   "execution_count": 3,
   "id": "4afe3e9f-577b-426f-93e2-0a3c77510f37",
   "metadata": {},
   "outputs": [],
   "source": [
    "tokenizer = AutoTokenizer.from_pretrained(model_ckpt)"
   ]
  },
  {
   "cell_type": "code",
   "execution_count": 4,
   "id": "80f537e3-f42b-4478-a6d0-428ff9195ce7",
   "metadata": {},
   "outputs": [],
   "source": [
    "inputs = tokenizer(\n",
    "    text = \"how much music can this hold?\",\n",
    "    text_pair = \"an mp3 is about 1mb/minute, about 6000 hours\",\n",
    "    return_tensors=\"pt\"\n",
    ")"
   ]
  },
  {
   "cell_type": "code",
   "execution_count": 5,
   "id": "1c334e98-4a22-4576-894a-714bc358c9bd",
   "metadata": {},
   "outputs": [
    {
     "data": {
      "application/vnd.jupyter.widget-view+json": {
       "model_id": "f65800d6620640f6a513df7729ef18f0",
       "version_major": 2,
       "version_minor": 0
      },
      "text/plain": [
       "Downloading:   0%|          | 0.00/127M [00:00<?, ?B/s]"
      ]
     },
     "metadata": {},
     "output_type": "display_data"
    }
   ],
   "source": [
    "model = AutoModelForQuestionAnswering.from_pretrained(model_ckpt)"
   ]
  },
  {
   "cell_type": "code",
   "execution_count": 6,
   "id": "ea7a8986-e5c2-4940-a3ed-025e3c272cb9",
   "metadata": {},
   "outputs": [],
   "source": [
    "with torch.no_grad():\n",
    "    outputs = model(**inputs)"
   ]
  },
  {
   "cell_type": "code",
   "execution_count": 7,
   "id": "b9fde065-8911-42d2-b936-5bc876b2bbc5",
   "metadata": {},
   "outputs": [
    {
     "data": {
      "text/plain": [
       "torch.Size([1, 22])"
      ]
     },
     "execution_count": 7,
     "metadata": {},
     "output_type": "execute_result"
    }
   ],
   "source": [
    "inputs.input_ids.shape"
   ]
  },
  {
   "cell_type": "code",
   "execution_count": 8,
   "id": "dc8bc3b5-3853-4bff-85b2-767cd11e0f50",
   "metadata": {},
   "outputs": [
    {
     "data": {
      "text/plain": [
       "transformers.modeling_outputs.QuestionAnsweringModelOutput"
      ]
     },
     "execution_count": 8,
     "metadata": {},
     "output_type": "execute_result"
    }
   ],
   "source": [
    "type(outputs)"
   ]
  },
  {
   "cell_type": "markdown",
   "id": "f738c40b-6cae-410d-8d06-7dda17970525",
   "metadata": {},
   "source": [
    "`outputs` is the output of `transformers`'s model that is specifically designed for the task of question answering\n",
    "\n",
    "Identify the answer in the `output`\n",
    "\n",
    "**Hint**: use `inputs` at the end"
   ]
  },
  {
   "cell_type": "code",
   "execution_count": 9,
   "id": "b66b3d77-cda3-4fe4-bdd6-122b1e49714b",
   "metadata": {},
   "outputs": [],
   "source": [
    "start_logits = outputs.start_logits\n",
    "end_logits = outputs.end_logits"
   ]
  },
  {
   "cell_type": "markdown",
   "id": "0433afd3-9944-49c6-bad9-4dac324a5cc7",
   "metadata": {},
   "source": [
    "Because the `start_logits` and `end_logits` represent the model's confidence in the predicted start and end positions. So we want to extract the idx of the token with highest logits"
   ]
  },
  {
   "cell_type": "code",
   "execution_count": 10,
   "id": "bbe8044f-b3c7-4e3d-a3b4-467fd48a7871",
   "metadata": {},
   "outputs": [],
   "source": [
    "start_idx = torch.argmax(start_logits)\n",
    "end_idx = torch.argmax(end_logits) + 1"
   ]
  },
  {
   "cell_type": "code",
   "execution_count": 11,
   "id": "2a035b7f-c227-4167-838c-6d02dc6e4774",
   "metadata": {},
   "outputs": [
    {
     "data": {
      "text/plain": [
       "(tensor(13), tensor(17))"
      ]
     },
     "execution_count": 11,
     "metadata": {},
     "output_type": "execute_result"
    }
   ],
   "source": [
    "start_idx, end_idx"
   ]
  },
  {
   "cell_type": "code",
   "execution_count": 12,
   "id": "96cb8a3a-b0dc-428f-bb77-70d6e794e10d",
   "metadata": {},
   "outputs": [],
   "source": [
    "answer_span = inputs[\"input_ids\"][0][start_idx:end_idx]"
   ]
  },
  {
   "cell_type": "markdown",
   "id": "778638e8-22ff-4f50-8396-d236910a6dc4",
   "metadata": {},
   "source": [
    "Convert logits to text (can be ignore)"
   ]
  },
  {
   "cell_type": "code",
   "execution_count": 13,
   "id": "7c97c48b-9a23-4bb6-9d33-7ce15b43c6c1",
   "metadata": {},
   "outputs": [],
   "source": [
    "answer = tokenizer.decode(answer_span)"
   ]
  },
  {
   "cell_type": "code",
   "execution_count": 14,
   "id": "6dce29bc-5da0-4ef9-85be-9a7a9663e956",
   "metadata": {},
   "outputs": [
    {
     "data": {
      "text/plain": [
       "'1mb / minute'"
      ]
     },
     "execution_count": 14,
     "metadata": {},
     "output_type": "execute_result"
    }
   ],
   "source": [
    "answer"
   ]
  },
  {
   "cell_type": "markdown",
   "id": "208c4d79-6861-4256-8698-1389935e0492",
   "metadata": {},
   "source": [
    "##### Example 2"
   ]
  },
  {
   "cell_type": "code",
   "execution_count": null,
   "id": "52737c51-322a-450f-8ea6-406088f2552c",
   "metadata": {},
   "outputs": [],
   "source": []
  }
 ],
 "metadata": {
  "kernelspec": {
   "display_name": "Python 3 (ipykernel)",
   "language": "python",
   "name": "python3"
  },
  "language_info": {
   "codemirror_mode": {
    "name": "ipython",
    "version": 3
   },
   "file_extension": ".py",
   "mimetype": "text/x-python",
   "name": "python",
   "nbconvert_exporter": "python",
   "pygments_lexer": "ipython3",
   "version": "3.9.13"
  }
 },
 "nbformat": 4,
 "nbformat_minor": 5
}
