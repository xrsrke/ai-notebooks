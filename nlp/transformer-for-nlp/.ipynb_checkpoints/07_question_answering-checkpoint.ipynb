{
 "cells": [
  {
   "cell_type": "markdown",
   "id": "8200d733-2dd2-44fe-8eee-494a4b6438ab",
   "metadata": {},
   "source": [
    "# 1. Building a Review-Based QA System"
   ]
  },
  {
   "cell_type": "code",
   "execution_count": 1,
   "id": "9e1fd837-c879-4922-a764-241d93c67980",
   "metadata": {},
   "outputs": [],
   "source": [
    "from datasets import get_dataset_config_names"
   ]
  },
  {
   "cell_type": "code",
   "execution_count": 2,
   "id": "3876528a-ecfa-411d-965b-15532bbdd8df",
   "metadata": {},
   "outputs": [
    {
     "data": {
      "application/vnd.jupyter.widget-view+json": {
       "model_id": "4315748943be4949ae667074c2b77a90",
       "version_major": 2,
       "version_minor": 0
      },
      "text/plain": [
       "Downloading builder script:   0%|          | 0.00/2.65k [00:00<?, ?B/s]"
      ]
     },
     "metadata": {},
     "output_type": "display_data"
    },
    {
     "data": {
      "application/vnd.jupyter.widget-view+json": {
       "model_id": "95d2790c07e34c78b239515c69d0d335",
       "version_major": 2,
       "version_minor": 0
      },
      "text/plain": [
       "Downloading metadata:   0%|          | 0.00/1.46k [00:00<?, ?B/s]"
      ]
     },
     "metadata": {},
     "output_type": "display_data"
    }
   ],
   "source": [
    "domain = get_dataset_config_names(\"subjqa\")"
   ]
  },
  {
   "cell_type": "code",
   "execution_count": 3,
   "id": "3d693220-bc76-4219-8713-9e7958d7740e",
   "metadata": {},
   "outputs": [
    {
     "data": {
      "text/plain": [
       "['books', 'electronics', 'grocery', 'movies', 'restaurants', 'tripadvisor']"
      ]
     },
     "execution_count": 3,
     "metadata": {},
     "output_type": "execute_result"
    }
   ],
   "source": [
    "domain"
   ]
  },
  {
   "cell_type": "code",
   "execution_count": 4,
   "id": "928f2a29-6aba-43ae-a11d-ac2823898edf",
   "metadata": {},
   "outputs": [],
   "source": [
    "from datasets import load_dataset"
   ]
  },
  {
   "cell_type": "code",
   "execution_count": 5,
   "id": "c3864fef-a4c1-480c-8c81-1dfbfc8a3004",
   "metadata": {},
   "outputs": [
    {
     "name": "stdout",
     "output_type": "stream",
     "text": [
      "Downloading and preparing dataset subjqa/electronics (download: 10.86 MiB, generated: 3.01 MiB, post-processed: Unknown size, total: 13.86 MiB) to /root/.cache/huggingface/datasets/subjqa/electronics/1.1.0/e5588f9298ff2d70686a00cc377e4bdccf4e32287459e3c6baf2dc5ab57fe7fd...\n"
     ]
    },
    {
     "data": {
      "application/vnd.jupyter.widget-view+json": {
       "model_id": "d14044e951574fa7a3da6ffd490ef9a4",
       "version_major": 2,
       "version_minor": 0
      },
      "text/plain": [
       "Downloading data: 0.00B [00:00, ?B/s]"
      ]
     },
     "metadata": {},
     "output_type": "display_data"
    },
    {
     "data": {
      "application/vnd.jupyter.widget-view+json": {
       "model_id": "",
       "version_major": 2,
       "version_minor": 0
      },
      "text/plain": [
       "Generating train split:   0%|          | 0/1295 [00:00<?, ? examples/s]"
      ]
     },
     "metadata": {},
     "output_type": "display_data"
    },
    {
     "data": {
      "application/vnd.jupyter.widget-view+json": {
       "model_id": "",
       "version_major": 2,
       "version_minor": 0
      },
      "text/plain": [
       "Generating test split:   0%|          | 0/358 [00:00<?, ? examples/s]"
      ]
     },
     "metadata": {},
     "output_type": "display_data"
    },
    {
     "data": {
      "application/vnd.jupyter.widget-view+json": {
       "model_id": "",
       "version_major": 2,
       "version_minor": 0
      },
      "text/plain": [
       "Generating validation split:   0%|          | 0/255 [00:00<?, ? examples/s]"
      ]
     },
     "metadata": {},
     "output_type": "display_data"
    },
    {
     "name": "stdout",
     "output_type": "stream",
     "text": [
      "Dataset subjqa downloaded and prepared to /root/.cache/huggingface/datasets/subjqa/electronics/1.1.0/e5588f9298ff2d70686a00cc377e4bdccf4e32287459e3c6baf2dc5ab57fe7fd. Subsequent calls will reuse this data.\n"
     ]
    },
    {
     "data": {
      "application/vnd.jupyter.widget-view+json": {
       "model_id": "22487cb6225542f0a176e16a13d12cdf",
       "version_major": 2,
       "version_minor": 0
      },
      "text/plain": [
       "  0%|          | 0/3 [00:00<?, ?it/s]"
      ]
     },
     "metadata": {},
     "output_type": "display_data"
    }
   ],
   "source": [
    "subjqa = load_dataset(\"subjqa\", name=\"electronics\")"
   ]
  },
  {
   "cell_type": "code",
   "execution_count": 6,
   "id": "2d7701b6-e24a-43e2-bc95-a268cad0f2b9",
   "metadata": {},
   "outputs": [
    {
     "data": {
      "text/plain": [
       "{'text': ['Bass is weak as expected',\n",
       "  'Bass is weak as expected, even with EQ adjusted up'],\n",
       " 'answer_start': [1302, 1302],\n",
       " 'answer_subj_level': [1, 1],\n",
       " 'ans_subj_score': [0.5083333253860474, 0.5083333253860474],\n",
       " 'is_ans_subjective': [True, True]}"
      ]
     },
     "execution_count": 6,
     "metadata": {},
     "output_type": "execute_result"
    }
   ],
   "source": [
    "subjqa[\"train\"][\"answers\"][1]"
   ]
  },
  {
   "cell_type": "code",
   "execution_count": 7,
   "id": "a138d9ab-6b24-4af3-bb51-fa69dff148f5",
   "metadata": {},
   "outputs": [],
   "source": [
    "import pandas as pd"
   ]
  },
  {
   "cell_type": "code",
   "execution_count": 8,
   "id": "742ab2c8-0a57-4ce6-a52f-5d1f5fbacce4",
   "metadata": {},
   "outputs": [
    {
     "data": {
      "text/plain": [
       "dict_items([('train', Dataset({\n",
       "    features: ['domain', 'nn_mod', 'nn_asp', 'query_mod', 'query_asp', 'q_reviews_id', 'question_subj_level', 'ques_subj_score', 'is_ques_subjective', 'review_id', 'id', 'title', 'context', 'question', 'answers'],\n",
       "    num_rows: 1295\n",
       "})), ('test', Dataset({\n",
       "    features: ['domain', 'nn_mod', 'nn_asp', 'query_mod', 'query_asp', 'q_reviews_id', 'question_subj_level', 'ques_subj_score', 'is_ques_subjective', 'review_id', 'id', 'title', 'context', 'question', 'answers'],\n",
       "    num_rows: 358\n",
       "})), ('validation', Dataset({\n",
       "    features: ['domain', 'nn_mod', 'nn_asp', 'query_mod', 'query_asp', 'q_reviews_id', 'question_subj_level', 'ques_subj_score', 'is_ques_subjective', 'review_id', 'id', 'title', 'context', 'question', 'answers'],\n",
       "    num_rows: 255\n",
       "}))])"
      ]
     },
     "execution_count": 8,
     "metadata": {},
     "output_type": "execute_result"
    }
   ],
   "source": [
    "subjqa.items()"
   ]
  },
  {
   "cell_type": "code",
   "execution_count": 9,
   "id": "344d4680-9b0a-49ee-8dda-4e71296c2780",
   "metadata": {},
   "outputs": [
    {
     "data": {
      "text/plain": [
       "dict_items([('train', Dataset({\n",
       "    features: ['domain', 'nn_mod', 'nn_asp', 'query_mod', 'query_asp', 'q_reviews_id', 'question_subj_level', 'ques_subj_score', 'is_ques_subjective', 'review_id', 'id', 'title', 'context', 'question', 'answers.text', 'answers.answer_start', 'answers.answer_subj_level', 'answers.ans_subj_score', 'answers.is_ans_subjective'],\n",
       "    num_rows: 1295\n",
       "})), ('test', Dataset({\n",
       "    features: ['domain', 'nn_mod', 'nn_asp', 'query_mod', 'query_asp', 'q_reviews_id', 'question_subj_level', 'ques_subj_score', 'is_ques_subjective', 'review_id', 'id', 'title', 'context', 'question', 'answers.text', 'answers.answer_start', 'answers.answer_subj_level', 'answers.ans_subj_score', 'answers.is_ans_subjective'],\n",
       "    num_rows: 358\n",
       "})), ('validation', Dataset({\n",
       "    features: ['domain', 'nn_mod', 'nn_asp', 'query_mod', 'query_asp', 'q_reviews_id', 'question_subj_level', 'ques_subj_score', 'is_ques_subjective', 'review_id', 'id', 'title', 'context', 'question', 'answers.text', 'answers.answer_start', 'answers.answer_subj_level', 'answers.ans_subj_score', 'answers.is_ans_subjective'],\n",
       "    num_rows: 255\n",
       "}))])"
      ]
     },
     "execution_count": 9,
     "metadata": {},
     "output_type": "execute_result"
    }
   ],
   "source": [
    "subjqa.flatten().items()"
   ]
  },
  {
   "cell_type": "code",
   "execution_count": 10,
   "id": "85e36cd3-1543-4104-842d-11e8c6c7af52",
   "metadata": {},
   "outputs": [],
   "source": [
    "dset_flatten = subjqa.flatten().items()"
   ]
  },
  {
   "cell_type": "code",
   "execution_count": 11,
   "id": "67ca5222-1a74-4a1d-bd4f-34a2353078a5",
   "metadata": {},
   "outputs": [],
   "source": [
    "dfs = {split: dset.to_pandas() for split, dset in dset_flatten}"
   ]
  },
  {
   "cell_type": "code",
   "execution_count": 12,
   "id": "65913b94-a0cb-452d-b5ae-0fee6dac5ca3",
   "metadata": {},
   "outputs": [
    {
     "data": {
      "text/plain": [
       "{'train':            domain       nn_mod         nn_asp   query_mod   query_asp  \\\n",
       " 0     electronics        great  bass response   excellent        bass   \n",
       " 1     electronics        harsh           high  not strong        bass   \n",
       " 2     electronics      neutral          sound     present        bass   \n",
       " 3     electronics        muddy           bass     awesome        bass   \n",
       " 4     electronics      perfect           bass  incredible       sound   \n",
       " ...           ...          ...            ...         ...         ...   \n",
       " 1290  electronics        great     impression     rubbery        feel   \n",
       " 1291  electronics        tight           case       great  protection   \n",
       " 1292  electronics         good        texture        good        grip   \n",
       " 1293  electronics  easy to use       keyboard   removable    keyboard   \n",
       " 1294  electronics  easy to use       keyboard   removable    keyboard   \n",
       " \n",
       "                           q_reviews_id  question_subj_level  ques_subj_score  \\\n",
       " 0     0514ee34b672623dff659334a25b599b                    5             0.50   \n",
       " 1     7c46670208f7bf5497480fbdbb44561a                    1             0.50   \n",
       " 2     8fbf26792c438aa83178c2d507af5d77                    1             0.50   \n",
       " 3     9876fd06ed8f075fcad70d1e30e7e8be                    1             0.50   \n",
       " 4     16506b53e2d4c2b6a65881d9462256c2                    1             0.65   \n",
       " ...                                ...                  ...              ...   \n",
       " 1290  d4409d6272a7d1d5aa287d6e164bb7d0                    1             0.00   \n",
       " 1291  ed6533390fe2fe0d546b69dea570c34b                    5             0.00   \n",
       " 1292  22b23446daf9d5bc0140be7278b220ee                    1             0.00   \n",
       " 1293  e7967ad5be0658b4acfca1118f6af1ab                    1             0.00   \n",
       " 1294  e7967ad5be0658b4acfca1118f6af1ab                    1             0.00   \n",
       " \n",
       "       is_ques_subjective                         review_id  \\\n",
       " 0                  False  882b1e2745a4779c8f17b3d4406b91c7   \n",
       " 1                  False  ce76793f036494eabe07b33a9a67288a   \n",
       " 2                  False  d040f2713caa2aff0ce95affb40e12c2   \n",
       " 3                  False  043e7162df91f6ea916c790c8a6f6b22   \n",
       " 4                   True  29ccd7e690050e2951be49289e915382   \n",
       " ...                  ...                               ...   \n",
       " 1290               False  ebaaec25661c0b21f3e5600a1ed7e30b   \n",
       " 1291               False  ebaaec25661c0b21f3e5600a1ed7e30b   \n",
       " 1292               False  84efbd9643d7f43af0ea0d2468c7dcc9   \n",
       " 1293               False  e856d7e5351e3385b5d75f06562e905b   \n",
       " 1294               False  57fa25acee9914487510f4a8ee37bca6   \n",
       " \n",
       "                                     id       title  \\\n",
       " 0     2543d296da9766d8d17d040ecc781699  B00001P4ZH   \n",
       " 1     d476830bf9282e2b9033e2bb44bbb995  B00001P4ZH   \n",
       " 2     455575557886d6dfeea5aa19577e5de4  B00001P4ZH   \n",
       " 3     6895a59b470d8feee0f39da6c53a92e5  B00001WRSJ   \n",
       " 4     7a2173c502da97c5bd5950eae7cd7430  B00001WRSJ   \n",
       " ...                                ...         ...   \n",
       " 1290  e0ea72e711324b5482ec1b36a48f16ee  B00H3OYSHW   \n",
       " 1291  ee5906ed3306b7c6d219a40adae2c7c2  B00H3OYSHW   \n",
       " 1292  a541ffd9697ebf0ad9d226428594128e  B00HNGB1YS   \n",
       " 1293  7efc5e7ffaa79f53cc50f76a44f9f88e  B00HPM1G8Q   \n",
       " 1294  4bfdd55cb76def0cbae0e0df5e7a14b6  B00HPM1G8Q   \n",
       " \n",
       "                                                 context  \\\n",
       " 0     I have had Koss headphones in the past, Pro 4A...   \n",
       " 1     To anyone who hasn't tried all the various typ...   \n",
       " 2     I have had many sub-$100 headphones from $5 Pa...   \n",
       " 3     My sister's Bose headphones finally died and s...   \n",
       " 4     Wow. Just wow. I'm a 22 yr old with a crazy ob...   \n",
       " ...                                                 ...   \n",
       " 1290  I ordered my new NewTrend Airbender Pro NT610K...   \n",
       " 1291  I ordered my new NewTrend Airbender Pro NT610K...   \n",
       " 1292  After using this case for a few days, I have g...   \n",
       " 1293  Edit 4/21/14. I finally caved and purchased a ...   \n",
       " 1294  The Belkin QODE Portable Bluetooth Keyboard Ca...   \n",
       " \n",
       "                                    question  \\\n",
       " 0                          How is the bass?   \n",
       " 1       Is this music song have a goo bass?   \n",
       " 2                          How is the bass?   \n",
       " 3                    How is the audio bass?   \n",
       " 4        Why do I have an incredible sound?   \n",
       " ...                                     ...   \n",
       " 1290            Where can I feel my device?   \n",
       " 1291  How does the selector protection  me?   \n",
       " 1292                       How is the grip?   \n",
       " 1293                   How is the keyboard?   \n",
       " 1294                   How is the keyboard?   \n",
       " \n",
       "                                            answers.text answers.answer_start  \\\n",
       " 0                                                    []                   []   \n",
       " 1     [Bass is weak as expected, Bass is weak as exp...         [1302, 1302]   \n",
       " 2             [The only fault in the sound is the bass]                [650]   \n",
       " 3                             [the best of all of them]               [1609]   \n",
       " 4     [The sound is so crisp, crazy obsession with s...            [141, 38]   \n",
       " ...                                                 ...                  ...   \n",
       " 1290                                                 []                   []   \n",
       " 1291                                                 []                   []   \n",
       " 1292                                                 []                   []   \n",
       " 1293  [the keyboard is very easy to use, the keyboar...           [258, 258]   \n",
       " 1294                   [is easy to use and works great]                [541]   \n",
       " \n",
       "      answers.answer_subj_level    answers.ans_subj_score  \\\n",
       " 0                           []                        []   \n",
       " 1                       [1, 1]    [0.5083333, 0.5083333]   \n",
       " 2                          [2]               [0.6333333]   \n",
       " 3                          [1]                     [0.3]   \n",
       " 4                       [1, 1]  [0.40833333, 0.40833333]   \n",
       " ...                        ...                       ...   \n",
       " 1290                        []                        []   \n",
       " 1291                        []                        []   \n",
       " 1292                        []                        []   \n",
       " 1293                    [1, 1]                [1.0, 1.0]   \n",
       " 1294                       [1]               [0.7916667]   \n",
       " \n",
       "      answers.is_ans_subjective  \n",
       " 0                           []  \n",
       " 1                 [True, True]  \n",
       " 2                       [True]  \n",
       " 3                      [False]  \n",
       " 4               [False, False]  \n",
       " ...                        ...  \n",
       " 1290                        []  \n",
       " 1291                        []  \n",
       " 1292                        []  \n",
       " 1293              [True, True]  \n",
       " 1294                    [True]  \n",
       " \n",
       " [1295 rows x 19 columns],\n",
       " 'test':           domain      nn_mod   nn_asp query_mod query_asp  \\\n",
       " 0    electronics  comparable  quality   perfect   balance   \n",
       " 1    electronics       other    lense      soft      lens   \n",
       " 2    electronics      better      one    simple     thing   \n",
       " 3    electronics       heavy     lens     solid      lens   \n",
       " 4    electronics  more vivid    color    better  contrast   \n",
       " ..           ...         ...      ...       ...       ...   \n",
       " 353  electronics     compact     case    flimsy      case   \n",
       " 354  electronics        thin     case     bulky      case   \n",
       " 355  electronics     durable     case    flimsy      case   \n",
       " 356  electronics   beautiful     case   awesome      case   \n",
       " 357  electronics        nice    strap     rigid      case   \n",
       " \n",
       "                          q_reviews_id  question_subj_level  ques_subj_score  \\\n",
       " 0    aa99f9b7fe9fe9c921bc2f963cb22121                    1              0.0   \n",
       " 1    4fddf73448658d261ff5bd9daacc6c2b                    2              0.1   \n",
       " 2    c7216c47768ac9095fe49a48e82cf26e                    2              0.0   \n",
       " 3    ba83a2b49053dc2805e3b85e6b759914                    2              0.0   \n",
       " 4    115589d9534d05d74fba3db0676ecf94                    1              0.0   \n",
       " ..                                ...                  ...              ...   \n",
       " 353  190bc2f46d2690637696d73e38a51d26                    1              0.5   \n",
       " 354  a3176fc259b3f8e988ffedf99ffc7e4e                    1              0.0   \n",
       " 355  cbc2f3a9bc987bdbe363a8c5d4bf5147                    2              0.5   \n",
       " 356  73a9cbec30353b9e818fa8733000d28b                    1              0.0   \n",
       " 357  2ee46e36e2927b593cfd7b682d588ec3                    1              0.0   \n",
       " \n",
       "      is_ques_subjective                         review_id  \\\n",
       " 0                 False  f011c75fb8d26066217e64b3ff470d84   \n",
       " 1                 False  3c1f26f3a126eb3c35086e374d9ebb92   \n",
       " 2                 False  4e4c2654442ceca7fdea00982e2af11a   \n",
       " 3                 False  fac2e8bec06035a70307dd1e8034ea63   \n",
       " 4                 False  26bf35fe7f9a73d28535d5072ab17714   \n",
       " ..                  ...                               ...   \n",
       " 353               False  57a3d072cc34d683132319c0516a5654   \n",
       " 354               False  a4a638d5b16387ee9b09a37eddfec8a0   \n",
       " 355               False  0eba05a07634fc3c5a5400cc0e97198f   \n",
       " 356               False  32f0933ca22a2553af02d4b5e3c8de32   \n",
       " 357               False  62f620f40a54e9c966efffd0ee44a155   \n",
       " \n",
       "                                    id       title  \\\n",
       " 0    d0781d13200014aa25860e44da9d5ea7  B00001WRSJ   \n",
       " 1    b01740bc2d7f437398dfbb43073398a7  B00005LEN4   \n",
       " 2    bfcaa4005b2a8c3c221cb97925a60c6f  B00006B7DA   \n",
       " 3    7e34a94e6f5329a62ace7f956e4c5303  B00006I53S   \n",
       " 4    f549e9a738cf0d02079b078098752587  B00006I53S   \n",
       " ..                                ...         ...   \n",
       " 353  15e8641a017f932bd18d62b234d233b3  B00GP4BVTO   \n",
       " 354  3aed11488369a643feeb92a4bf199407  B00H3OYSHW   \n",
       " 355  fdbbf1803a8500b8fb504fc2474bc0ca  B00H3OYSHW   \n",
       " 356  1415fda1208bb402a22bbc1dbaab5487  B00HNFPZF0   \n",
       " 357  0c092a614f9ac007103523525fe31e2c  B00HNGB1YS   \n",
       " \n",
       "                                                context  \\\n",
       " 0    I have been a headphone fanatic for thirty yea...   \n",
       " 1    UPDATED: 5/20/2011:  I used my D700, and only ...   \n",
       " 2    It worked fine at the start but within a week ...   \n",
       " 3    I bought this lens for my Canon 20D digital ca...   \n",
       " 4    I am not a professional or expert photographer...   \n",
       " ..                                                 ...   \n",
       " 353  The case is built well. It does not seem like ...   \n",
       " 354  I really like the Airbender Pro. It's an excel...   \n",
       " 355  I've found this case to be very durable and re...   \n",
       " 356  I have had this item for less than a week and ...   \n",
       " 357  The Gladius mini is a durable case. It has a s...   \n",
       " \n",
       "                                               question  \\\n",
       " 0       What is the tonal balance of these headphones?   \n",
       " 1    How would you describe the texture of the lens...   \n",
       " 2                                    How is the thing?   \n",
       " 3                            How do you like the lens?   \n",
       " 4                                 How is the contrast?   \n",
       " ..                                                 ...   \n",
       " 353              How is the case fitting your product?   \n",
       " 354                   Where can I get a luminous case?   \n",
       " 355              How is the case fitting your product?   \n",
       " 356                                   How is the case?   \n",
       " 357                                   What about case?   \n",
       " \n",
       "                                           answers.text answers.answer_start  \\\n",
       " 0    [I have been a headphone fanatic for thirty ye...                  [0]   \n",
       " 1                                                   []                   []   \n",
       " 2                                                   []                   []   \n",
       " 3                           [I do recommend this lens]               [3341]   \n",
       " 4                                                   []                   []   \n",
       " ..                                                 ...                  ...   \n",
       " 353   [The case is built well, The case is built well]               [0, 0]   \n",
       " 354              [This case has a really rugged metal]               [1709]   \n",
       " 355                                                 []                   []   \n",
       " 356  [The case is very beautiful, The case is very ...           [172, 172]   \n",
       " 357  [The Gladius mini is a durable case, the case ...             [0, 730]   \n",
       " \n",
       "     answers.answer_subj_level answers.ans_subj_score answers.is_ans_subjective  \n",
       " 0                         [1]                  [0.8]                    [True]  \n",
       " 1                          []                     []                        []  \n",
       " 2                          []                     []                        []  \n",
       " 3                         [2]                  [0.0]                   [False]  \n",
       " 4                          []                     []                        []  \n",
       " ..                        ...                    ...                       ...  \n",
       " 353                    [1, 1]             [0.0, 0.0]            [False, False]  \n",
       " 354                       [1]                  [0.2]                   [False]  \n",
       " 355                        []                     []                        []  \n",
       " 356                    [1, 1]             [1.0, 1.0]              [True, True]  \n",
       " 357                    [1, 1]             [0.0, 0.0]            [False, False]  \n",
       " \n",
       " [358 rows x 19 columns],\n",
       " 'validation':           domain       nn_mod      nn_asp        query_mod   query_asp  \\\n",
       " 0    electronics      neutral       sound          present        bass   \n",
       " 1    electronics        clear        view             easy        time   \n",
       " 2    electronics        clear        high            solid        bass   \n",
       " 3    electronics      perfect       color          amazing       color   \n",
       " 4    electronics   impressive     picture            great       image   \n",
       " ..           ...          ...         ...              ...         ...   \n",
       " 250  electronics        right        size  more reasonable       price   \n",
       " 251  electronics         good  resolution          amazing  resolution   \n",
       " 252  electronics         good  brightness        brilliant       color   \n",
       " 253  electronics        tight        case            great  protection   \n",
       " 254  electronics  easy to use    keyboard        removable    keyboard   \n",
       " \n",
       "                          q_reviews_id  question_subj_level  ques_subj_score  \\\n",
       " 0    8fbf26792c438aa83178c2d507af5d77                    1              0.5   \n",
       " 1    c68a6cc477b67ae54dbe15fc19b1e2fc                    3              0.0   \n",
       " 2    6521176a0cf9742c793c6c2a348eb3a6                    5              0.5   \n",
       " 3    a93b18abb223549010a8e676cfb2ffb0                    1              0.0   \n",
       " 4    231254b7eb9ef7da363ed86cb9eea0df                    5              0.6   \n",
       " ..                                ...                  ...              ...   \n",
       " 250  bd9a52715ed9ceabbc2115176d70e6d4                    1              0.2   \n",
       " 251  f582f22fe9c904bd60e3b8b70eef1e30                    5              0.0   \n",
       " 252  bf4b46c7643ef312f869d92941b802f8                    1              0.0   \n",
       " 253  ed6533390fe2fe0d546b69dea570c34b                    3              0.0   \n",
       " 254  e7967ad5be0658b4acfca1118f6af1ab                    2              0.0   \n",
       " \n",
       "      is_ques_subjective                         review_id  \\\n",
       " 0                 False  d040f2713caa2aff0ce95affb40e12c2   \n",
       " 1                 False  acc40990720aba8c38ecc7cda49b4d94   \n",
       " 2                 False  12896447561b4f7947c99f5cccdedc7b   \n",
       " 3                 False  9f8869ddd92ade59a4db128972492c67   \n",
       " 4                  True  26128195da35fe33ca351524017b6d56   \n",
       " ..                  ...                               ...   \n",
       " 250               False  d4f9c6f9af5e705eb1bf6fa1b019624a   \n",
       " 251               False  d2ebd99eafe1b7ccc884548525f83f94   \n",
       " 252               False  7c971b6ee956bef3b7faa4dd88575f0c   \n",
       " 253               False  ebaaec25661c0b21f3e5600a1ed7e30b   \n",
       " 254               False  57fa25acee9914487510f4a8ee37bca6   \n",
       " \n",
       "                                    id       title  \\\n",
       " 0    455575557886d6dfeea5aa19577e5de4  B00001P4ZH   \n",
       " 1    47110eb7720cffd03bb78f609999243d  B00004SABB   \n",
       " 2    0645f5f9fabb5276fea9c572fb1d378d  B000062VUO   \n",
       " 3    063fe5ccf8860dc591bacec10c8735d5  B00007E7JU   \n",
       " 4    5f9ca4c7ca86909bd58bb2713eb3b091  B00007GQLU   \n",
       " ..                                ...         ...   \n",
       " 250  62326ee218c2e24b73f9b23f55208b72  B00DVFLJDS   \n",
       " 251  07285ed920b2056bb427614f9e6c6116  B00F3SOHNU   \n",
       " 252  12012d3d628622059784d550e5025b90  B00FEE7B1I   \n",
       " 253  ee5906ed3306b7c6d219a40adae2c7c2  B00H3OYSHW   \n",
       " 254  4bfdd55cb76def0cbae0e0df5e7a14b6  B00HPM1G8Q   \n",
       " \n",
       "                                                context  \\\n",
       " 0    I have had many sub-$100 headphones from $5 Pa...   \n",
       " 1    the view is so good and clear and so easy to f...   \n",
       " 2    I first fell in love with Klipsch in the 80s w...   \n",
       " 3    I love my 50mm. At f/1.8, it's close to imposs...   \n",
       " 4    Simply the best lens I have ever used.  Make s...   \n",
       " ..                                                 ...   \n",
       " 250  This smartphone meets my needs.. The size is j...   \n",
       " 251  [Edit 10/27/2013]After I began to edit the rev...   \n",
       " 252  I've been running the Dell Venue Pro 8 daily f...   \n",
       " 253  I ordered my new NewTrend Airbender Pro NT610K...   \n",
       " 254  The Belkin QODE Portable Bluetooth Keyboard Ca...   \n",
       " \n",
       "                                   question                  answers.text  \\\n",
       " 0                         How is the bass?                            []   \n",
       " 1                         How is the time?                            []   \n",
       " 2                What is the bass provide?                  [Bass booms]   \n",
       " 3    What does it tell us about the color?                            []   \n",
       " 4    How good is the image of this camera?                            []   \n",
       " ..                                     ...                           ...   \n",
       " 250          How much is the price to pay?                            []   \n",
       " 251        How was my camera's resolution?                            []   \n",
       " 252                What color is brighter?          [form factor really]   \n",
       " 253  How does the selector protection  me?  [it)Protective Capability~5]   \n",
       " 254                   How is the keyboard?        [The keyboard is easy]   \n",
       " \n",
       "     answers.answer_start answers.answer_subj_level answers.ans_subj_score  \\\n",
       " 0                     []                        []                     []   \n",
       " 1                     []                        []                     []   \n",
       " 2                  [252]                       [5]                  [0.5]   \n",
       " 3                     []                        []                     []   \n",
       " 4                     []                        []                     []   \n",
       " ..                   ...                       ...                    ...   \n",
       " 250                   []                        []                     []   \n",
       " 251                   []                        []                     []   \n",
       " 252                [101]                       [1]                  [0.2]   \n",
       " 253               [3039]                       [1]                  [0.0]   \n",
       " 254                [528]                       [2]            [0.8333333]   \n",
       " \n",
       "     answers.is_ans_subjective  \n",
       " 0                          []  \n",
       " 1                          []  \n",
       " 2                     [False]  \n",
       " 3                          []  \n",
       " 4                          []  \n",
       " ..                        ...  \n",
       " 250                        []  \n",
       " 251                        []  \n",
       " 252                   [False]  \n",
       " 253                   [False]  \n",
       " 254                    [True]  \n",
       " \n",
       " [255 rows x 19 columns]}"
      ]
     },
     "execution_count": 12,
     "metadata": {},
     "output_type": "execute_result"
    }
   ],
   "source": [
    "dfs"
   ]
  },
  {
   "cell_type": "code",
   "execution_count": 22,
   "id": "984a8943-3b6d-49e8-9f94-4e59040894f1",
   "metadata": {},
   "outputs": [
    {
     "name": "stdout",
     "output_type": "stream",
     "text": [
      "number of qs in train: 1295\n",
      "number of qs in test: 358\n",
      "number of qs in validation: 255\n"
     ]
    }
   ],
   "source": [
    "for split, df in dfs.items():\n",
    "    print(f\"number of qs in {split}: {df['id'].nunique()}\")"
   ]
  },
  {
   "cell_type": "code",
   "execution_count": 23,
   "id": "04bd0f4e-9b2a-4a27-a57c-73eff3e2dda3",
   "metadata": {},
   "outputs": [],
   "source": [
    "qa_cols = [\"title\", \"question\",\n",
    "           \"answers.text\", \"answers.answer_start\",\n",
    "           \"context\"]"
   ]
  },
  {
   "cell_type": "markdown",
   "id": "9e30a924-e350-46c0-8e06-1b0f24c35bc4",
   "metadata": {},
   "source": [
    "### 1.2 Extracting Answers from Text"
   ]
  },
  {
   "cell_type": "code",
   "execution_count": 19,
   "id": "9fa98106-bb49-4f27-9c9a-0721c1731224",
   "metadata": {},
   "outputs": [],
   "source": [
    "from transformers import AutoTokenizer"
   ]
  },
  {
   "cell_type": "code",
   "execution_count": 20,
   "id": "661440e0-374c-4197-9b35-1abc7928d8b5",
   "metadata": {},
   "outputs": [],
   "source": [
    "model_ckpt = \"deepset/minilm-uncased-squad2\""
   ]
  },
  {
   "cell_type": "code",
   "execution_count": 21,
   "id": "06496aa6-b1ab-4d46-9ebb-758ebdaa7a3b",
   "metadata": {},
   "outputs": [
    {
     "data": {
      "application/vnd.jupyter.widget-view+json": {
       "model_id": "7b7ab6c1e66d405fa283dd944e1aa79a",
       "version_major": 2,
       "version_minor": 0
      },
      "text/plain": [
       "Downloading:   0%|          | 0.00/107 [00:00<?, ?B/s]"
      ]
     },
     "metadata": {},
     "output_type": "display_data"
    },
    {
     "data": {
      "application/vnd.jupyter.widget-view+json": {
       "model_id": "0c88007a09624a7297dc25d5a71b3fba",
       "version_major": 2,
       "version_minor": 0
      },
      "text/plain": [
       "Downloading:   0%|          | 0.00/477 [00:00<?, ?B/s]"
      ]
     },
     "metadata": {},
     "output_type": "display_data"
    },
    {
     "data": {
      "application/vnd.jupyter.widget-view+json": {
       "model_id": "50e7b7a53cd641f8ae85b036983cb6ed",
       "version_major": 2,
       "version_minor": 0
      },
      "text/plain": [
       "Downloading:   0%|          | 0.00/226k [00:00<?, ?B/s]"
      ]
     },
     "metadata": {},
     "output_type": "display_data"
    },
    {
     "data": {
      "application/vnd.jupyter.widget-view+json": {
       "model_id": "2e025cba615640dbabaaeb2d85fd012d",
       "version_major": 2,
       "version_minor": 0
      },
      "text/plain": [
       "Downloading:   0%|          | 0.00/112 [00:00<?, ?B/s]"
      ]
     },
     "metadata": {},
     "output_type": "display_data"
    }
   ],
   "source": [
    "tokenizer = AutoTokenizer.from_pretrained(model_ckpt)"
   ]
  },
  {
   "cell_type": "code",
   "execution_count": 73,
   "id": "3aa36c65-7886-4030-aa0c-953f3433ce38",
   "metadata": {},
   "outputs": [],
   "source": [
    "inputs = tokenizer(\n",
    "    text = \"how much music can this hold?\",\n",
    "    text_pair = \"an mp3 is about 1mb/minute, about 6000 hours\",\n",
    "    return_tensors=\"pt\"\n",
    ")"
   ]
  },
  {
   "cell_type": "code",
   "execution_count": 74,
   "id": "8fcbc8f4-9934-4b84-a0e5-5e64ba693394",
   "metadata": {},
   "outputs": [
    {
     "data": {
      "text/plain": [
       "{'input_ids': tensor([[  101,  2129,  2172,  2189,  2064,  2023,  2907,  1029,   102,  2019,\n",
       "         23378,  2003,  2055,  1015, 14905,  1013,  3371,  1010,  2055, 25961,\n",
       "          2847,   102]]), 'token_type_ids': tensor([[0, 0, 0, 0, 0, 0, 0, 0, 0, 1, 1, 1, 1, 1, 1, 1, 1, 1, 1, 1, 1, 1]]), 'attention_mask': tensor([[1, 1, 1, 1, 1, 1, 1, 1, 1, 1, 1, 1, 1, 1, 1, 1, 1, 1, 1, 1, 1, 1]])}"
      ]
     },
     "execution_count": 74,
     "metadata": {},
     "output_type": "execute_result"
    }
   ],
   "source": [
    "inputs"
   ]
  },
  {
   "cell_type": "code",
   "execution_count": 48,
   "id": "a2ae0715-dec4-414a-af93-9bd12fec46ad",
   "metadata": {},
   "outputs": [
    {
     "data": {
      "text/plain": [
       "torch.Size([1, 22])"
      ]
     },
     "execution_count": 48,
     "metadata": {},
     "output_type": "execute_result"
    }
   ],
   "source": [
    "inputs.input_ids.shape"
   ]
  },
  {
   "cell_type": "code",
   "execution_count": 49,
   "id": "6252d041-842d-4dd3-87f7-8d45b0dcef10",
   "metadata": {},
   "outputs": [
    {
     "data": {
      "text/plain": [
       "'[CLS] how much music can this hold? [SEP] an mp3 is about 1mb / minute, about 6000 hours [SEP]'"
      ]
     },
     "execution_count": 49,
     "metadata": {},
     "output_type": "execute_result"
    }
   ],
   "source": [
    "tokenizer.decode(inputs[\"input_ids\"][0])"
   ]
  },
  {
   "cell_type": "code",
   "execution_count": 51,
   "id": "2abb8cc6-4546-4fa6-b5c8-c2c130fc3fd9",
   "metadata": {},
   "outputs": [],
   "source": [
    "import torch\n",
    "from transformers import AutoModelForQuestionAnswering"
   ]
  },
  {
   "cell_type": "code",
   "execution_count": 52,
   "id": "69343e38-6e63-4f87-9391-f5453b52d903",
   "metadata": {},
   "outputs": [
    {
     "data": {
      "text/plain": [
       "'deepset/minilm-uncased-squad2'"
      ]
     },
     "execution_count": 52,
     "metadata": {},
     "output_type": "execute_result"
    }
   ],
   "source": [
    "model_ckpt"
   ]
  },
  {
   "cell_type": "code",
   "execution_count": 53,
   "id": "b3e43fff-8b16-497c-a9c2-d2bd52385bf3",
   "metadata": {},
   "outputs": [
    {
     "data": {
      "application/vnd.jupyter.widget-view+json": {
       "model_id": "190c47bf0ddc411c817c7a350999d33b",
       "version_major": 2,
       "version_minor": 0
      },
      "text/plain": [
       "Downloading:   0%|          | 0.00/127M [00:00<?, ?B/s]"
      ]
     },
     "metadata": {},
     "output_type": "display_data"
    }
   ],
   "source": [
    "model = AutoModelForQuestionAnswering.from_pretrained(model_ckpt)"
   ]
  },
  {
   "cell_type": "code",
   "execution_count": 54,
   "id": "64a07945-9962-44af-8a0c-af6ebddca70c",
   "metadata": {},
   "outputs": [],
   "source": [
    "with torch.no_grad():\n",
    "    outputs = model(**inputs)"
   ]
  },
  {
   "cell_type": "code",
   "execution_count": 55,
   "id": "b2595e02-3957-4b15-ab8a-5bd7394a9f99",
   "metadata": {},
   "outputs": [
    {
     "data": {
      "text/plain": [
       "QuestionAnsweringModelOutput(loss=None, start_logits=tensor([[-1.2935, -4.7204, -5.3716, -5.2326, -5.2625, -5.3654, -4.9590, -6.0611,\n",
       "         -1.2935, -0.2044, -0.1700, -1.9096,  4.1928,  5.7759, -2.2901, -3.7464,\n",
       "         -1.2213, -3.4085,  2.6456,  3.3822, -0.8894, -1.2935]]), end_logits=tensor([[-1.2809, -5.4610, -5.0965, -5.2911, -5.5386, -5.4595, -5.3126, -4.6202,\n",
       "         -1.2809, -3.4540, -0.8159, -3.7237, -2.7964, -1.0135,  1.1267, -2.5709,\n",
       "          5.6335,  0.0113, -3.9191,  0.5685,  5.2458, -1.2809]]), hidden_states=None, attentions=None)"
      ]
     },
     "execution_count": 55,
     "metadata": {},
     "output_type": "execute_result"
    }
   ],
   "source": [
    "outputs"
   ]
  },
  {
   "cell_type": "code",
   "execution_count": 67,
   "id": "e0839538-0611-4afd-9ae0-b93610cd65d4",
   "metadata": {},
   "outputs": [
    {
     "data": {
      "text/plain": [
       "tensor([[-1.2935, -4.7204, -5.3716, -5.2326, -5.2625, -5.3654, -4.9590, -6.0611,\n",
       "         -1.2935, -0.2044, -0.1700, -1.9096,  4.1928,  5.7759, -2.2901, -3.7464,\n",
       "         -1.2213, -3.4085,  2.6456,  3.3822, -0.8894, -1.2935]])"
      ]
     },
     "execution_count": 67,
     "metadata": {},
     "output_type": "execute_result"
    }
   ],
   "source": [
    "outputs.start_logits"
   ]
  },
  {
   "cell_type": "code",
   "execution_count": 68,
   "id": "15973d04-1e3e-4c31-9a25-dc59eed37efc",
   "metadata": {},
   "outputs": [],
   "source": [
    "start_logits = outputs.start_logits\n",
    "end_logits = outputs.end_logits"
   ]
  },
  {
   "cell_type": "code",
   "execution_count": null,
   "id": "b8e86876-a37c-40a4-ad45-d29ab6d889ed",
   "metadata": {},
   "outputs": [],
   "source": []
  },
  {
   "cell_type": "code",
   "execution_count": 69,
   "id": "2c53abe0-89c0-41f9-82ca-c86e213725f7",
   "metadata": {},
   "outputs": [],
   "source": [
    "start_idx = torch.argmax(start_logits)"
   ]
  },
  {
   "cell_type": "code",
   "execution_count": 71,
   "id": "70fb3d39-7de6-4aca-ba29-031284688e30",
   "metadata": {},
   "outputs": [],
   "source": [
    "end_idx = torch.argmax(end_logits) + 1"
   ]
  },
  {
   "cell_type": "code",
   "execution_count": 72,
   "id": "1ebbc191-38a4-42ab-926a-29e4d956e2c4",
   "metadata": {},
   "outputs": [
    {
     "data": {
      "text/plain": [
       "tensor(17)"
      ]
     },
     "execution_count": 72,
     "metadata": {},
     "output_type": "execute_result"
    }
   ],
   "source": [
    "end_idx"
   ]
  },
  {
   "cell_type": "code",
   "execution_count": 76,
   "id": "ec694622-df84-41b5-9bda-197f4c954b3b",
   "metadata": {},
   "outputs": [],
   "source": [
    "answer_span = inputs[\"input_ids\"][0][start_idx:end_idx]"
   ]
  },
  {
   "cell_type": "code",
   "execution_count": 77,
   "id": "eb69cd6c-73b1-4c0d-9096-2a5f67eaad8a",
   "metadata": {},
   "outputs": [],
   "source": [
    "answer = tokenizer.decode(answer_span)"
   ]
  },
  {
   "cell_type": "code",
   "execution_count": 78,
   "id": "4b13dc55-9034-4166-9c66-bbe9a58a5671",
   "metadata": {},
   "outputs": [
    {
     "data": {
      "text/plain": [
       "'1mb / minute'"
      ]
     },
     "execution_count": 78,
     "metadata": {},
     "output_type": "execute_result"
    }
   ],
   "source": [
    "answer"
   ]
  },
  {
   "cell_type": "markdown",
   "id": "9485e413-0a3f-495f-9f90-f5aa97ac3fcf",
   "metadata": {},
   "source": [
    "### Dealing with long passages"
   ]
  },
  {
   "cell_type": "markdown",
   "id": "2ac1ce8a-5ee0-4506-ae79-efbde4c230a4",
   "metadata": {},
   "source": [
    "##### Example 1"
   ]
  },
  {
   "cell_type": "code",
   "execution_count": 28,
   "id": "6dc2929d-82c9-434b-b2ab-3f5970ce9eeb",
   "metadata": {},
   "outputs": [],
   "source": [
    "example = dfs[\"train\"].iloc[0][[\"question\", \"context\"]]"
   ]
  },
  {
   "cell_type": "code",
   "execution_count": 31,
   "id": "777246dd-ea3b-45dc-9aa2-88c5fdf1103a",
   "metadata": {},
   "outputs": [
    {
     "data": {
      "text/plain": [
       "question                                     How is the bass?\n",
       "context     I have had Koss headphones in the past, Pro 4A...\n",
       "Name: 0, dtype: object"
      ]
     },
     "execution_count": 31,
     "metadata": {},
     "output_type": "execute_result"
    }
   ],
   "source": [
    "example"
   ]
  },
  {
   "cell_type": "code",
   "execution_count": 32,
   "id": "245f9552-dd67-46a7-9fa6-339fb9c167a8",
   "metadata": {},
   "outputs": [],
   "source": [
    "tokenized_example = tokenizer(\n",
    "    text=example[\"question\"], text_pair=example[\"context\"],\n",
    "    return_overflowing_tokens=True, max_length=100, stride=25\n",
    ")"
   ]
  },
  {
   "cell_type": "code",
   "execution_count": 33,
   "id": "6c042bc3-ccdf-4efe-9c8e-14c470b9d39f",
   "metadata": {},
   "outputs": [
    {
     "data": {
      "text/plain": [
       "{'input_ids': [[101, 2129, 2003, 1996, 3321, 1029, 102, 1045, 2031, 2018, 12849, 4757, 2132, 19093, 1999, 1996, 2627, 1010, 4013, 26424, 2050, 1998, 1053, 2480, 1011, 5585, 1012, 1996, 12849, 4757, 3417, 9331, 3217, 2003, 12109, 1998, 2038, 2307, 3321, 3433, 1012, 1996, 2147, 2307, 2007, 2026, 11924, 3042, 1998, 2064, 2022, 1000, 4565, 2039, 1000, 2000, 2022, 3344, 1999, 2026, 9055, 6598, 2030, 3274, 4524, 2302, 2893, 24514, 2098, 1012, 2027, 2024, 2200, 2422, 1998, 2079, 2025, 2514, 3082, 2030, 4562, 2091, 2006, 2115, 5551, 2130, 2044, 5962, 2000, 2189, 2007, 2068, 2006, 2035, 2154, 1012, 1996, 2614, 2003, 102], [101, 2129, 2003, 1996, 3321, 1029, 102, 1998, 2079, 2025, 2514, 3082, 2030, 4562, 2091, 2006, 2115, 5551, 2130, 2044, 5962, 2000, 2189, 2007, 2068, 2006, 2035, 2154, 1012, 1996, 2614, 2003, 2305, 1998, 2154, 2488, 2084, 2151, 4540, 1011, 13007, 2071, 2022, 1998, 2024, 2471, 2004, 2204, 2004, 1996, 4013, 26424, 2050, 1012, 2027, 2024, 1000, 2330, 2250, 1000, 2132, 19093, 2061, 2017, 3685, 2674, 1996, 3321, 2000, 1996, 10203, 4127, 1010, 2021, 2009, 3310, 2485, 1012, 2005, 1002, 3590, 1010, 2017, 3685, 2175, 3308, 1012, 102]], 'token_type_ids': [[0, 0, 0, 0, 0, 0, 0, 1, 1, 1, 1, 1, 1, 1, 1, 1, 1, 1, 1, 1, 1, 1, 1, 1, 1, 1, 1, 1, 1, 1, 1, 1, 1, 1, 1, 1, 1, 1, 1, 1, 1, 1, 1, 1, 1, 1, 1, 1, 1, 1, 1, 1, 1, 1, 1, 1, 1, 1, 1, 1, 1, 1, 1, 1, 1, 1, 1, 1, 1, 1, 1, 1, 1, 1, 1, 1, 1, 1, 1, 1, 1, 1, 1, 1, 1, 1, 1, 1, 1, 1, 1, 1, 1, 1, 1, 1, 1, 1, 1, 1], [0, 0, 0, 0, 0, 0, 0, 1, 1, 1, 1, 1, 1, 1, 1, 1, 1, 1, 1, 1, 1, 1, 1, 1, 1, 1, 1, 1, 1, 1, 1, 1, 1, 1, 1, 1, 1, 1, 1, 1, 1, 1, 1, 1, 1, 1, 1, 1, 1, 1, 1, 1, 1, 1, 1, 1, 1, 1, 1, 1, 1, 1, 1, 1, 1, 1, 1, 1, 1, 1, 1, 1, 1, 1, 1, 1, 1, 1, 1, 1, 1, 1, 1, 1, 1, 1, 1, 1]], 'attention_mask': [[1, 1, 1, 1, 1, 1, 1, 1, 1, 1, 1, 1, 1, 1, 1, 1, 1, 1, 1, 1, 1, 1, 1, 1, 1, 1, 1, 1, 1, 1, 1, 1, 1, 1, 1, 1, 1, 1, 1, 1, 1, 1, 1, 1, 1, 1, 1, 1, 1, 1, 1, 1, 1, 1, 1, 1, 1, 1, 1, 1, 1, 1, 1, 1, 1, 1, 1, 1, 1, 1, 1, 1, 1, 1, 1, 1, 1, 1, 1, 1, 1, 1, 1, 1, 1, 1, 1, 1, 1, 1, 1, 1, 1, 1, 1, 1, 1, 1, 1, 1], [1, 1, 1, 1, 1, 1, 1, 1, 1, 1, 1, 1, 1, 1, 1, 1, 1, 1, 1, 1, 1, 1, 1, 1, 1, 1, 1, 1, 1, 1, 1, 1, 1, 1, 1, 1, 1, 1, 1, 1, 1, 1, 1, 1, 1, 1, 1, 1, 1, 1, 1, 1, 1, 1, 1, 1, 1, 1, 1, 1, 1, 1, 1, 1, 1, 1, 1, 1, 1, 1, 1, 1, 1, 1, 1, 1, 1, 1, 1, 1, 1, 1, 1, 1, 1, 1, 1, 1]], 'overflow_to_sample_mapping': [0, 0]}"
      ]
     },
     "execution_count": 33,
     "metadata": {},
     "output_type": "execute_result"
    }
   ],
   "source": [
    "tokenized_example"
   ]
  },
  {
   "cell_type": "code",
   "execution_count": 34,
   "id": "ef7ba583-e24d-4a58-b21b-2c75a5cce837",
   "metadata": {},
   "outputs": [
    {
     "name": "stdout",
     "output_type": "stream",
     "text": [
      "window #0 has 100 tokens\n",
      "window #1 has 88 tokens\n"
     ]
    }
   ],
   "source": [
    "for idx, window in enumerate(tokenized_example[\"input_ids\"]):\n",
    "    print(f\"window #{idx} has {len(window)} tokens\")"
   ]
  },
  {
   "cell_type": "code",
   "execution_count": 35,
   "id": "ffcdbae8-afe9-432f-abf3-4a9094c202b2",
   "metadata": {},
   "outputs": [
    {
     "name": "stdout",
     "output_type": "stream",
     "text": [
      "[CLS] how is the bass? [SEP] i have had koss headphones in the past, pro 4aa and qz - 99. the koss portapro is portable and has great bass response. the work great with my android phone and can be \" rolled up \" to be carried in my motorcycle jacket or computer bag without getting crunched. they are very light and don't feel heavy or bear down on your ears even after listening to music with them on all day. the sound is [SEP]\n",
      "\n",
      "[CLS] how is the bass? [SEP] and don't feel heavy or bear down on your ears even after listening to music with them on all day. the sound is night and day better than any ear - bud could be and are almost as good as the pro 4aa. they are \" open air \" headphones so you cannot match the bass to the sealed types, but it comes close. for $ 32, you cannot go wrong. [SEP]\n",
      "\n"
     ]
    }
   ],
   "source": [
    "for window in tokenized_example[\"input_ids\"]:\n",
    "    print(f\"{tokenizer.decode(window)}\\n\")"
   ]
  },
  {
   "cell_type": "code",
   "execution_count": null,
   "id": "68a4200a-af31-4e23-ba79-9975956e25da",
   "metadata": {},
   "outputs": [],
   "source": []
  }
 ],
 "metadata": {
  "kernelspec": {
   "display_name": "Python 3 (ipykernel)",
   "language": "python",
   "name": "python3"
  },
  "language_info": {
   "codemirror_mode": {
    "name": "ipython",
    "version": 3
   },
   "file_extension": ".py",
   "mimetype": "text/x-python",
   "name": "python",
   "nbconvert_exporter": "python",
   "pygments_lexer": "ipython3",
   "version": "3.9.13"
  }
 },
 "nbformat": 4,
 "nbformat_minor": 5
}
