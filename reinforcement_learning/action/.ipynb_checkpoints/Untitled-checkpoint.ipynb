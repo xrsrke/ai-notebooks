{
 "cells": [
  {
   "cell_type": "code",
   "execution_count": null,
   "id": "ebab5cb3-2a2d-4e6c-aca5-6f1b7a4ec0f1",
   "metadata": {},
   "outputs": [],
   "source": []
  }
 ],
 "metadata": {
  "kernelspec": {
   "display_name": "Python 3 (ipykernel)",
   "language": "python",
   "name": "python3"
  },
  "language_info": {
   "name": ""
  }
 },
 "nbformat": 4,
 "nbformat_minor": 5
}
