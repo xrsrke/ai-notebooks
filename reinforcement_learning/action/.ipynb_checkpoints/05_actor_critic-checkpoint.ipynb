{
 "cells": [
  {
   "cell_type": "markdown",
   "id": "626006a6-ba54-4aa7-b799-82c1be447b30",
   "metadata": {},
   "source": [
    "### Multiprocessing"
   ]
  },
  {
   "cell_type": "markdown",
   "id": "5398a369-c622-4afc-801f-54fe214d1df6",
   "metadata": {},
   "source": [
    "##### Example 1"
   ]
  },
  {
   "cell_type": "code",
   "execution_count": 24,
   "id": "0bd8b577-51b5-482a-baca-b8a6ec9723d5",
   "metadata": {},
   "outputs": [],
   "source": [
    "import multiprocessing"
   ]
  },
  {
   "cell_type": "code",
   "execution_count": 25,
   "id": "787779e2-2912-4656-abca-dc0e16d771d5",
   "metadata": {},
   "outputs": [],
   "source": [
    "numbers = [[1, 2, 3], [4, 5, 6]]"
   ]
  },
  {
   "cell_type": "code",
   "execution_count": 26,
   "id": "6fb4d6b9-4788-4fc5-b0c0-84e175073242",
   "metadata": {},
   "outputs": [],
   "source": [
    "with multiprocessing.Pool(4) as pool:\n",
    "    result = pool.map(sum, numbers)"
   ]
  },
  {
   "cell_type": "code",
   "execution_count": 29,
   "id": "cc2f0d17-367c-4a24-9e6a-08c3ef43d5d4",
   "metadata": {},
   "outputs": [],
   "source": [
    "def sum_numbers(xs):\n",
    "    return sum(xs)"
   ]
  },
  {
   "cell_type": "code",
   "execution_count": 32,
   "id": "607b3839-42c5-491d-8898-b53c4f85591f",
   "metadata": {},
   "outputs": [],
   "source": [
    "with multiprocessing.Pool(4) as pool:\n",
    "    result = pool.map(sum_numbers, numbers)"
   ]
  },
  {
   "cell_type": "code",
   "execution_count": 33,
   "id": "b5cf275c-ca44-4d68-9999-6be4d7d07bd1",
   "metadata": {},
   "outputs": [
    {
     "data": {
      "text/plain": [
       "[6, 15]"
      ]
     },
     "execution_count": 33,
     "metadata": {},
     "output_type": "execute_result"
    }
   ],
   "source": [
    "result"
   ]
  },
  {
   "cell_type": "code",
   "execution_count": null,
   "id": "04102410-32bc-4896-9b29-0d7bc0d08746",
   "metadata": {},
   "outputs": [],
   "source": []
  }
 ],
 "metadata": {
  "kernelspec": {
   "display_name": "Python 3 (ipykernel)",
   "language": "python",
   "name": "python3"
  },
  "language_info": {
   "codemirror_mode": {
    "name": "ipython",
    "version": 3
   },
   "file_extension": ".py",
   "mimetype": "text/x-python",
   "name": "python",
   "nbconvert_exporter": "python",
   "pygments_lexer": "ipython3",
   "version": "3.9.13"
  }
 },
 "nbformat": 4,
 "nbformat_minor": 5
}
