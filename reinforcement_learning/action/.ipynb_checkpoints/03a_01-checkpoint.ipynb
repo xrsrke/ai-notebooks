{
 "cells": [
  {
   "cell_type": "code",
   "execution_count": 6,
   "id": "ebab5cb3-2a2d-4e6c-aca5-6f1b7a4ec0f1",
   "metadata": {},
   "outputs": [],
   "source": [
    "import random\n",
    "import numpy as np"
   ]
  },
  {
   "cell_type": "code",
   "execution_count": 2,
   "id": "690dee6a-8836-437a-a975-9a29b5c697f9",
   "metadata": {},
   "outputs": [],
   "source": [
    "n_state = 4\n",
    "n_action = 3"
   ]
  },
  {
   "cell_type": "code",
   "execution_count": 3,
   "id": "40b9710c-8461-4a19-8cac-817ac5303713",
   "metadata": {},
   "outputs": [],
   "source": [
    "q = np.zeros((n_state, n_action))"
   ]
  },
  {
   "cell_type": "code",
   "execution_count": 4,
   "id": "87bee248-8b7a-4f9d-b799-04b299fbbb2e",
   "metadata": {},
   "outputs": [
    {
     "data": {
      "text/plain": [
       "array([[0., 0., 0.],\n",
       "       [0., 0., 0.],\n",
       "       [0., 0., 0.],\n",
       "       [0., 0., 0.]])"
      ]
     },
     "execution_count": 4,
     "metadata": {},
     "output_type": "execute_result"
    }
   ],
   "source": [
    "q"
   ]
  },
  {
   "cell_type": "code",
   "execution_count": 5,
   "id": "03b19ab9-59f5-4414-a5ad-90e96829b9a9",
   "metadata": {},
   "outputs": [],
   "source": [
    "epsilon = 0.2"
   ]
  },
  {
   "cell_type": "code",
   "execution_count": 8,
   "id": "a935a035-3da4-420b-87e1-759227af6c83",
   "metadata": {},
   "outputs": [],
   "source": [
    "if random.uniform(0, 1) < epsilon:\n",
    "    pass\n",
    "else:\n",
    "    pass"
   ]
  },
  {
   "cell_type": "code",
   "execution_count": null,
   "id": "a05cac70-f6fb-462e-9df7-42811859e8aa",
   "metadata": {},
   "outputs": [],
   "source": [
    "Q[state, action] = Q[state, action] + lr * (reward + gamma*np.)"
   ]
  }
 ],
 "metadata": {
  "kernelspec": {
   "display_name": "Python 3 (ipykernel)",
   "language": "python",
   "name": "python3"
  },
  "language_info": {
   "codemirror_mode": {
    "name": "ipython",
    "version": 3
   },
   "file_extension": ".py",
   "mimetype": "text/x-python",
   "name": "python",
   "nbconvert_exporter": "python",
   "pygments_lexer": "ipython3",
   "version": "3.9.13"
  }
 },
 "nbformat": 4,
 "nbformat_minor": 5
}
