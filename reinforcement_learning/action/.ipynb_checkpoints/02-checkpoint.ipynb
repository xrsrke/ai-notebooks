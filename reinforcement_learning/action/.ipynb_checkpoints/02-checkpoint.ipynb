{
 "cells": [
  {
   "cell_type": "markdown",
   "id": "d1601217-e19f-4b2c-80b1-eed29438bf1e",
   "metadata": {},
   "source": [
    "### 2.2 Solving the multi-arm bandit"
   ]
  },
  {
   "cell_type": "code",
   "execution_count": null,
   "id": "75ee7e0c-b3cc-414d-8672-a2594b171c0f",
   "metadata": {},
   "outputs": [],
   "source": [
    "def exp_reward(action, history):\n",
    "    rewards_for_action = history[action]\n",
    "    return sum(rewards_for_action) / len(rewards_for_action)"
   ]
  },
  {
   "cell_type": "code",
   "execution_count": null,
   "id": "61f78683-26f3-42c9-a800-07f14869a1cf",
   "metadata": {},
   "outputs": [],
   "source": [
    "def get_best_action(actions):\n",
    "    best_action = 0\n",
    "    max_action_value = 0\n",
    "    \n",
    "    for i in range(len(actions)):\n",
    "        cur_action_value = get_action_value(actions[i])\n",
    "        if cur_action_value > max_action_value:\n",
    "            best_action = i\n",
    "            max_action_value = cur_action_value\n",
    "        \n",
    "    return best_action"
   ]
  },
  {
   "cell_type": "markdown",
   "id": "cab72e00-c0d8-437a-8d3f-144306aff21a",
   "metadata": {
    "tags": []
   },
   "source": [
    "#### 2.2.2 Epsilon-greedy strategy"
   ]
  },
  {
   "cell_type": "code",
   "execution_count": 1,
   "id": "40219d22-109f-4d56-9c09-3e5a08cf31ed",
   "metadata": {},
   "outputs": [],
   "source": [
    "import numpy as np\n",
    "from scipy import stats\n",
    "import random\n",
    "import matplotlib.pyplot as plt"
   ]
  },
  {
   "cell_type": "code",
   "execution_count": 2,
   "id": "3fb70409-3822-4a84-9518-62f2c600d26d",
   "metadata": {},
   "outputs": [],
   "source": [
    "n = 10\n",
    "probs = np.random.rand(n)\n",
    "eps = 0.2"
   ]
  },
  {
   "cell_type": "code",
   "execution_count": 3,
   "id": "4d72e0e4-63d6-4efc-b38b-902490199a65",
   "metadata": {},
   "outputs": [
    {
     "data": {
      "text/plain": [
       "array([0.95857878, 0.55877142, 0.30417299, 0.89839936, 0.86713369,\n",
       "       0.68798687, 0.2600554 , 0.40608107, 0.82691538, 0.85724486])"
      ]
     },
     "execution_count": 3,
     "metadata": {},
     "output_type": "execute_result"
    }
   ],
   "source": [
    "probs"
   ]
  },
  {
   "cell_type": "code",
   "execution_count": 4,
   "id": "7fde38c3-ce40-4748-8149-ded2f8191125",
   "metadata": {},
   "outputs": [],
   "source": [
    "def get_reward(prob, n=10):\n",
    "    reward = 0\n",
    "    for i in range(n):\n",
    "        if random.random() < prob:\n",
    "            reward += 1\n",
    "    \n",
    "    return reward"
   ]
  },
  {
   "cell_type": "code",
   "execution_count": 5,
   "id": "72995738-8c58-4133-8335-248ebaff280f",
   "metadata": {},
   "outputs": [
    {
     "data": {
      "text/plain": [
       "0.647440214309859"
      ]
     },
     "execution_count": 5,
     "metadata": {},
     "output_type": "execute_result"
    }
   ],
   "source": [
    "random.random()"
   ]
  },
  {
   "cell_type": "code",
   "execution_count": 6,
   "id": "1ddda611-dd4e-4ec7-a934-053a06802860",
   "metadata": {},
   "outputs": [
    {
     "data": {
      "text/plain": [
       "6.996"
      ]
     },
     "execution_count": 6,
     "metadata": {},
     "output_type": "execute_result"
    }
   ],
   "source": [
    "np.mean([get_reward(0.7) for _ in range(2000)])"
   ]
  },
  {
   "cell_type": "code",
   "execution_count": null,
   "id": "827d2b00-dbac-4026-962b-09b2fdcaaa93",
   "metadata": {},
   "outputs": [],
   "source": []
  },
  {
   "cell_type": "markdown",
   "id": "c2dd81c6-1335-496c-9d34-f7d094f63a1d",
   "metadata": {},
   "source": [
    "- The first column of `record` will store the number of times each arm has been pulled\n",
    "- The second column of `record` will store the running average reward"
   ]
  },
  {
   "cell_type": "code",
   "execution_count": 7,
   "id": "7b27659a-78bc-46a1-aff7-64014ccb6337",
   "metadata": {},
   "outputs": [],
   "source": [
    "record = np.zeros((n, 2))"
   ]
  },
  {
   "cell_type": "markdown",
   "id": "d0345e95-fbca-41f4-8b2f-f309f00aab88",
   "metadata": {},
   "source": [
    "$\\mu_{n e w}=\\frac{k \\cdot \\mu_{o l d}+x}{k+1}$"
   ]
  },
  {
   "cell_type": "code",
   "execution_count": 8,
   "id": "6157cdad-a9bb-4db9-acca-fc95d8f1b1b7",
   "metadata": {},
   "outputs": [],
   "source": [
    "def update_record(record, action, r):\n",
    "    k = record[action, 0]\n",
    "    mean_old = record[action, 1]\n",
    "    \n",
    "    new_r = (k * mean_old + r) / (k + 1)\n",
    "    \n",
    "    record[action, 0] += 1\n",
    "    record[action, 1] = new_r\n",
    "    \n",
    "    return record"
   ]
  },
  {
   "cell_type": "code",
   "execution_count": 9,
   "id": "1fa4da85-f8a8-44f2-ab11-29b702be1603",
   "metadata": {},
   "outputs": [],
   "source": [
    "def get_best_arm(record):\n",
    "    arm_index = np.argmax(record[:, 1], axis=0)\n",
    "    return arm_index"
   ]
  },
  {
   "cell_type": "markdown",
   "id": "05a7f5a7-5546-44ec-976e-b72153af5805",
   "metadata": {},
   "source": [
    "##### Solving the $n$-armed bandit"
   ]
  },
  {
   "cell_type": "code",
   "execution_count": 10,
   "id": "aefc0c3a-5a21-453c-8bf4-2b911dceb370",
   "metadata": {},
   "outputs": [
    {
     "data": {
      "text/plain": [
       "<matplotlib.collections.PathCollection at 0x7fcf580c4160>"
      ]
     },
     "execution_count": 10,
     "metadata": {},
     "output_type": "execute_result"
    },
    {
     "data": {
      "image/png": "[encoded data removed]",
      "text/plain": [
       "<Figure size 432x288 with 1 Axes>"
      ]
     },
     "metadata": {
      "needs_background": "light"
     },
     "output_type": "display_data"
    }
   ],
   "source": [
    "fig, ax = plt.subplots(1, 1)\n",
    "ax.set_xlabel(\"Plays\")\n",
    "ax.set_ylabel(\"Avg Reward\")\n",
    "record = np.zeros((n, 2))\n",
    "\n",
    "# probabilities of reward for each arm\n",
    "probs = np.random.randn(n)\n",
    "\n",
    "eps = 0.2\n",
    "\n",
    "rewards = [0]\n",
    "\n",
    "for i in range(500):\n",
    "    if random.random() > eps:\n",
    "        choice = get_best_arm(record)\n",
    "    else:\n",
    "        choice = np.random.randint(10)\n",
    "    \n",
    "    r = get_reward(probs[choice])\n",
    "    record = update_record(record, choice, r)\n",
    "    mean_reward = ((i+1) * rewards[-1] + r) / (i+2)\n",
    "    rewards.append(mean_reward)\n",
    "    \n",
    "ax.scatter(np.arange(len(rewards)), rewards)"
   ]
  },
  {
   "cell_type": "code",
   "execution_count": 11,
   "id": "7d8af94f-f95e-495f-bbbe-3f7e70f5bc43",
   "metadata": {},
   "outputs": [
    {
     "data": {
      "text/plain": [
       "array([ 1.41504339, -1.39738126, -0.04627592,  0.25408151,  0.32893162,\n",
       "        0.52917802, -0.35852607,  1.28704359, -1.78774021, -0.11061066])"
      ]
     },
     "execution_count": 11,
     "metadata": {},
     "output_type": "execute_result"
    }
   ],
   "source": [
    "probs"
   ]
  },
  {
   "cell_type": "markdown",
   "id": "1b2c62eb-0485-4c3f-aa39-3f973f8adc4f",
   "metadata": {},
   "source": [
    "### 2.5 Solving contextual bandits"
   ]
  },
  {
   "cell_type": "code",
   "execution_count": 12,
   "id": "86c2ea9c-ea6d-455a-88aa-e3c562414e1e",
   "metadata": {},
   "outputs": [],
   "source": [
    "import numpy as np\n",
    "import torch\n",
    "from torch import nn"
   ]
  },
  {
   "cell_type": "markdown",
   "id": "67fc88e9-3d67-481c-9fee-0618d89bc149",
   "metadata": {},
   "source": [
    "- `N`: batch_size\n",
    "- `D_in`: the input dimension\n",
    "- `H`: the hidden dimension\n",
    "- `D_out`: the output dimension"
   ]
  },
  {
   "cell_type": "code",
   "execution_count": 13,
   "id": "4982be15-70f6-4215-ba8c-55ea313ba99e",
   "metadata": {},
   "outputs": [],
   "source": [
    "arms = 10\n",
    "N, D_in, H, D_out = 1, arms, 100, arms"
   ]
  },
  {
   "cell_type": "code",
   "execution_count": 14,
   "id": "52e61725-3cff-4378-85b8-5ee3fc8c15cd",
   "metadata": {},
   "outputs": [],
   "source": [
    "model = nn.Sequential(\n",
    "    nn.Linear(D_in, H),\n",
    "    nn.ReLU(),\n",
    "    nn.Linear(H, D_out),\n",
    "    nn.ReLU()\n",
    ")"
   ]
  },
  {
   "cell_type": "code",
   "execution_count": 15,
   "id": "d0586c09-f5de-4950-bc8b-cb4c28efa46a",
   "metadata": {},
   "outputs": [],
   "source": [
    "loss_func = nn.MSELoss()"
   ]
  },
  {
   "cell_type": "code",
   "execution_count": 24,
   "id": "d09ce653-2897-4f8e-a480-5c6c9937675e",
   "metadata": {},
   "outputs": [],
   "source": [
    "class ContextBandit:\n",
    "    def __init__(self, arms=10):\n",
    "        self.arms = arms\n",
    "        self.init_distribution(arms)\n",
    "        self.update_state()\n",
    "    \n",
    "    def init_distribution(self, arms):\n",
    "        self.bandit_matrix = np.random.rand(arms, arms)\n",
    "    \n",
    "    def reward(self, prob):\n",
    "        reward = 0\n",
    "        for i in range(self.arms):\n",
    "            if random.random() < prob:\n",
    "                reward += 1\n",
    "        \n",
    "        return reward\n",
    "    \n",
    "    def get_state(self): return self.state\n",
    "    \n",
    "    def update_state(self):\n",
    "        self.state = np.random.randint(0, self.arms)\n",
    "    \n",
    "    def get_reward (self, arm):\n",
    "        return self.reward(self.bandit_matrix[self.get_state()][arm])\n",
    "\n",
    "    def choose_arm(self, arm):\n",
    "        reward = self.get_reward(arm)\n",
    "        self.update_state()\n",
    "        return reward"
   ]
  },
  {
   "cell_type": "code",
   "execution_count": 25,
   "id": "23ca9a99-02a3-4b5f-b025-b5d1da38ecbd",
   "metadata": {},
   "outputs": [],
   "source": [
    "env = ContextBandit(arms=10)"
   ]
  },
  {
   "cell_type": "code",
   "execution_count": 26,
   "id": "3b3d2208-9ac6-4471-be2e-999238f308b0",
   "metadata": {},
   "outputs": [],
   "source": [
    "state = env.get_state()"
   ]
  },
  {
   "cell_type": "code",
   "execution_count": 27,
   "id": "c54bfd88-87cf-4ae2-9d69-b2e1356fbca8",
   "metadata": {},
   "outputs": [
    {
     "data": {
      "text/plain": [
       "1"
      ]
     },
     "execution_count": 27,
     "metadata": {},
     "output_type": "execute_result"
    }
   ],
   "source": [
    "state"
   ]
  },
  {
   "cell_type": "code",
   "execution_count": 28,
   "id": "a8a2b4c1-eecd-49b9-a621-f0aea95d6530",
   "metadata": {},
   "outputs": [],
   "source": [
    "reward = env.choose_arm(1)"
   ]
  },
  {
   "cell_type": "code",
   "execution_count": 29,
   "id": "baca9279-f069-42af-9cc5-d972c73f7d94",
   "metadata": {},
   "outputs": [
    {
     "data": {
      "text/plain": [
       "8"
      ]
     },
     "execution_count": 29,
     "metadata": {},
     "output_type": "execute_result"
    }
   ],
   "source": [
    "reward"
   ]
  },
  {
   "cell_type": "code",
   "execution_count": null,
   "id": "c35a3f61-5558-4aa9-b9f7-24bfe104ddc3",
   "metadata": {},
   "outputs": [],
   "source": []
  }
 ],
 "metadata": {
  "kernelspec": {
   "display_name": "Python 3 (ipykernel)",
   "language": "python",
   "name": "python3"
  },
  "language_info": {
   "codemirror_mode": {
    "name": "ipython",
    "version": 3
   },
   "file_extension": ".py",
   "mimetype": "text/x-python",
   "name": "python",
   "nbconvert_exporter": "python",
   "pygments_lexer": "ipython3",
   "version": "3.9.13"
  }
 },
 "nbformat": 4,
 "nbformat_minor": 5
}
