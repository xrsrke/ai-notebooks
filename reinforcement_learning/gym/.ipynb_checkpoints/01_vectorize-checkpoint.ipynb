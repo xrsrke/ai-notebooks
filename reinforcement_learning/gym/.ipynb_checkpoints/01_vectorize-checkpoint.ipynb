{
 "cells": [
  {
   "cell_type": "markdown",
   "id": "11ea5329-9271-4cca-b001-4a50313e8d0f",
   "metadata": {},
   "source": [
    "### `vector.SyncVectorEnv`"
   ]
  },
  {
   "cell_type": "code",
   "execution_count": 1,
   "id": "95f0587f-b70d-4c3c-97a6-912bf897e423",
   "metadata": {},
   "outputs": [],
   "source": [
    "import gymnasium as gym"
   ]
  },
  {
   "cell_type": "markdown",
   "id": "5c2f3bb7-719c-4af0-b90b-1a640fd829ae",
   "metadata": {},
   "source": [
    "##### Example 1"
   ]
  },
  {
   "cell_type": "code",
   "execution_count": 13,
   "id": "2532b1fb-8f8e-4de3-9a52-8438f07e0ca6",
   "metadata": {},
   "outputs": [],
   "source": [
    "import gymnasium as gym"
   ]
  },
  {
   "cell_type": "markdown",
   "id": "02e663ea-3355-4f2b-aa3e-ad21f15916d9",
   "metadata": {},
   "source": [
    "Create three environments `CartPole-v1` by vectorize it to run multiple environments"
   ]
  },
  {
   "cell_type": "code",
   "execution_count": 14,
   "id": "ae9b82a5-45a2-4fa7-98c5-69ef65910714",
   "metadata": {},
   "outputs": [],
   "source": [
    "envs = gym.vector.SyncVectorEnv([\n",
    "    lambda: gym.make(\"CartPole-v1\"),\n",
    "    lambda: gym.make(\"CartPole-v1\"),\n",
    "    lambda: gym.make(\"CartPole-v1\")\n",
    "])"
   ]
  },
  {
   "cell_type": "code",
   "execution_count": 15,
   "id": "abc83498-f265-4b45-a739-93c51493bae4",
   "metadata": {},
   "outputs": [
    {
     "data": {
      "text/plain": [
       "(array([[-0.02075857,  0.03554037, -0.01980324,  0.01276776],\n",
       "        [ 0.02915691, -0.04145871,  0.03661719,  0.02340175],\n",
       "        [-0.01834744, -0.00575758,  0.03065165,  0.04163245]],\n",
       "       dtype=float32),\n",
       " {})"
      ]
     },
     "execution_count": 15,
     "metadata": {},
     "output_type": "execute_result"
    }
   ],
   "source": [
    "envs.reset()"
   ]
  },
  {
   "cell_type": "code",
   "execution_count": 17,
   "id": "ffabd2b9-5106-4df6-85fa-2942cebe9333",
   "metadata": {},
   "outputs": [
    {
     "data": {
      "text/plain": [
       "Discrete(2)"
      ]
     },
     "execution_count": 17,
     "metadata": {},
     "output_type": "execute_result"
    }
   ],
   "source": [
    "envs.single_action_space"
   ]
  },
  {
   "cell_type": "code",
   "execution_count": null,
   "id": "ba69c79c-b066-453d-ac2e-c3dc3b4b1429",
   "metadata": {},
   "outputs": [],
   "source": []
  }
 ],
 "metadata": {
  "kernelspec": {
   "display_name": "Python 3 (ipykernel)",
   "language": "python",
   "name": "python3"
  },
  "language_info": {
   "codemirror_mode": {
    "name": "ipython",
    "version": 3
   },
   "file_extension": ".py",
   "mimetype": "text/x-python",
   "name": "python",
   "nbconvert_exporter": "python",
   "pygments_lexer": "ipython3",
   "version": "3.9.13"
  }
 },
 "nbformat": 4,
 "nbformat_minor": 5
}
